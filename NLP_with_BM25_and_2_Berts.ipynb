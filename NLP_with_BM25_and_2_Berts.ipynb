{
  "nbformat": 4,
  "nbformat_minor": 0,
  "metadata": {
    "colab": {
      "provenance": []
    },
    "kernelspec": {
      "name": "python3",
      "display_name": "Python 3"
    },
    "language_info": {
      "name": "python"
    },
    "accelerator": "GPU",
    "gpuClass": "standard",
    "widgets": {
      "application/vnd.jupyter.widget-state+json": {
        "3c9342d12b66481ea2dc312fa7e1f22c": {
          "model_module": "@jupyter-widgets/controls",
          "model_name": "HBoxModel",
          "model_module_version": "1.5.0",
          "state": {
            "_dom_classes": [],
            "_model_module": "@jupyter-widgets/controls",
            "_model_module_version": "1.5.0",
            "_model_name": "HBoxModel",
            "_view_count": null,
            "_view_module": "@jupyter-widgets/controls",
            "_view_module_version": "1.5.0",
            "_view_name": "HBoxView",
            "box_style": "",
            "children": [
              "IPY_MODEL_830cded9492c4b71a7f6e3ca65136125",
              "IPY_MODEL_1a50fb0483ff4886afa206bf3c8ca013",
              "IPY_MODEL_7fb388c161d245c999931c78a50df6d0"
            ],
            "layout": "IPY_MODEL_398276f9004b4cc48e754b5056b2f65e"
          }
        },
        "830cded9492c4b71a7f6e3ca65136125": {
          "model_module": "@jupyter-widgets/controls",
          "model_name": "HTMLModel",
          "model_module_version": "1.5.0",
          "state": {
            "_dom_classes": [],
            "_model_module": "@jupyter-widgets/controls",
            "_model_module_version": "1.5.0",
            "_model_name": "HTMLModel",
            "_view_count": null,
            "_view_module": "@jupyter-widgets/controls",
            "_view_module_version": "1.5.0",
            "_view_name": "HTMLView",
            "description": "",
            "description_tooltip": null,
            "layout": "IPY_MODEL_18532b39855f4e7eac4c4a11f183fc8e",
            "placeholder": "​",
            "style": "IPY_MODEL_cf7c6196523d40c8963ea0b3047394f7",
            "value": "Downloading (…)lve/main/config.json: 100%"
          }
        },
        "1a50fb0483ff4886afa206bf3c8ca013": {
          "model_module": "@jupyter-widgets/controls",
          "model_name": "FloatProgressModel",
          "model_module_version": "1.5.0",
          "state": {
            "_dom_classes": [],
            "_model_module": "@jupyter-widgets/controls",
            "_model_module_version": "1.5.0",
            "_model_name": "FloatProgressModel",
            "_view_count": null,
            "_view_module": "@jupyter-widgets/controls",
            "_view_module_version": "1.5.0",
            "_view_name": "ProgressView",
            "bar_style": "success",
            "description": "",
            "description_tooltip": null,
            "layout": "IPY_MODEL_6cb89e06f98b466d8bfe36a36e63e85c",
            "max": 762,
            "min": 0,
            "orientation": "horizontal",
            "style": "IPY_MODEL_0833d6fab107404a8411e98c7a18c959",
            "value": 762
          }
        },
        "7fb388c161d245c999931c78a50df6d0": {
          "model_module": "@jupyter-widgets/controls",
          "model_name": "HTMLModel",
          "model_module_version": "1.5.0",
          "state": {
            "_dom_classes": [],
            "_model_module": "@jupyter-widgets/controls",
            "_model_module_version": "1.5.0",
            "_model_name": "HTMLModel",
            "_view_count": null,
            "_view_module": "@jupyter-widgets/controls",
            "_view_module_version": "1.5.0",
            "_view_name": "HTMLView",
            "description": "",
            "description_tooltip": null,
            "layout": "IPY_MODEL_78ede8d773394e55bbb7c8b5686b09a2",
            "placeholder": "​",
            "style": "IPY_MODEL_aaa34bd0999d4de18a87b6d15781cc6e",
            "value": " 762/762 [00:00&lt;00:00, 24.9kB/s]"
          }
        },
        "398276f9004b4cc48e754b5056b2f65e": {
          "model_module": "@jupyter-widgets/base",
          "model_name": "LayoutModel",
          "model_module_version": "1.2.0",
          "state": {
            "_model_module": "@jupyter-widgets/base",
            "_model_module_version": "1.2.0",
            "_model_name": "LayoutModel",
            "_view_count": null,
            "_view_module": "@jupyter-widgets/base",
            "_view_module_version": "1.2.0",
            "_view_name": "LayoutView",
            "align_content": null,
            "align_items": null,
            "align_self": null,
            "border": null,
            "bottom": null,
            "display": null,
            "flex": null,
            "flex_flow": null,
            "grid_area": null,
            "grid_auto_columns": null,
            "grid_auto_flow": null,
            "grid_auto_rows": null,
            "grid_column": null,
            "grid_gap": null,
            "grid_row": null,
            "grid_template_areas": null,
            "grid_template_columns": null,
            "grid_template_rows": null,
            "height": null,
            "justify_content": null,
            "justify_items": null,
            "left": null,
            "margin": null,
            "max_height": null,
            "max_width": null,
            "min_height": null,
            "min_width": null,
            "object_fit": null,
            "object_position": null,
            "order": null,
            "overflow": null,
            "overflow_x": null,
            "overflow_y": null,
            "padding": null,
            "right": null,
            "top": null,
            "visibility": null,
            "width": null
          }
        },
        "18532b39855f4e7eac4c4a11f183fc8e": {
          "model_module": "@jupyter-widgets/base",
          "model_name": "LayoutModel",
          "model_module_version": "1.2.0",
          "state": {
            "_model_module": "@jupyter-widgets/base",
            "_model_module_version": "1.2.0",
            "_model_name": "LayoutModel",
            "_view_count": null,
            "_view_module": "@jupyter-widgets/base",
            "_view_module_version": "1.2.0",
            "_view_name": "LayoutView",
            "align_content": null,
            "align_items": null,
            "align_self": null,
            "border": null,
            "bottom": null,
            "display": null,
            "flex": null,
            "flex_flow": null,
            "grid_area": null,
            "grid_auto_columns": null,
            "grid_auto_flow": null,
            "grid_auto_rows": null,
            "grid_column": null,
            "grid_gap": null,
            "grid_row": null,
            "grid_template_areas": null,
            "grid_template_columns": null,
            "grid_template_rows": null,
            "height": null,
            "justify_content": null,
            "justify_items": null,
            "left": null,
            "margin": null,
            "max_height": null,
            "max_width": null,
            "min_height": null,
            "min_width": null,
            "object_fit": null,
            "object_position": null,
            "order": null,
            "overflow": null,
            "overflow_x": null,
            "overflow_y": null,
            "padding": null,
            "right": null,
            "top": null,
            "visibility": null,
            "width": null
          }
        },
        "cf7c6196523d40c8963ea0b3047394f7": {
          "model_module": "@jupyter-widgets/controls",
          "model_name": "DescriptionStyleModel",
          "model_module_version": "1.5.0",
          "state": {
            "_model_module": "@jupyter-widgets/controls",
            "_model_module_version": "1.5.0",
            "_model_name": "DescriptionStyleModel",
            "_view_count": null,
            "_view_module": "@jupyter-widgets/base",
            "_view_module_version": "1.2.0",
            "_view_name": "StyleView",
            "description_width": ""
          }
        },
        "6cb89e06f98b466d8bfe36a36e63e85c": {
          "model_module": "@jupyter-widgets/base",
          "model_name": "LayoutModel",
          "model_module_version": "1.2.0",
          "state": {
            "_model_module": "@jupyter-widgets/base",
            "_model_module_version": "1.2.0",
            "_model_name": "LayoutModel",
            "_view_count": null,
            "_view_module": "@jupyter-widgets/base",
            "_view_module_version": "1.2.0",
            "_view_name": "LayoutView",
            "align_content": null,
            "align_items": null,
            "align_self": null,
            "border": null,
            "bottom": null,
            "display": null,
            "flex": null,
            "flex_flow": null,
            "grid_area": null,
            "grid_auto_columns": null,
            "grid_auto_flow": null,
            "grid_auto_rows": null,
            "grid_column": null,
            "grid_gap": null,
            "grid_row": null,
            "grid_template_areas": null,
            "grid_template_columns": null,
            "grid_template_rows": null,
            "height": null,
            "justify_content": null,
            "justify_items": null,
            "left": null,
            "margin": null,
            "max_height": null,
            "max_width": null,
            "min_height": null,
            "min_width": null,
            "object_fit": null,
            "object_position": null,
            "order": null,
            "overflow": null,
            "overflow_x": null,
            "overflow_y": null,
            "padding": null,
            "right": null,
            "top": null,
            "visibility": null,
            "width": null
          }
        },
        "0833d6fab107404a8411e98c7a18c959": {
          "model_module": "@jupyter-widgets/controls",
          "model_name": "ProgressStyleModel",
          "model_module_version": "1.5.0",
          "state": {
            "_model_module": "@jupyter-widgets/controls",
            "_model_module_version": "1.5.0",
            "_model_name": "ProgressStyleModel",
            "_view_count": null,
            "_view_module": "@jupyter-widgets/base",
            "_view_module_version": "1.2.0",
            "_view_name": "StyleView",
            "bar_color": null,
            "description_width": ""
          }
        },
        "78ede8d773394e55bbb7c8b5686b09a2": {
          "model_module": "@jupyter-widgets/base",
          "model_name": "LayoutModel",
          "model_module_version": "1.2.0",
          "state": {
            "_model_module": "@jupyter-widgets/base",
            "_model_module_version": "1.2.0",
            "_model_name": "LayoutModel",
            "_view_count": null,
            "_view_module": "@jupyter-widgets/base",
            "_view_module_version": "1.2.0",
            "_view_name": "LayoutView",
            "align_content": null,
            "align_items": null,
            "align_self": null,
            "border": null,
            "bottom": null,
            "display": null,
            "flex": null,
            "flex_flow": null,
            "grid_area": null,
            "grid_auto_columns": null,
            "grid_auto_flow": null,
            "grid_auto_rows": null,
            "grid_column": null,
            "grid_gap": null,
            "grid_row": null,
            "grid_template_areas": null,
            "grid_template_columns": null,
            "grid_template_rows": null,
            "height": null,
            "justify_content": null,
            "justify_items": null,
            "left": null,
            "margin": null,
            "max_height": null,
            "max_width": null,
            "min_height": null,
            "min_width": null,
            "object_fit": null,
            "object_position": null,
            "order": null,
            "overflow": null,
            "overflow_x": null,
            "overflow_y": null,
            "padding": null,
            "right": null,
            "top": null,
            "visibility": null,
            "width": null
          }
        },
        "aaa34bd0999d4de18a87b6d15781cc6e": {
          "model_module": "@jupyter-widgets/controls",
          "model_name": "DescriptionStyleModel",
          "model_module_version": "1.5.0",
          "state": {
            "_model_module": "@jupyter-widgets/controls",
            "_model_module_version": "1.5.0",
            "_model_name": "DescriptionStyleModel",
            "_view_count": null,
            "_view_module": "@jupyter-widgets/base",
            "_view_module_version": "1.2.0",
            "_view_name": "StyleView",
            "description_width": ""
          }
        },
        "e23eb9101c5847ecb1675af83b581a15": {
          "model_module": "@jupyter-widgets/controls",
          "model_name": "HBoxModel",
          "model_module_version": "1.5.0",
          "state": {
            "_dom_classes": [],
            "_model_module": "@jupyter-widgets/controls",
            "_model_module_version": "1.5.0",
            "_model_name": "HBoxModel",
            "_view_count": null,
            "_view_module": "@jupyter-widgets/controls",
            "_view_module_version": "1.5.0",
            "_view_name": "HBoxView",
            "box_style": "",
            "children": [
              "IPY_MODEL_2465a69323354de1ae0e258168e016db",
              "IPY_MODEL_d2ec346be44d45a595fc984938e6826c",
              "IPY_MODEL_7d3ad39253cd4a119d6913d54abbb6ec"
            ],
            "layout": "IPY_MODEL_123e83a10f0545089908f0de5e08a7d2"
          }
        },
        "2465a69323354de1ae0e258168e016db": {
          "model_module": "@jupyter-widgets/controls",
          "model_name": "HTMLModel",
          "model_module_version": "1.5.0",
          "state": {
            "_dom_classes": [],
            "_model_module": "@jupyter-widgets/controls",
            "_model_module_version": "1.5.0",
            "_model_name": "HTMLModel",
            "_view_count": null,
            "_view_module": "@jupyter-widgets/controls",
            "_view_module_version": "1.5.0",
            "_view_name": "HTMLView",
            "description": "",
            "description_tooltip": null,
            "layout": "IPY_MODEL_1199841d04414ca7843414b9b878576d",
            "placeholder": "​",
            "style": "IPY_MODEL_163c95f2d78840c2aa621fa41949fe5e",
            "value": "Downloading pytorch_model.bin: 100%"
          }
        },
        "d2ec346be44d45a595fc984938e6826c": {
          "model_module": "@jupyter-widgets/controls",
          "model_name": "FloatProgressModel",
          "model_module_version": "1.5.0",
          "state": {
            "_dom_classes": [],
            "_model_module": "@jupyter-widgets/controls",
            "_model_module_version": "1.5.0",
            "_model_name": "FloatProgressModel",
            "_view_count": null,
            "_view_module": "@jupyter-widgets/controls",
            "_view_module_version": "1.5.0",
            "_view_name": "ProgressView",
            "bar_style": "success",
            "description": "",
            "description_tooltip": null,
            "layout": "IPY_MODEL_277164349f23495eb3322ac94f900b1b",
            "max": 1338740706,
            "min": 0,
            "orientation": "horizontal",
            "style": "IPY_MODEL_0fe663d60fd54369921b51c303c43732",
            "value": 1338740706
          }
        },
        "7d3ad39253cd4a119d6913d54abbb6ec": {
          "model_module": "@jupyter-widgets/controls",
          "model_name": "HTMLModel",
          "model_module_version": "1.5.0",
          "state": {
            "_dom_classes": [],
            "_model_module": "@jupyter-widgets/controls",
            "_model_module_version": "1.5.0",
            "_model_name": "HTMLModel",
            "_view_count": null,
            "_view_module": "@jupyter-widgets/controls",
            "_view_module_version": "1.5.0",
            "_view_name": "HTMLView",
            "description": "",
            "description_tooltip": null,
            "layout": "IPY_MODEL_5317663dc4754a248fc491cb0b8a52a6",
            "placeholder": "​",
            "style": "IPY_MODEL_31fe09f20fc74691b5f5bf36a67db9e2",
            "value": " 1.34G/1.34G [00:15&lt;00:00, 91.6MB/s]"
          }
        },
        "123e83a10f0545089908f0de5e08a7d2": {
          "model_module": "@jupyter-widgets/base",
          "model_name": "LayoutModel",
          "model_module_version": "1.2.0",
          "state": {
            "_model_module": "@jupyter-widgets/base",
            "_model_module_version": "1.2.0",
            "_model_name": "LayoutModel",
            "_view_count": null,
            "_view_module": "@jupyter-widgets/base",
            "_view_module_version": "1.2.0",
            "_view_name": "LayoutView",
            "align_content": null,
            "align_items": null,
            "align_self": null,
            "border": null,
            "bottom": null,
            "display": null,
            "flex": null,
            "flex_flow": null,
            "grid_area": null,
            "grid_auto_columns": null,
            "grid_auto_flow": null,
            "grid_auto_rows": null,
            "grid_column": null,
            "grid_gap": null,
            "grid_row": null,
            "grid_template_areas": null,
            "grid_template_columns": null,
            "grid_template_rows": null,
            "height": null,
            "justify_content": null,
            "justify_items": null,
            "left": null,
            "margin": null,
            "max_height": null,
            "max_width": null,
            "min_height": null,
            "min_width": null,
            "object_fit": null,
            "object_position": null,
            "order": null,
            "overflow": null,
            "overflow_x": null,
            "overflow_y": null,
            "padding": null,
            "right": null,
            "top": null,
            "visibility": null,
            "width": null
          }
        },
        "1199841d04414ca7843414b9b878576d": {
          "model_module": "@jupyter-widgets/base",
          "model_name": "LayoutModel",
          "model_module_version": "1.2.0",
          "state": {
            "_model_module": "@jupyter-widgets/base",
            "_model_module_version": "1.2.0",
            "_model_name": "LayoutModel",
            "_view_count": null,
            "_view_module": "@jupyter-widgets/base",
            "_view_module_version": "1.2.0",
            "_view_name": "LayoutView",
            "align_content": null,
            "align_items": null,
            "align_self": null,
            "border": null,
            "bottom": null,
            "display": null,
            "flex": null,
            "flex_flow": null,
            "grid_area": null,
            "grid_auto_columns": null,
            "grid_auto_flow": null,
            "grid_auto_rows": null,
            "grid_column": null,
            "grid_gap": null,
            "grid_row": null,
            "grid_template_areas": null,
            "grid_template_columns": null,
            "grid_template_rows": null,
            "height": null,
            "justify_content": null,
            "justify_items": null,
            "left": null,
            "margin": null,
            "max_height": null,
            "max_width": null,
            "min_height": null,
            "min_width": null,
            "object_fit": null,
            "object_position": null,
            "order": null,
            "overflow": null,
            "overflow_x": null,
            "overflow_y": null,
            "padding": null,
            "right": null,
            "top": null,
            "visibility": null,
            "width": null
          }
        },
        "163c95f2d78840c2aa621fa41949fe5e": {
          "model_module": "@jupyter-widgets/controls",
          "model_name": "DescriptionStyleModel",
          "model_module_version": "1.5.0",
          "state": {
            "_model_module": "@jupyter-widgets/controls",
            "_model_module_version": "1.5.0",
            "_model_name": "DescriptionStyleModel",
            "_view_count": null,
            "_view_module": "@jupyter-widgets/base",
            "_view_module_version": "1.2.0",
            "_view_name": "StyleView",
            "description_width": ""
          }
        },
        "277164349f23495eb3322ac94f900b1b": {
          "model_module": "@jupyter-widgets/base",
          "model_name": "LayoutModel",
          "model_module_version": "1.2.0",
          "state": {
            "_model_module": "@jupyter-widgets/base",
            "_model_module_version": "1.2.0",
            "_model_name": "LayoutModel",
            "_view_count": null,
            "_view_module": "@jupyter-widgets/base",
            "_view_module_version": "1.2.0",
            "_view_name": "LayoutView",
            "align_content": null,
            "align_items": null,
            "align_self": null,
            "border": null,
            "bottom": null,
            "display": null,
            "flex": null,
            "flex_flow": null,
            "grid_area": null,
            "grid_auto_columns": null,
            "grid_auto_flow": null,
            "grid_auto_rows": null,
            "grid_column": null,
            "grid_gap": null,
            "grid_row": null,
            "grid_template_areas": null,
            "grid_template_columns": null,
            "grid_template_rows": null,
            "height": null,
            "justify_content": null,
            "justify_items": null,
            "left": null,
            "margin": null,
            "max_height": null,
            "max_width": null,
            "min_height": null,
            "min_width": null,
            "object_fit": null,
            "object_position": null,
            "order": null,
            "overflow": null,
            "overflow_x": null,
            "overflow_y": null,
            "padding": null,
            "right": null,
            "top": null,
            "visibility": null,
            "width": null
          }
        },
        "0fe663d60fd54369921b51c303c43732": {
          "model_module": "@jupyter-widgets/controls",
          "model_name": "ProgressStyleModel",
          "model_module_version": "1.5.0",
          "state": {
            "_model_module": "@jupyter-widgets/controls",
            "_model_module_version": "1.5.0",
            "_model_name": "ProgressStyleModel",
            "_view_count": null,
            "_view_module": "@jupyter-widgets/base",
            "_view_module_version": "1.2.0",
            "_view_name": "StyleView",
            "bar_color": null,
            "description_width": ""
          }
        },
        "5317663dc4754a248fc491cb0b8a52a6": {
          "model_module": "@jupyter-widgets/base",
          "model_name": "LayoutModel",
          "model_module_version": "1.2.0",
          "state": {
            "_model_module": "@jupyter-widgets/base",
            "_model_module_version": "1.2.0",
            "_model_name": "LayoutModel",
            "_view_count": null,
            "_view_module": "@jupyter-widgets/base",
            "_view_module_version": "1.2.0",
            "_view_name": "LayoutView",
            "align_content": null,
            "align_items": null,
            "align_self": null,
            "border": null,
            "bottom": null,
            "display": null,
            "flex": null,
            "flex_flow": null,
            "grid_area": null,
            "grid_auto_columns": null,
            "grid_auto_flow": null,
            "grid_auto_rows": null,
            "grid_column": null,
            "grid_gap": null,
            "grid_row": null,
            "grid_template_areas": null,
            "grid_template_columns": null,
            "grid_template_rows": null,
            "height": null,
            "justify_content": null,
            "justify_items": null,
            "left": null,
            "margin": null,
            "max_height": null,
            "max_width": null,
            "min_height": null,
            "min_width": null,
            "object_fit": null,
            "object_position": null,
            "order": null,
            "overflow": null,
            "overflow_x": null,
            "overflow_y": null,
            "padding": null,
            "right": null,
            "top": null,
            "visibility": null,
            "width": null
          }
        },
        "31fe09f20fc74691b5f5bf36a67db9e2": {
          "model_module": "@jupyter-widgets/controls",
          "model_name": "DescriptionStyleModel",
          "model_module_version": "1.5.0",
          "state": {
            "_model_module": "@jupyter-widgets/controls",
            "_model_module_version": "1.5.0",
            "_model_name": "DescriptionStyleModel",
            "_view_count": null,
            "_view_module": "@jupyter-widgets/base",
            "_view_module_version": "1.2.0",
            "_view_name": "StyleView",
            "description_width": ""
          }
        },
        "0b95a3777cc6445195097843f4707d8e": {
          "model_module": "@jupyter-widgets/controls",
          "model_name": "HBoxModel",
          "model_module_version": "1.5.0",
          "state": {
            "_dom_classes": [],
            "_model_module": "@jupyter-widgets/controls",
            "_model_module_version": "1.5.0",
            "_model_name": "HBoxModel",
            "_view_count": null,
            "_view_module": "@jupyter-widgets/controls",
            "_view_module_version": "1.5.0",
            "_view_name": "HBoxView",
            "box_style": "",
            "children": [
              "IPY_MODEL_096b39c8dad748309e8eaca5f357f058",
              "IPY_MODEL_1d6c86fb65714f17979d55a1f10acfc8",
              "IPY_MODEL_926c69a48de5456c9a50a332329cb2b1"
            ],
            "layout": "IPY_MODEL_9870f9ecc5d54fb7b373479949d4820c"
          }
        },
        "096b39c8dad748309e8eaca5f357f058": {
          "model_module": "@jupyter-widgets/controls",
          "model_name": "HTMLModel",
          "model_module_version": "1.5.0",
          "state": {
            "_dom_classes": [],
            "_model_module": "@jupyter-widgets/controls",
            "_model_module_version": "1.5.0",
            "_model_name": "HTMLModel",
            "_view_count": null,
            "_view_module": "@jupyter-widgets/controls",
            "_view_module_version": "1.5.0",
            "_view_name": "HTMLView",
            "description": "",
            "description_tooltip": null,
            "layout": "IPY_MODEL_3860a657eb7345eebc7d90f7d9ce8256",
            "placeholder": "​",
            "style": "IPY_MODEL_e30c19eeffee4571aa397c7cc7f50baa",
            "value": "Downloading (…)solve/main/vocab.txt: 100%"
          }
        },
        "1d6c86fb65714f17979d55a1f10acfc8": {
          "model_module": "@jupyter-widgets/controls",
          "model_name": "FloatProgressModel",
          "model_module_version": "1.5.0",
          "state": {
            "_dom_classes": [],
            "_model_module": "@jupyter-widgets/controls",
            "_model_module_version": "1.5.0",
            "_model_name": "FloatProgressModel",
            "_view_count": null,
            "_view_module": "@jupyter-widgets/controls",
            "_view_module_version": "1.5.0",
            "_view_name": "ProgressView",
            "bar_style": "success",
            "description": "",
            "description_tooltip": null,
            "layout": "IPY_MODEL_219632dc883149d480d2da0442e0f4a2",
            "max": 231508,
            "min": 0,
            "orientation": "horizontal",
            "style": "IPY_MODEL_aa0cc6887381440c95a2250f6f5a933b",
            "value": 231508
          }
        },
        "926c69a48de5456c9a50a332329cb2b1": {
          "model_module": "@jupyter-widgets/controls",
          "model_name": "HTMLModel",
          "model_module_version": "1.5.0",
          "state": {
            "_dom_classes": [],
            "_model_module": "@jupyter-widgets/controls",
            "_model_module_version": "1.5.0",
            "_model_name": "HTMLModel",
            "_view_count": null,
            "_view_module": "@jupyter-widgets/controls",
            "_view_module_version": "1.5.0",
            "_view_name": "HTMLView",
            "description": "",
            "description_tooltip": null,
            "layout": "IPY_MODEL_5ea5124c6f1547438ed0ecf9df41aea8",
            "placeholder": "​",
            "style": "IPY_MODEL_d01f5239a9bf4af3b83207445a2fdf28",
            "value": " 232k/232k [00:00&lt;00:00, 2.57MB/s]"
          }
        },
        "9870f9ecc5d54fb7b373479949d4820c": {
          "model_module": "@jupyter-widgets/base",
          "model_name": "LayoutModel",
          "model_module_version": "1.2.0",
          "state": {
            "_model_module": "@jupyter-widgets/base",
            "_model_module_version": "1.2.0",
            "_model_name": "LayoutModel",
            "_view_count": null,
            "_view_module": "@jupyter-widgets/base",
            "_view_module_version": "1.2.0",
            "_view_name": "LayoutView",
            "align_content": null,
            "align_items": null,
            "align_self": null,
            "border": null,
            "bottom": null,
            "display": null,
            "flex": null,
            "flex_flow": null,
            "grid_area": null,
            "grid_auto_columns": null,
            "grid_auto_flow": null,
            "grid_auto_rows": null,
            "grid_column": null,
            "grid_gap": null,
            "grid_row": null,
            "grid_template_areas": null,
            "grid_template_columns": null,
            "grid_template_rows": null,
            "height": null,
            "justify_content": null,
            "justify_items": null,
            "left": null,
            "margin": null,
            "max_height": null,
            "max_width": null,
            "min_height": null,
            "min_width": null,
            "object_fit": null,
            "object_position": null,
            "order": null,
            "overflow": null,
            "overflow_x": null,
            "overflow_y": null,
            "padding": null,
            "right": null,
            "top": null,
            "visibility": null,
            "width": null
          }
        },
        "3860a657eb7345eebc7d90f7d9ce8256": {
          "model_module": "@jupyter-widgets/base",
          "model_name": "LayoutModel",
          "model_module_version": "1.2.0",
          "state": {
            "_model_module": "@jupyter-widgets/base",
            "_model_module_version": "1.2.0",
            "_model_name": "LayoutModel",
            "_view_count": null,
            "_view_module": "@jupyter-widgets/base",
            "_view_module_version": "1.2.0",
            "_view_name": "LayoutView",
            "align_content": null,
            "align_items": null,
            "align_self": null,
            "border": null,
            "bottom": null,
            "display": null,
            "flex": null,
            "flex_flow": null,
            "grid_area": null,
            "grid_auto_columns": null,
            "grid_auto_flow": null,
            "grid_auto_rows": null,
            "grid_column": null,
            "grid_gap": null,
            "grid_row": null,
            "grid_template_areas": null,
            "grid_template_columns": null,
            "grid_template_rows": null,
            "height": null,
            "justify_content": null,
            "justify_items": null,
            "left": null,
            "margin": null,
            "max_height": null,
            "max_width": null,
            "min_height": null,
            "min_width": null,
            "object_fit": null,
            "object_position": null,
            "order": null,
            "overflow": null,
            "overflow_x": null,
            "overflow_y": null,
            "padding": null,
            "right": null,
            "top": null,
            "visibility": null,
            "width": null
          }
        },
        "e30c19eeffee4571aa397c7cc7f50baa": {
          "model_module": "@jupyter-widgets/controls",
          "model_name": "DescriptionStyleModel",
          "model_module_version": "1.5.0",
          "state": {
            "_model_module": "@jupyter-widgets/controls",
            "_model_module_version": "1.5.0",
            "_model_name": "DescriptionStyleModel",
            "_view_count": null,
            "_view_module": "@jupyter-widgets/base",
            "_view_module_version": "1.2.0",
            "_view_name": "StyleView",
            "description_width": ""
          }
        },
        "219632dc883149d480d2da0442e0f4a2": {
          "model_module": "@jupyter-widgets/base",
          "model_name": "LayoutModel",
          "model_module_version": "1.2.0",
          "state": {
            "_model_module": "@jupyter-widgets/base",
            "_model_module_version": "1.2.0",
            "_model_name": "LayoutModel",
            "_view_count": null,
            "_view_module": "@jupyter-widgets/base",
            "_view_module_version": "1.2.0",
            "_view_name": "LayoutView",
            "align_content": null,
            "align_items": null,
            "align_self": null,
            "border": null,
            "bottom": null,
            "display": null,
            "flex": null,
            "flex_flow": null,
            "grid_area": null,
            "grid_auto_columns": null,
            "grid_auto_flow": null,
            "grid_auto_rows": null,
            "grid_column": null,
            "grid_gap": null,
            "grid_row": null,
            "grid_template_areas": null,
            "grid_template_columns": null,
            "grid_template_rows": null,
            "height": null,
            "justify_content": null,
            "justify_items": null,
            "left": null,
            "margin": null,
            "max_height": null,
            "max_width": null,
            "min_height": null,
            "min_width": null,
            "object_fit": null,
            "object_position": null,
            "order": null,
            "overflow": null,
            "overflow_x": null,
            "overflow_y": null,
            "padding": null,
            "right": null,
            "top": null,
            "visibility": null,
            "width": null
          }
        },
        "aa0cc6887381440c95a2250f6f5a933b": {
          "model_module": "@jupyter-widgets/controls",
          "model_name": "ProgressStyleModel",
          "model_module_version": "1.5.0",
          "state": {
            "_model_module": "@jupyter-widgets/controls",
            "_model_module_version": "1.5.0",
            "_model_name": "ProgressStyleModel",
            "_view_count": null,
            "_view_module": "@jupyter-widgets/base",
            "_view_module_version": "1.2.0",
            "_view_name": "StyleView",
            "bar_color": null,
            "description_width": ""
          }
        },
        "5ea5124c6f1547438ed0ecf9df41aea8": {
          "model_module": "@jupyter-widgets/base",
          "model_name": "LayoutModel",
          "model_module_version": "1.2.0",
          "state": {
            "_model_module": "@jupyter-widgets/base",
            "_model_module_version": "1.2.0",
            "_model_name": "LayoutModel",
            "_view_count": null,
            "_view_module": "@jupyter-widgets/base",
            "_view_module_version": "1.2.0",
            "_view_name": "LayoutView",
            "align_content": null,
            "align_items": null,
            "align_self": null,
            "border": null,
            "bottom": null,
            "display": null,
            "flex": null,
            "flex_flow": null,
            "grid_area": null,
            "grid_auto_columns": null,
            "grid_auto_flow": null,
            "grid_auto_rows": null,
            "grid_column": null,
            "grid_gap": null,
            "grid_row": null,
            "grid_template_areas": null,
            "grid_template_columns": null,
            "grid_template_rows": null,
            "height": null,
            "justify_content": null,
            "justify_items": null,
            "left": null,
            "margin": null,
            "max_height": null,
            "max_width": null,
            "min_height": null,
            "min_width": null,
            "object_fit": null,
            "object_position": null,
            "order": null,
            "overflow": null,
            "overflow_x": null,
            "overflow_y": null,
            "padding": null,
            "right": null,
            "top": null,
            "visibility": null,
            "width": null
          }
        },
        "d01f5239a9bf4af3b83207445a2fdf28": {
          "model_module": "@jupyter-widgets/controls",
          "model_name": "DescriptionStyleModel",
          "model_module_version": "1.5.0",
          "state": {
            "_model_module": "@jupyter-widgets/controls",
            "_model_module_version": "1.5.0",
            "_model_name": "DescriptionStyleModel",
            "_view_count": null,
            "_view_module": "@jupyter-widgets/base",
            "_view_module_version": "1.2.0",
            "_view_name": "StyleView",
            "description_width": ""
          }
        },
        "c38a20a7285d474a863fa49ca583fbba": {
          "model_module": "@jupyter-widgets/controls",
          "model_name": "HBoxModel",
          "model_module_version": "1.5.0",
          "state": {
            "_dom_classes": [],
            "_model_module": "@jupyter-widgets/controls",
            "_model_module_version": "1.5.0",
            "_model_name": "HBoxModel",
            "_view_count": null,
            "_view_module": "@jupyter-widgets/controls",
            "_view_module_version": "1.5.0",
            "_view_name": "HBoxView",
            "box_style": "",
            "children": [
              "IPY_MODEL_316683ea7ee5482bb2456de88afe0bd3",
              "IPY_MODEL_6df18c3e7fb7490787b262320ad97126",
              "IPY_MODEL_6db752321c7b457db8ccc7710384596e"
            ],
            "layout": "IPY_MODEL_60c26cb5efa04143bb9b0415a693ac81"
          }
        },
        "316683ea7ee5482bb2456de88afe0bd3": {
          "model_module": "@jupyter-widgets/controls",
          "model_name": "HTMLModel",
          "model_module_version": "1.5.0",
          "state": {
            "_dom_classes": [],
            "_model_module": "@jupyter-widgets/controls",
            "_model_module_version": "1.5.0",
            "_model_name": "HTMLModel",
            "_view_count": null,
            "_view_module": "@jupyter-widgets/controls",
            "_view_module_version": "1.5.0",
            "_view_name": "HTMLView",
            "description": "",
            "description_tooltip": null,
            "layout": "IPY_MODEL_18f3cbd1eefd44a3b728c7de05943d29",
            "placeholder": "​",
            "style": "IPY_MODEL_2a11f43e22c4460f9458ca6b3791614a",
            "value": "Downloading (…)okenizer_config.json: 100%"
          }
        },
        "6df18c3e7fb7490787b262320ad97126": {
          "model_module": "@jupyter-widgets/controls",
          "model_name": "FloatProgressModel",
          "model_module_version": "1.5.0",
          "state": {
            "_dom_classes": [],
            "_model_module": "@jupyter-widgets/controls",
            "_model_module_version": "1.5.0",
            "_model_name": "FloatProgressModel",
            "_view_count": null,
            "_view_module": "@jupyter-widgets/controls",
            "_view_module_version": "1.5.0",
            "_view_name": "ProgressView",
            "bar_style": "success",
            "description": "",
            "description_tooltip": null,
            "layout": "IPY_MODEL_14abf2d0af934ab2b937de6e871f82da",
            "max": 28,
            "min": 0,
            "orientation": "horizontal",
            "style": "IPY_MODEL_780fa9c8ddd846f5ae527742da2bd1e6",
            "value": 28
          }
        },
        "6db752321c7b457db8ccc7710384596e": {
          "model_module": "@jupyter-widgets/controls",
          "model_name": "HTMLModel",
          "model_module_version": "1.5.0",
          "state": {
            "_dom_classes": [],
            "_model_module": "@jupyter-widgets/controls",
            "_model_module_version": "1.5.0",
            "_model_name": "HTMLModel",
            "_view_count": null,
            "_view_module": "@jupyter-widgets/controls",
            "_view_module_version": "1.5.0",
            "_view_name": "HTMLView",
            "description": "",
            "description_tooltip": null,
            "layout": "IPY_MODEL_637c1bcee579413eb1c104ea840b49b8",
            "placeholder": "​",
            "style": "IPY_MODEL_fd595e3caf8f42138e20003c9bfdfe2c",
            "value": " 28.0/28.0 [00:00&lt;00:00, 1.83kB/s]"
          }
        },
        "60c26cb5efa04143bb9b0415a693ac81": {
          "model_module": "@jupyter-widgets/base",
          "model_name": "LayoutModel",
          "model_module_version": "1.2.0",
          "state": {
            "_model_module": "@jupyter-widgets/base",
            "_model_module_version": "1.2.0",
            "_model_name": "LayoutModel",
            "_view_count": null,
            "_view_module": "@jupyter-widgets/base",
            "_view_module_version": "1.2.0",
            "_view_name": "LayoutView",
            "align_content": null,
            "align_items": null,
            "align_self": null,
            "border": null,
            "bottom": null,
            "display": null,
            "flex": null,
            "flex_flow": null,
            "grid_area": null,
            "grid_auto_columns": null,
            "grid_auto_flow": null,
            "grid_auto_rows": null,
            "grid_column": null,
            "grid_gap": null,
            "grid_row": null,
            "grid_template_areas": null,
            "grid_template_columns": null,
            "grid_template_rows": null,
            "height": null,
            "justify_content": null,
            "justify_items": null,
            "left": null,
            "margin": null,
            "max_height": null,
            "max_width": null,
            "min_height": null,
            "min_width": null,
            "object_fit": null,
            "object_position": null,
            "order": null,
            "overflow": null,
            "overflow_x": null,
            "overflow_y": null,
            "padding": null,
            "right": null,
            "top": null,
            "visibility": null,
            "width": null
          }
        },
        "18f3cbd1eefd44a3b728c7de05943d29": {
          "model_module": "@jupyter-widgets/base",
          "model_name": "LayoutModel",
          "model_module_version": "1.2.0",
          "state": {
            "_model_module": "@jupyter-widgets/base",
            "_model_module_version": "1.2.0",
            "_model_name": "LayoutModel",
            "_view_count": null,
            "_view_module": "@jupyter-widgets/base",
            "_view_module_version": "1.2.0",
            "_view_name": "LayoutView",
            "align_content": null,
            "align_items": null,
            "align_self": null,
            "border": null,
            "bottom": null,
            "display": null,
            "flex": null,
            "flex_flow": null,
            "grid_area": null,
            "grid_auto_columns": null,
            "grid_auto_flow": null,
            "grid_auto_rows": null,
            "grid_column": null,
            "grid_gap": null,
            "grid_row": null,
            "grid_template_areas": null,
            "grid_template_columns": null,
            "grid_template_rows": null,
            "height": null,
            "justify_content": null,
            "justify_items": null,
            "left": null,
            "margin": null,
            "max_height": null,
            "max_width": null,
            "min_height": null,
            "min_width": null,
            "object_fit": null,
            "object_position": null,
            "order": null,
            "overflow": null,
            "overflow_x": null,
            "overflow_y": null,
            "padding": null,
            "right": null,
            "top": null,
            "visibility": null,
            "width": null
          }
        },
        "2a11f43e22c4460f9458ca6b3791614a": {
          "model_module": "@jupyter-widgets/controls",
          "model_name": "DescriptionStyleModel",
          "model_module_version": "1.5.0",
          "state": {
            "_model_module": "@jupyter-widgets/controls",
            "_model_module_version": "1.5.0",
            "_model_name": "DescriptionStyleModel",
            "_view_count": null,
            "_view_module": "@jupyter-widgets/base",
            "_view_module_version": "1.2.0",
            "_view_name": "StyleView",
            "description_width": ""
          }
        },
        "14abf2d0af934ab2b937de6e871f82da": {
          "model_module": "@jupyter-widgets/base",
          "model_name": "LayoutModel",
          "model_module_version": "1.2.0",
          "state": {
            "_model_module": "@jupyter-widgets/base",
            "_model_module_version": "1.2.0",
            "_model_name": "LayoutModel",
            "_view_count": null,
            "_view_module": "@jupyter-widgets/base",
            "_view_module_version": "1.2.0",
            "_view_name": "LayoutView",
            "align_content": null,
            "align_items": null,
            "align_self": null,
            "border": null,
            "bottom": null,
            "display": null,
            "flex": null,
            "flex_flow": null,
            "grid_area": null,
            "grid_auto_columns": null,
            "grid_auto_flow": null,
            "grid_auto_rows": null,
            "grid_column": null,
            "grid_gap": null,
            "grid_row": null,
            "grid_template_areas": null,
            "grid_template_columns": null,
            "grid_template_rows": null,
            "height": null,
            "justify_content": null,
            "justify_items": null,
            "left": null,
            "margin": null,
            "max_height": null,
            "max_width": null,
            "min_height": null,
            "min_width": null,
            "object_fit": null,
            "object_position": null,
            "order": null,
            "overflow": null,
            "overflow_x": null,
            "overflow_y": null,
            "padding": null,
            "right": null,
            "top": null,
            "visibility": null,
            "width": null
          }
        },
        "780fa9c8ddd846f5ae527742da2bd1e6": {
          "model_module": "@jupyter-widgets/controls",
          "model_name": "ProgressStyleModel",
          "model_module_version": "1.5.0",
          "state": {
            "_model_module": "@jupyter-widgets/controls",
            "_model_module_version": "1.5.0",
            "_model_name": "ProgressStyleModel",
            "_view_count": null,
            "_view_module": "@jupyter-widgets/base",
            "_view_module_version": "1.2.0",
            "_view_name": "StyleView",
            "bar_color": null,
            "description_width": ""
          }
        },
        "637c1bcee579413eb1c104ea840b49b8": {
          "model_module": "@jupyter-widgets/base",
          "model_name": "LayoutModel",
          "model_module_version": "1.2.0",
          "state": {
            "_model_module": "@jupyter-widgets/base",
            "_model_module_version": "1.2.0",
            "_model_name": "LayoutModel",
            "_view_count": null,
            "_view_module": "@jupyter-widgets/base",
            "_view_module_version": "1.2.0",
            "_view_name": "LayoutView",
            "align_content": null,
            "align_items": null,
            "align_self": null,
            "border": null,
            "bottom": null,
            "display": null,
            "flex": null,
            "flex_flow": null,
            "grid_area": null,
            "grid_auto_columns": null,
            "grid_auto_flow": null,
            "grid_auto_rows": null,
            "grid_column": null,
            "grid_gap": null,
            "grid_row": null,
            "grid_template_areas": null,
            "grid_template_columns": null,
            "grid_template_rows": null,
            "height": null,
            "justify_content": null,
            "justify_items": null,
            "left": null,
            "margin": null,
            "max_height": null,
            "max_width": null,
            "min_height": null,
            "min_width": null,
            "object_fit": null,
            "object_position": null,
            "order": null,
            "overflow": null,
            "overflow_x": null,
            "overflow_y": null,
            "padding": null,
            "right": null,
            "top": null,
            "visibility": null,
            "width": null
          }
        },
        "fd595e3caf8f42138e20003c9bfdfe2c": {
          "model_module": "@jupyter-widgets/controls",
          "model_name": "DescriptionStyleModel",
          "model_module_version": "1.5.0",
          "state": {
            "_model_module": "@jupyter-widgets/controls",
            "_model_module_version": "1.5.0",
            "_model_name": "DescriptionStyleModel",
            "_view_count": null,
            "_view_module": "@jupyter-widgets/base",
            "_view_module_version": "1.2.0",
            "_view_name": "StyleView",
            "description_width": ""
          }
        },
        "5c0de84bfd5f4851ab119ddb500737b7": {
          "model_module": "@jupyter-widgets/controls",
          "model_name": "HBoxModel",
          "model_module_version": "1.5.0",
          "state": {
            "_dom_classes": [],
            "_model_module": "@jupyter-widgets/controls",
            "_model_module_version": "1.5.0",
            "_model_name": "HBoxModel",
            "_view_count": null,
            "_view_module": "@jupyter-widgets/controls",
            "_view_module_version": "1.5.0",
            "_view_name": "HBoxView",
            "box_style": "",
            "children": [
              "IPY_MODEL_e37c8243fced425ab682bc3726cf306f",
              "IPY_MODEL_70a441e4970e49f5aecea321052316c9",
              "IPY_MODEL_0821a85d429d4cf796465420c42527d7"
            ],
            "layout": "IPY_MODEL_70c038c25813459783a2ade21cf26ccc"
          }
        },
        "e37c8243fced425ab682bc3726cf306f": {
          "model_module": "@jupyter-widgets/controls",
          "model_name": "HTMLModel",
          "model_module_version": "1.5.0",
          "state": {
            "_dom_classes": [],
            "_model_module": "@jupyter-widgets/controls",
            "_model_module_version": "1.5.0",
            "_model_name": "HTMLModel",
            "_view_count": null,
            "_view_module": "@jupyter-widgets/controls",
            "_view_module_version": "1.5.0",
            "_view_name": "HTMLView",
            "description": "",
            "description_tooltip": null,
            "layout": "IPY_MODEL_5d04581f851b4c649d73136976e292e9",
            "placeholder": "​",
            "style": "IPY_MODEL_17eedc099c3445b183f766760ba87e15",
            "value": "Downloading (…)lve/main/config.json: 100%"
          }
        },
        "70a441e4970e49f5aecea321052316c9": {
          "model_module": "@jupyter-widgets/controls",
          "model_name": "FloatProgressModel",
          "model_module_version": "1.5.0",
          "state": {
            "_dom_classes": [],
            "_model_module": "@jupyter-widgets/controls",
            "_model_module_version": "1.5.0",
            "_model_name": "FloatProgressModel",
            "_view_count": null,
            "_view_module": "@jupyter-widgets/controls",
            "_view_module_version": "1.5.0",
            "_view_name": "ProgressView",
            "bar_style": "success",
            "description": "",
            "description_tooltip": null,
            "layout": "IPY_MODEL_614c0b6fae624a86b90fa5e2e9b44484",
            "max": 570,
            "min": 0,
            "orientation": "horizontal",
            "style": "IPY_MODEL_23c900098d154e22998babb09c26ff47",
            "value": 570
          }
        },
        "0821a85d429d4cf796465420c42527d7": {
          "model_module": "@jupyter-widgets/controls",
          "model_name": "HTMLModel",
          "model_module_version": "1.5.0",
          "state": {
            "_dom_classes": [],
            "_model_module": "@jupyter-widgets/controls",
            "_model_module_version": "1.5.0",
            "_model_name": "HTMLModel",
            "_view_count": null,
            "_view_module": "@jupyter-widgets/controls",
            "_view_module_version": "1.5.0",
            "_view_name": "HTMLView",
            "description": "",
            "description_tooltip": null,
            "layout": "IPY_MODEL_587f5570d531420a84d2d7a3802fe7bd",
            "placeholder": "​",
            "style": "IPY_MODEL_b754b0a6fd1b415fb59e548fdd6b4304",
            "value": " 570/570 [00:00&lt;00:00, 30.2kB/s]"
          }
        },
        "70c038c25813459783a2ade21cf26ccc": {
          "model_module": "@jupyter-widgets/base",
          "model_name": "LayoutModel",
          "model_module_version": "1.2.0",
          "state": {
            "_model_module": "@jupyter-widgets/base",
            "_model_module_version": "1.2.0",
            "_model_name": "LayoutModel",
            "_view_count": null,
            "_view_module": "@jupyter-widgets/base",
            "_view_module_version": "1.2.0",
            "_view_name": "LayoutView",
            "align_content": null,
            "align_items": null,
            "align_self": null,
            "border": null,
            "bottom": null,
            "display": null,
            "flex": null,
            "flex_flow": null,
            "grid_area": null,
            "grid_auto_columns": null,
            "grid_auto_flow": null,
            "grid_auto_rows": null,
            "grid_column": null,
            "grid_gap": null,
            "grid_row": null,
            "grid_template_areas": null,
            "grid_template_columns": null,
            "grid_template_rows": null,
            "height": null,
            "justify_content": null,
            "justify_items": null,
            "left": null,
            "margin": null,
            "max_height": null,
            "max_width": null,
            "min_height": null,
            "min_width": null,
            "object_fit": null,
            "object_position": null,
            "order": null,
            "overflow": null,
            "overflow_x": null,
            "overflow_y": null,
            "padding": null,
            "right": null,
            "top": null,
            "visibility": null,
            "width": null
          }
        },
        "5d04581f851b4c649d73136976e292e9": {
          "model_module": "@jupyter-widgets/base",
          "model_name": "LayoutModel",
          "model_module_version": "1.2.0",
          "state": {
            "_model_module": "@jupyter-widgets/base",
            "_model_module_version": "1.2.0",
            "_model_name": "LayoutModel",
            "_view_count": null,
            "_view_module": "@jupyter-widgets/base",
            "_view_module_version": "1.2.0",
            "_view_name": "LayoutView",
            "align_content": null,
            "align_items": null,
            "align_self": null,
            "border": null,
            "bottom": null,
            "display": null,
            "flex": null,
            "flex_flow": null,
            "grid_area": null,
            "grid_auto_columns": null,
            "grid_auto_flow": null,
            "grid_auto_rows": null,
            "grid_column": null,
            "grid_gap": null,
            "grid_row": null,
            "grid_template_areas": null,
            "grid_template_columns": null,
            "grid_template_rows": null,
            "height": null,
            "justify_content": null,
            "justify_items": null,
            "left": null,
            "margin": null,
            "max_height": null,
            "max_width": null,
            "min_height": null,
            "min_width": null,
            "object_fit": null,
            "object_position": null,
            "order": null,
            "overflow": null,
            "overflow_x": null,
            "overflow_y": null,
            "padding": null,
            "right": null,
            "top": null,
            "visibility": null,
            "width": null
          }
        },
        "17eedc099c3445b183f766760ba87e15": {
          "model_module": "@jupyter-widgets/controls",
          "model_name": "DescriptionStyleModel",
          "model_module_version": "1.5.0",
          "state": {
            "_model_module": "@jupyter-widgets/controls",
            "_model_module_version": "1.5.0",
            "_model_name": "DescriptionStyleModel",
            "_view_count": null,
            "_view_module": "@jupyter-widgets/base",
            "_view_module_version": "1.2.0",
            "_view_name": "StyleView",
            "description_width": ""
          }
        },
        "614c0b6fae624a86b90fa5e2e9b44484": {
          "model_module": "@jupyter-widgets/base",
          "model_name": "LayoutModel",
          "model_module_version": "1.2.0",
          "state": {
            "_model_module": "@jupyter-widgets/base",
            "_model_module_version": "1.2.0",
            "_model_name": "LayoutModel",
            "_view_count": null,
            "_view_module": "@jupyter-widgets/base",
            "_view_module_version": "1.2.0",
            "_view_name": "LayoutView",
            "align_content": null,
            "align_items": null,
            "align_self": null,
            "border": null,
            "bottom": null,
            "display": null,
            "flex": null,
            "flex_flow": null,
            "grid_area": null,
            "grid_auto_columns": null,
            "grid_auto_flow": null,
            "grid_auto_rows": null,
            "grid_column": null,
            "grid_gap": null,
            "grid_row": null,
            "grid_template_areas": null,
            "grid_template_columns": null,
            "grid_template_rows": null,
            "height": null,
            "justify_content": null,
            "justify_items": null,
            "left": null,
            "margin": null,
            "max_height": null,
            "max_width": null,
            "min_height": null,
            "min_width": null,
            "object_fit": null,
            "object_position": null,
            "order": null,
            "overflow": null,
            "overflow_x": null,
            "overflow_y": null,
            "padding": null,
            "right": null,
            "top": null,
            "visibility": null,
            "width": null
          }
        },
        "23c900098d154e22998babb09c26ff47": {
          "model_module": "@jupyter-widgets/controls",
          "model_name": "ProgressStyleModel",
          "model_module_version": "1.5.0",
          "state": {
            "_model_module": "@jupyter-widgets/controls",
            "_model_module_version": "1.5.0",
            "_model_name": "ProgressStyleModel",
            "_view_count": null,
            "_view_module": "@jupyter-widgets/base",
            "_view_module_version": "1.2.0",
            "_view_name": "StyleView",
            "bar_color": null,
            "description_width": ""
          }
        },
        "587f5570d531420a84d2d7a3802fe7bd": {
          "model_module": "@jupyter-widgets/base",
          "model_name": "LayoutModel",
          "model_module_version": "1.2.0",
          "state": {
            "_model_module": "@jupyter-widgets/base",
            "_model_module_version": "1.2.0",
            "_model_name": "LayoutModel",
            "_view_count": null,
            "_view_module": "@jupyter-widgets/base",
            "_view_module_version": "1.2.0",
            "_view_name": "LayoutView",
            "align_content": null,
            "align_items": null,
            "align_self": null,
            "border": null,
            "bottom": null,
            "display": null,
            "flex": null,
            "flex_flow": null,
            "grid_area": null,
            "grid_auto_columns": null,
            "grid_auto_flow": null,
            "grid_auto_rows": null,
            "grid_column": null,
            "grid_gap": null,
            "grid_row": null,
            "grid_template_areas": null,
            "grid_template_columns": null,
            "grid_template_rows": null,
            "height": null,
            "justify_content": null,
            "justify_items": null,
            "left": null,
            "margin": null,
            "max_height": null,
            "max_width": null,
            "min_height": null,
            "min_width": null,
            "object_fit": null,
            "object_position": null,
            "order": null,
            "overflow": null,
            "overflow_x": null,
            "overflow_y": null,
            "padding": null,
            "right": null,
            "top": null,
            "visibility": null,
            "width": null
          }
        },
        "b754b0a6fd1b415fb59e548fdd6b4304": {
          "model_module": "@jupyter-widgets/controls",
          "model_name": "DescriptionStyleModel",
          "model_module_version": "1.5.0",
          "state": {
            "_model_module": "@jupyter-widgets/controls",
            "_model_module_version": "1.5.0",
            "_model_name": "DescriptionStyleModel",
            "_view_count": null,
            "_view_module": "@jupyter-widgets/base",
            "_view_module_version": "1.2.0",
            "_view_name": "StyleView",
            "description_width": ""
          }
        },
        "52b40f3734c94084b047ea239c127e57": {
          "model_module": "@jupyter-widgets/controls",
          "model_name": "HBoxModel",
          "model_module_version": "1.5.0",
          "state": {
            "_dom_classes": [],
            "_model_module": "@jupyter-widgets/controls",
            "_model_module_version": "1.5.0",
            "_model_name": "HBoxModel",
            "_view_count": null,
            "_view_module": "@jupyter-widgets/controls",
            "_view_module_version": "1.5.0",
            "_view_name": "HBoxView",
            "box_style": "",
            "children": [
              "IPY_MODEL_73db8e9ed26f4b18bd4b3eed1d38ec47",
              "IPY_MODEL_b263f1b5b034404dbe08c0d0d840a8e9",
              "IPY_MODEL_e57f8ccdcc7548ce975fe58ca64021f7"
            ],
            "layout": "IPY_MODEL_e225d4f1f0e74df9af5daa6b550a05ee"
          }
        },
        "73db8e9ed26f4b18bd4b3eed1d38ec47": {
          "model_module": "@jupyter-widgets/controls",
          "model_name": "HTMLModel",
          "model_module_version": "1.5.0",
          "state": {
            "_dom_classes": [],
            "_model_module": "@jupyter-widgets/controls",
            "_model_module_version": "1.5.0",
            "_model_name": "HTMLModel",
            "_view_count": null,
            "_view_module": "@jupyter-widgets/controls",
            "_view_module_version": "1.5.0",
            "_view_name": "HTMLView",
            "description": "",
            "description_tooltip": null,
            "layout": "IPY_MODEL_82f11e01780b469fb647f8da58afff25",
            "placeholder": "​",
            "style": "IPY_MODEL_eecfd5f6b89e49b29975bf33bb17e142",
            "value": "Downloading pytorch_model.bin: 100%"
          }
        },
        "b263f1b5b034404dbe08c0d0d840a8e9": {
          "model_module": "@jupyter-widgets/controls",
          "model_name": "FloatProgressModel",
          "model_module_version": "1.5.0",
          "state": {
            "_dom_classes": [],
            "_model_module": "@jupyter-widgets/controls",
            "_model_module_version": "1.5.0",
            "_model_name": "FloatProgressModel",
            "_view_count": null,
            "_view_module": "@jupyter-widgets/controls",
            "_view_module_version": "1.5.0",
            "_view_name": "ProgressView",
            "bar_style": "success",
            "description": "",
            "description_tooltip": null,
            "layout": "IPY_MODEL_d2267c82696c4244af17075721531f2d",
            "max": 440473133,
            "min": 0,
            "orientation": "horizontal",
            "style": "IPY_MODEL_92d7f3ba04594b0090b60e4e4ba12381",
            "value": 440473133
          }
        },
        "e57f8ccdcc7548ce975fe58ca64021f7": {
          "model_module": "@jupyter-widgets/controls",
          "model_name": "HTMLModel",
          "model_module_version": "1.5.0",
          "state": {
            "_dom_classes": [],
            "_model_module": "@jupyter-widgets/controls",
            "_model_module_version": "1.5.0",
            "_model_name": "HTMLModel",
            "_view_count": null,
            "_view_module": "@jupyter-widgets/controls",
            "_view_module_version": "1.5.0",
            "_view_name": "HTMLView",
            "description": "",
            "description_tooltip": null,
            "layout": "IPY_MODEL_ef1d191b3ef84ad3a7650eb314704f74",
            "placeholder": "​",
            "style": "IPY_MODEL_ccd442e66ccf4af6b90a93e0e6c8116a",
            "value": " 440M/440M [00:04&lt;00:00, 93.6MB/s]"
          }
        },
        "e225d4f1f0e74df9af5daa6b550a05ee": {
          "model_module": "@jupyter-widgets/base",
          "model_name": "LayoutModel",
          "model_module_version": "1.2.0",
          "state": {
            "_model_module": "@jupyter-widgets/base",
            "_model_module_version": "1.2.0",
            "_model_name": "LayoutModel",
            "_view_count": null,
            "_view_module": "@jupyter-widgets/base",
            "_view_module_version": "1.2.0",
            "_view_name": "LayoutView",
            "align_content": null,
            "align_items": null,
            "align_self": null,
            "border": null,
            "bottom": null,
            "display": null,
            "flex": null,
            "flex_flow": null,
            "grid_area": null,
            "grid_auto_columns": null,
            "grid_auto_flow": null,
            "grid_auto_rows": null,
            "grid_column": null,
            "grid_gap": null,
            "grid_row": null,
            "grid_template_areas": null,
            "grid_template_columns": null,
            "grid_template_rows": null,
            "height": null,
            "justify_content": null,
            "justify_items": null,
            "left": null,
            "margin": null,
            "max_height": null,
            "max_width": null,
            "min_height": null,
            "min_width": null,
            "object_fit": null,
            "object_position": null,
            "order": null,
            "overflow": null,
            "overflow_x": null,
            "overflow_y": null,
            "padding": null,
            "right": null,
            "top": null,
            "visibility": null,
            "width": null
          }
        },
        "82f11e01780b469fb647f8da58afff25": {
          "model_module": "@jupyter-widgets/base",
          "model_name": "LayoutModel",
          "model_module_version": "1.2.0",
          "state": {
            "_model_module": "@jupyter-widgets/base",
            "_model_module_version": "1.2.0",
            "_model_name": "LayoutModel",
            "_view_count": null,
            "_view_module": "@jupyter-widgets/base",
            "_view_module_version": "1.2.0",
            "_view_name": "LayoutView",
            "align_content": null,
            "align_items": null,
            "align_self": null,
            "border": null,
            "bottom": null,
            "display": null,
            "flex": null,
            "flex_flow": null,
            "grid_area": null,
            "grid_auto_columns": null,
            "grid_auto_flow": null,
            "grid_auto_rows": null,
            "grid_column": null,
            "grid_gap": null,
            "grid_row": null,
            "grid_template_areas": null,
            "grid_template_columns": null,
            "grid_template_rows": null,
            "height": null,
            "justify_content": null,
            "justify_items": null,
            "left": null,
            "margin": null,
            "max_height": null,
            "max_width": null,
            "min_height": null,
            "min_width": null,
            "object_fit": null,
            "object_position": null,
            "order": null,
            "overflow": null,
            "overflow_x": null,
            "overflow_y": null,
            "padding": null,
            "right": null,
            "top": null,
            "visibility": null,
            "width": null
          }
        },
        "eecfd5f6b89e49b29975bf33bb17e142": {
          "model_module": "@jupyter-widgets/controls",
          "model_name": "DescriptionStyleModel",
          "model_module_version": "1.5.0",
          "state": {
            "_model_module": "@jupyter-widgets/controls",
            "_model_module_version": "1.5.0",
            "_model_name": "DescriptionStyleModel",
            "_view_count": null,
            "_view_module": "@jupyter-widgets/base",
            "_view_module_version": "1.2.0",
            "_view_name": "StyleView",
            "description_width": ""
          }
        },
        "d2267c82696c4244af17075721531f2d": {
          "model_module": "@jupyter-widgets/base",
          "model_name": "LayoutModel",
          "model_module_version": "1.2.0",
          "state": {
            "_model_module": "@jupyter-widgets/base",
            "_model_module_version": "1.2.0",
            "_model_name": "LayoutModel",
            "_view_count": null,
            "_view_module": "@jupyter-widgets/base",
            "_view_module_version": "1.2.0",
            "_view_name": "LayoutView",
            "align_content": null,
            "align_items": null,
            "align_self": null,
            "border": null,
            "bottom": null,
            "display": null,
            "flex": null,
            "flex_flow": null,
            "grid_area": null,
            "grid_auto_columns": null,
            "grid_auto_flow": null,
            "grid_auto_rows": null,
            "grid_column": null,
            "grid_gap": null,
            "grid_row": null,
            "grid_template_areas": null,
            "grid_template_columns": null,
            "grid_template_rows": null,
            "height": null,
            "justify_content": null,
            "justify_items": null,
            "left": null,
            "margin": null,
            "max_height": null,
            "max_width": null,
            "min_height": null,
            "min_width": null,
            "object_fit": null,
            "object_position": null,
            "order": null,
            "overflow": null,
            "overflow_x": null,
            "overflow_y": null,
            "padding": null,
            "right": null,
            "top": null,
            "visibility": null,
            "width": null
          }
        },
        "92d7f3ba04594b0090b60e4e4ba12381": {
          "model_module": "@jupyter-widgets/controls",
          "model_name": "ProgressStyleModel",
          "model_module_version": "1.5.0",
          "state": {
            "_model_module": "@jupyter-widgets/controls",
            "_model_module_version": "1.5.0",
            "_model_name": "ProgressStyleModel",
            "_view_count": null,
            "_view_module": "@jupyter-widgets/base",
            "_view_module_version": "1.2.0",
            "_view_name": "StyleView",
            "bar_color": null,
            "description_width": ""
          }
        },
        "ef1d191b3ef84ad3a7650eb314704f74": {
          "model_module": "@jupyter-widgets/base",
          "model_name": "LayoutModel",
          "model_module_version": "1.2.0",
          "state": {
            "_model_module": "@jupyter-widgets/base",
            "_model_module_version": "1.2.0",
            "_model_name": "LayoutModel",
            "_view_count": null,
            "_view_module": "@jupyter-widgets/base",
            "_view_module_version": "1.2.0",
            "_view_name": "LayoutView",
            "align_content": null,
            "align_items": null,
            "align_self": null,
            "border": null,
            "bottom": null,
            "display": null,
            "flex": null,
            "flex_flow": null,
            "grid_area": null,
            "grid_auto_columns": null,
            "grid_auto_flow": null,
            "grid_auto_rows": null,
            "grid_column": null,
            "grid_gap": null,
            "grid_row": null,
            "grid_template_areas": null,
            "grid_template_columns": null,
            "grid_template_rows": null,
            "height": null,
            "justify_content": null,
            "justify_items": null,
            "left": null,
            "margin": null,
            "max_height": null,
            "max_width": null,
            "min_height": null,
            "min_width": null,
            "object_fit": null,
            "object_position": null,
            "order": null,
            "overflow": null,
            "overflow_x": null,
            "overflow_y": null,
            "padding": null,
            "right": null,
            "top": null,
            "visibility": null,
            "width": null
          }
        },
        "ccd442e66ccf4af6b90a93e0e6c8116a": {
          "model_module": "@jupyter-widgets/controls",
          "model_name": "DescriptionStyleModel",
          "model_module_version": "1.5.0",
          "state": {
            "_model_module": "@jupyter-widgets/controls",
            "_model_module_version": "1.5.0",
            "_model_name": "DescriptionStyleModel",
            "_view_count": null,
            "_view_module": "@jupyter-widgets/base",
            "_view_module_version": "1.2.0",
            "_view_name": "StyleView",
            "description_width": ""
          }
        }
      }
    }
  },
  "cells": [
    {
      "cell_type": "code",
      "execution_count": null,
      "metadata": {
        "colab": {
          "base_uri": "https://localhost:8080/"
        },
        "id": "L5UdwIx0mZfk",
        "outputId": "7f8f6b73-d531-493b-dfe1-572ead52657c"
      },
      "outputs": [
        {
          "output_type": "stream",
          "name": "stdout",
          "text": [
            "Mounted at /content/drive\n"
          ]
        }
      ],
      "source": [
        "from google.colab import drive\n",
        "drive.mount('/content/drive')"
      ]
    },
    {
      "cell_type": "code",
      "source": [
        "pip install rank_bm25"
      ],
      "metadata": {
        "colab": {
          "base_uri": "https://localhost:8080/"
        },
        "id": "p8QBhuyXmpF5",
        "outputId": "57932d10-80e1-48e6-e46a-632d3668e3ad"
      },
      "execution_count": null,
      "outputs": [
        {
          "output_type": "stream",
          "name": "stdout",
          "text": [
            "Looking in indexes: https://pypi.org/simple, https://us-python.pkg.dev/colab-wheels/public/simple/\n",
            "Collecting rank_bm25\n",
            "  Downloading rank_bm25-0.2.2-py3-none-any.whl (8.6 kB)\n",
            "Requirement already satisfied: numpy in /usr/local/lib/python3.10/dist-packages (from rank_bm25) (1.22.4)\n",
            "Installing collected packages: rank_bm25\n",
            "Successfully installed rank_bm25-0.2.2\n"
          ]
        }
      ]
    },
    {
      "cell_type": "code",
      "source": [
        "from rank_bm25 import BM25Okapi\n",
        "import numpy as np\n",
        "import nltk\n",
        "import re\n",
        "import gensim\n",
        "from gensim.parsing.preprocessing import remove_stopwords\n",
        "from gensim import corpora\n",
        "from sklearn.feature_extraction.text import TfidfVectorizer \n",
        "import heapq\n",
        "import pandas as pd\n",
        "from ast import literal_eval"
      ],
      "metadata": {
        "id": "Apr4evvd8pkZ"
      },
      "execution_count": null,
      "outputs": []
    },
    {
      "cell_type": "code",
      "source": [
        "# # A dependency of the preprocessing for BERT inputs\n",
        "# !pip install -q -U \"tensorflow-text==2.11.*\"\n",
        "# !pip install -U \"tensorflow==2.11.*\"\n",
        "# !pip install -q tf-models-official==2.11.0\n",
        "!pip install torch torchvision transformers"
      ],
      "metadata": {
        "colab": {
          "base_uri": "https://localhost:8080/"
        },
        "id": "5LyBCvtpyQIE",
        "outputId": "92073d54-b612-4a4c-a04d-4886051b49fd"
      },
      "execution_count": null,
      "outputs": [
        {
          "output_type": "stream",
          "name": "stdout",
          "text": [
            "Looking in indexes: https://pypi.org/simple, https://us-python.pkg.dev/colab-wheels/public/simple/\n",
            "Requirement already satisfied: torch in /usr/local/lib/python3.10/dist-packages (2.0.0+cu118)\n",
            "Requirement already satisfied: torchvision in /usr/local/lib/python3.10/dist-packages (0.15.1+cu118)\n",
            "Collecting transformers\n",
            "  Downloading transformers-4.29.0-py3-none-any.whl (7.1 MB)\n",
            "\u001b[2K     \u001b[90m━━━━━━━━━━━━━━━━━━━━━━━━━━━━━━━━━━━━━━━━\u001b[0m \u001b[32m7.1/7.1 MB\u001b[0m \u001b[31m51.9 MB/s\u001b[0m eta \u001b[36m0:00:00\u001b[0m\n",
            "\u001b[?25hRequirement already satisfied: filelock in /usr/local/lib/python3.10/dist-packages (from torch) (3.12.0)\n",
            "Requirement already satisfied: typing-extensions in /usr/local/lib/python3.10/dist-packages (from torch) (4.5.0)\n",
            "Requirement already satisfied: sympy in /usr/local/lib/python3.10/dist-packages (from torch) (1.11.1)\n",
            "Requirement already satisfied: networkx in /usr/local/lib/python3.10/dist-packages (from torch) (3.1)\n",
            "Requirement already satisfied: jinja2 in /usr/local/lib/python3.10/dist-packages (from torch) (3.1.2)\n",
            "Requirement already satisfied: triton==2.0.0 in /usr/local/lib/python3.10/dist-packages (from torch) (2.0.0)\n",
            "Requirement already satisfied: cmake in /usr/local/lib/python3.10/dist-packages (from triton==2.0.0->torch) (3.25.2)\n",
            "Requirement already satisfied: lit in /usr/local/lib/python3.10/dist-packages (from triton==2.0.0->torch) (16.0.3)\n",
            "Requirement already satisfied: numpy in /usr/local/lib/python3.10/dist-packages (from torchvision) (1.22.4)\n",
            "Requirement already satisfied: requests in /usr/local/lib/python3.10/dist-packages (from torchvision) (2.27.1)\n",
            "Requirement already satisfied: pillow!=8.3.*,>=5.3.0 in /usr/local/lib/python3.10/dist-packages (from torchvision) (8.4.0)\n",
            "Collecting huggingface-hub<1.0,>=0.11.0 (from transformers)\n",
            "  Downloading huggingface_hub-0.14.1-py3-none-any.whl (224 kB)\n",
            "\u001b[2K     \u001b[90m━━━━━━━━━━━━━━━━━━━━━━━━━━━━━━━━━━━━━━\u001b[0m \u001b[32m224.5/224.5 kB\u001b[0m \u001b[31m24.1 MB/s\u001b[0m eta \u001b[36m0:00:00\u001b[0m\n",
            "\u001b[?25hRequirement already satisfied: packaging>=20.0 in /usr/local/lib/python3.10/dist-packages (from transformers) (23.1)\n",
            "Requirement already satisfied: pyyaml>=5.1 in /usr/local/lib/python3.10/dist-packages (from transformers) (6.0)\n",
            "Requirement already satisfied: regex!=2019.12.17 in /usr/local/lib/python3.10/dist-packages (from transformers) (2022.10.31)\n",
            "Collecting tokenizers!=0.11.3,<0.14,>=0.11.1 (from transformers)\n",
            "  Downloading tokenizers-0.13.3-cp310-cp310-manylinux_2_17_x86_64.manylinux2014_x86_64.whl (7.8 MB)\n",
            "\u001b[2K     \u001b[90m━━━━━━━━━━━━━━━━━━━━━━━━━━━━━━━━━━━━━━━━\u001b[0m \u001b[32m7.8/7.8 MB\u001b[0m \u001b[31m105.3 MB/s\u001b[0m eta \u001b[36m0:00:00\u001b[0m\n",
            "\u001b[?25hRequirement already satisfied: tqdm>=4.27 in /usr/local/lib/python3.10/dist-packages (from transformers) (4.65.0)\n",
            "Requirement already satisfied: fsspec in /usr/local/lib/python3.10/dist-packages (from huggingface-hub<1.0,>=0.11.0->transformers) (2023.4.0)\n",
            "Requirement already satisfied: MarkupSafe>=2.0 in /usr/local/lib/python3.10/dist-packages (from jinja2->torch) (2.1.2)\n",
            "Requirement already satisfied: urllib3<1.27,>=1.21.1 in /usr/local/lib/python3.10/dist-packages (from requests->torchvision) (1.26.15)\n",
            "Requirement already satisfied: certifi>=2017.4.17 in /usr/local/lib/python3.10/dist-packages (from requests->torchvision) (2022.12.7)\n",
            "Requirement already satisfied: charset-normalizer~=2.0.0 in /usr/local/lib/python3.10/dist-packages (from requests->torchvision) (2.0.12)\n",
            "Requirement already satisfied: idna<4,>=2.5 in /usr/local/lib/python3.10/dist-packages (from requests->torchvision) (3.4)\n",
            "Requirement already satisfied: mpmath>=0.19 in /usr/local/lib/python3.10/dist-packages (from sympy->torch) (1.3.0)\n",
            "Installing collected packages: tokenizers, huggingface-hub, transformers\n",
            "Successfully installed huggingface-hub-0.14.1 tokenizers-0.13.3 transformers-4.29.0\n"
          ]
        }
      ]
    },
    {
      "cell_type": "code",
      "source": [
        "df = pd.read_json('/content/drive/MyDrive/Sem 2/NLP /Assignment 3/project-data/test-claims-unlabelled.json', orient='index')\n",
        "df.reset_index(inplace=True)\n",
        "df.rename(columns={\"index\":\"claim_id\"},inplace=True)\n",
        "\n",
        "evidence_data = pd.read_json('/content/drive/MyDrive/Sem 2/NLP /Assignment 3/project-data/evidence.json', orient = 'index')\n",
        "evidence_data.columns = ['evidence_text']\n",
        "evidence_data.reset_index(inplace=True)\n",
        "evidence_data.rename(columns={\"index\":\"evidence_id\"},inplace=True)"
      ],
      "metadata": {
        "id": "dr3GlGDTm2Tj"
      },
      "execution_count": null,
      "outputs": []
    },
    {
      "cell_type": "code",
      "source": [
        "evidence_list = evidence_data.evidence_text.values.tolist()"
      ],
      "metadata": {
        "id": "eVzfD8gknCfL"
      },
      "execution_count": null,
      "outputs": []
    },
    {
      "cell_type": "code",
      "source": [
        "print(len(evidence_list))"
      ],
      "metadata": {
        "colab": {
          "base_uri": "https://localhost:8080/"
        },
        "id": "JmEljMCDqKkM",
        "outputId": "50970643-1b7c-471e-f106-c6c7ccd5be24"
      },
      "execution_count": null,
      "outputs": [
        {
          "output_type": "stream",
          "name": "stdout",
          "text": [
            "1208827\n"
          ]
        }
      ]
    },
    {
      "cell_type": "code",
      "source": [
        "tokenized_corpus = [doc.split(\" \") for doc in evidence_list]"
      ],
      "metadata": {
        "id": "BEbF_JoXnPqG"
      },
      "execution_count": null,
      "outputs": []
    },
    {
      "cell_type": "code",
      "source": [
        "bm25 = BM25Okapi(tokenized_corpus)"
      ],
      "metadata": {
        "id": "7eql-OR3nVpZ"
      },
      "execution_count": null,
      "outputs": []
    },
    {
      "cell_type": "code",
      "source": [
        "new_test_data = pd.DataFrame(columns=['claim_id','claim_text','evidences'])\n",
        "for index, row in df.iterrows():\n",
        "  claim_id = row['claim_id']\n",
        "  claim = df.loc[index, 'claim_text']\n",
        "  tokenized_query = claim.split(\" \")\n",
        "  doc_scores = bm25.get_scores(tokenized_query)\n",
        "  result = bm25.get_top_n(tokenized_query, evidence_list, n=10)\n",
        "  for i in range(10):\n",
        "    evidence = result[i]\n",
        "    evidence_id = evidence_data.loc[evidence_data['evidence_text'] == evidence].evidence_id.values[0]\n",
        "    new_row = {'claim_id':claim_id,'claim_text': claim ,'evidences':evidence_id}\n",
        "    new_test_data.loc[len(new_test_data)] = new_row"
      ],
      "metadata": {
        "id": "OLdxaR85nfAb"
      },
      "execution_count": null,
      "outputs": []
    },
    {
      "cell_type": "code",
      "source": [
        "# print(max(doc_scores))"
      ],
      "metadata": {
        "id": "QMj2ttN5r_IJ"
      },
      "execution_count": null,
      "outputs": []
    },
    {
      "cell_type": "code",
      "source": [
        "print(new_test_data.head())"
      ],
      "metadata": {
        "id": "RKVLGfYTsC-h",
        "colab": {
          "base_uri": "https://localhost:8080/"
        },
        "outputId": "e875d771-524b-4aaf-cfe0-02b3fd0526d5"
      },
      "execution_count": null,
      "outputs": [
        {
          "output_type": "stream",
          "name": "stdout",
          "text": [
            "     claim_id                                         claim_text  \\\n",
            "0  claim-1001  ‘This study goes beyond statistical correlatio...   \n",
            "1  claim-1001  ‘This study goes beyond statistical correlatio...   \n",
            "2  claim-1001  ‘This study goes beyond statistical correlatio...   \n",
            "3  claim-1001  ‘This study goes beyond statistical correlatio...   \n",
            "4  claim-1001  ‘This study goes beyond statistical correlatio...   \n",
            "\n",
            "         evidences  \n",
            "0  evidence-333810  \n",
            "1  evidence-368618  \n",
            "2  evidence-463484  \n",
            "3  evidence-399850  \n",
            "4  evidence-853782  \n"
          ]
        }
      ]
    },
    {
      "cell_type": "code",
      "source": [
        "training_data = pd.read_json('/content/drive/MyDrive/Sem 2/NLP /Assignment 3/project-data/train-claims.json', orient='index')\n",
        "training_data = training_data.assign(evidences = training_data['evidences']).explode('evidences')\n",
        "training_data.reset_index(inplace=True)\n",
        "training_data.rename(columns={\"index\":\"claim_id\"},inplace=True)\n",
        "training_data['has_evidence'] = 1"
      ],
      "metadata": {
        "id": "gih-VTn4ziBB"
      },
      "execution_count": null,
      "outputs": []
    },
    {
      "cell_type": "code",
      "source": [
        "dev_data = pd.read_json('/content/drive/MyDrive/Sem 2/NLP /Assignment 3/project-data/dev-claims.json', orient='index')\n",
        "dev_data = dev_data.assign(evidences = dev_data['evidences']).explode('evidences')\n",
        "dev_data.reset_index(inplace=True)\n",
        "dev_data.rename(columns={\"index\":\"claim_id\"},inplace=True)\n",
        "dev_data['has_evidence'] = 1"
      ],
      "metadata": {
        "id": "rzGDbBTqzvvE"
      },
      "execution_count": null,
      "outputs": []
    },
    {
      "cell_type": "code",
      "source": [
        "full_evidence_data = pd.read_json('/content/drive/MyDrive/Sem 2/NLP /Assignment 3/project-data/evidence.json', orient = 'index')\n",
        "full_evidence_data.columns = ['evidence_text']\n",
        "full_evidence_data.index.name = 'evidence_id'"
      ],
      "metadata": {
        "id": "ibE3_zCAz4PR"
      },
      "execution_count": null,
      "outputs": []
    },
    {
      "cell_type": "code",
      "source": [
        "test_data_one = new_test_data\n",
        "test_data_one['has_evidence'] = 1"
      ],
      "metadata": {
        "id": "6XFuWvNJ0EKg"
      },
      "execution_count": null,
      "outputs": []
    },
    {
      "cell_type": "code",
      "source": [
        "#load pretrained bert base model\n",
        "from transformers import BertModel\n",
        "\n",
        "bert_model_one = BertModel.from_pretrained('bert-large-cased',return_dict=True)\n",
        "\n",
        "print(\"Done loading BERT model.\")"
      ],
      "metadata": {
        "id": "cMUUnmSt0eTO",
        "colab": {
          "base_uri": "https://localhost:8080/",
          "height": 173,
          "referenced_widgets": [
            "3c9342d12b66481ea2dc312fa7e1f22c",
            "830cded9492c4b71a7f6e3ca65136125",
            "1a50fb0483ff4886afa206bf3c8ca013",
            "7fb388c161d245c999931c78a50df6d0",
            "398276f9004b4cc48e754b5056b2f65e",
            "18532b39855f4e7eac4c4a11f183fc8e",
            "cf7c6196523d40c8963ea0b3047394f7",
            "6cb89e06f98b466d8bfe36a36e63e85c",
            "0833d6fab107404a8411e98c7a18c959",
            "78ede8d773394e55bbb7c8b5686b09a2",
            "aaa34bd0999d4de18a87b6d15781cc6e",
            "e23eb9101c5847ecb1675af83b581a15",
            "2465a69323354de1ae0e258168e016db",
            "d2ec346be44d45a595fc984938e6826c",
            "7d3ad39253cd4a119d6913d54abbb6ec",
            "123e83a10f0545089908f0de5e08a7d2",
            "1199841d04414ca7843414b9b878576d",
            "163c95f2d78840c2aa621fa41949fe5e",
            "277164349f23495eb3322ac94f900b1b",
            "0fe663d60fd54369921b51c303c43732",
            "5317663dc4754a248fc491cb0b8a52a6",
            "31fe09f20fc74691b5f5bf36a67db9e2"
          ]
        },
        "outputId": "d3e74538-9bb2-4ee0-b5f7-9387ae358d67"
      },
      "execution_count": null,
      "outputs": [
        {
          "output_type": "display_data",
          "data": {
            "text/plain": [
              "Downloading (…)lve/main/config.json:   0%|          | 0.00/762 [00:00<?, ?B/s]"
            ],
            "application/vnd.jupyter.widget-view+json": {
              "version_major": 2,
              "version_minor": 0,
              "model_id": "3c9342d12b66481ea2dc312fa7e1f22c"
            }
          },
          "metadata": {}
        },
        {
          "output_type": "display_data",
          "data": {
            "text/plain": [
              "Downloading pytorch_model.bin:   0%|          | 0.00/1.34G [00:00<?, ?B/s]"
            ],
            "application/vnd.jupyter.widget-view+json": {
              "version_major": 2,
              "version_minor": 0,
              "model_id": "e23eb9101c5847ecb1675af83b581a15"
            }
          },
          "metadata": {}
        },
        {
          "output_type": "stream",
          "name": "stderr",
          "text": [
            "Some weights of the model checkpoint at bert-large-cased were not used when initializing BertModel: ['cls.seq_relationship.weight', 'cls.predictions.transform.dense.weight', 'cls.predictions.bias', 'cls.predictions.decoder.weight', 'cls.predictions.transform.LayerNorm.bias', 'cls.predictions.transform.dense.bias', 'cls.predictions.transform.LayerNorm.weight', 'cls.seq_relationship.bias']\n",
            "- This IS expected if you are initializing BertModel from the checkpoint of a model trained on another task or with another architecture (e.g. initializing a BertForSequenceClassification model from a BertForPreTraining model).\n",
            "- This IS NOT expected if you are initializing BertModel from the checkpoint of a model that you expect to be exactly identical (initializing a BertForSequenceClassification model from a BertForSequenceClassification model).\n"
          ]
        },
        {
          "output_type": "stream",
          "name": "stdout",
          "text": [
            "Done loading BERT model.\n"
          ]
        }
      ]
    },
    {
      "cell_type": "code",
      "source": [
        "import torch\n",
        "from torch.utils.data import Dataset\n",
        "from transformers import BertTokenizer\n",
        "import tensorflow as tf\n",
        "class ClaimHasEvidenceDataset(Dataset):\n",
        "\n",
        "  def __init__(self, training_data, test_data, full_evidence_data, maxlen, mode='train'):\n",
        "\n",
        "    if mode != 'train' and mode != 'test':\n",
        "      raise ValueError(\"mode should either be train or test\")\n",
        "    self.df = training_data\n",
        "    self.evidence_data = full_evidence_data\n",
        "\n",
        "    if mode == 'train':\n",
        "      self.df = training_data\n",
        "      possible_labels = self.df.has_evidence.unique()\n",
        "\n",
        "    elif mode == 'test':\n",
        "      \n",
        "      self.df = test_data\n",
        "\n",
        "    #Initialize the BERT tokenizer\n",
        "    self.tokenizer = BertTokenizer.from_pretrained('bert-base-uncased')\n",
        "\n",
        "    self.maxlen = maxlen\n",
        "\n",
        "  def __len__(self):\n",
        "      return len(self.df)\n",
        "\n",
        "  def __getitem__(self, index):\n",
        "    #Selecting the claim text and claim label at the specified index in the data frame\n",
        "    claim = self.df.loc[index, 'claim_text']\n",
        "    evidence_id = self.df.loc[index, 'evidences']\n",
        "    evidence = self.evidence_data.loc[evidence_id, 'evidence_text']\n",
        "\n",
        "    label = self.df.loc[index, 'has_evidence']\n",
        "\n",
        "    # #Preprocessing the text to be suitable for BERT\n",
        "    tokens = ['[CLS]'] + self.tokenizer.tokenize(claim) + ['[SEP]']\n",
        "    segment_ids = [0] * len(tokens)\n",
        "    if evidence:\n",
        "      tokens += self.tokenizer.tokenize(evidence)  + ['[SEP]']\n",
        "      segment_ids += [1] * (len(self.tokenizer.tokenize(evidence)) + 1)\n",
        "\n",
        "    if len(tokens) < self.maxlen:\n",
        "      tokens = tokens + ['[PAD]' for _ in range(self.maxlen - len(tokens))] #Padding sentences\n",
        "      segment_ids = segment_ids + [0 for _ in range(self.maxlen - len(segment_ids))]\n",
        "    else:\n",
        "      tokens = tokens[:self.maxlen-1] + ['[SEP]'] #Prunning the list to be of specified max length\n",
        "      segment_ids = segment_ids[:self.maxlen-1] + [0]\n",
        "\n",
        "    tokens_ids = self.tokenizer.convert_tokens_to_ids(tokens) #Obtaining the indices of the tokens in the BERT Vocabulary\n",
        "    tokens_ids_tensor = torch.tensor(tokens_ids) #Converting the list to a pytorch tensor\n",
        "    segment_ids_tensor = torch.tensor(segment_ids)\n",
        "    labels_tensor = tf.keras.utils.to_categorical(label, num_classes=2)\n",
        "\n",
        "    # Obtaining the attention mask i.e a tensor containing 1s for no padded tokens and 0s for padded ones\n",
        "    attn_mask = (tokens_ids_tensor != 0).long()\n",
        "    return tokens_ids_tensor, segment_ids_tensor, attn_mask, labels_tensor"
      ],
      "metadata": {
        "id": "EVru9_SQ0mwV"
      },
      "execution_count": null,
      "outputs": []
    },
    {
      "cell_type": "code",
      "source": [
        "from torch.utils.data import DataLoader\n",
        "\n",
        "#Creating instances of training and development set\n",
        "#maxlen sets the maximum length a sentence can have\n",
        "#any sentence longer than this length is truncated to the maxlen size\n",
        "\n",
        "training_data_set_one = ClaimHasEvidenceDataset(training_data, test_data_one, full_evidence_data, maxlen = 80, mode='train')\n",
        "dev_data_set_one = ClaimHasEvidenceDataset(dev_data, test_data_one, full_evidence_data, maxlen = 80, mode='train')\n",
        "\n",
        "#Creating intsances of training and development dataloaders\n",
        "train_loader = DataLoader(training_data_set_one, batch_size = 32, num_workers = 2)\n",
        "dev_loader = DataLoader(dev_data_set_one, batch_size = 32, num_workers = 2)\n",
        "\n",
        "print(\"Done preprocessing training and development data.\")"
      ],
      "metadata": {
        "id": "JvYY9TIo4BUE",
        "colab": {
          "base_uri": "https://localhost:8080/",
          "height": 131,
          "referenced_widgets": [
            "0b95a3777cc6445195097843f4707d8e",
            "096b39c8dad748309e8eaca5f357f058",
            "1d6c86fb65714f17979d55a1f10acfc8",
            "926c69a48de5456c9a50a332329cb2b1",
            "9870f9ecc5d54fb7b373479949d4820c",
            "3860a657eb7345eebc7d90f7d9ce8256",
            "e30c19eeffee4571aa397c7cc7f50baa",
            "219632dc883149d480d2da0442e0f4a2",
            "aa0cc6887381440c95a2250f6f5a933b",
            "5ea5124c6f1547438ed0ecf9df41aea8",
            "d01f5239a9bf4af3b83207445a2fdf28",
            "c38a20a7285d474a863fa49ca583fbba",
            "316683ea7ee5482bb2456de88afe0bd3",
            "6df18c3e7fb7490787b262320ad97126",
            "6db752321c7b457db8ccc7710384596e",
            "60c26cb5efa04143bb9b0415a693ac81",
            "18f3cbd1eefd44a3b728c7de05943d29",
            "2a11f43e22c4460f9458ca6b3791614a",
            "14abf2d0af934ab2b937de6e871f82da",
            "780fa9c8ddd846f5ae527742da2bd1e6",
            "637c1bcee579413eb1c104ea840b49b8",
            "fd595e3caf8f42138e20003c9bfdfe2c",
            "5c0de84bfd5f4851ab119ddb500737b7",
            "e37c8243fced425ab682bc3726cf306f",
            "70a441e4970e49f5aecea321052316c9",
            "0821a85d429d4cf796465420c42527d7",
            "70c038c25813459783a2ade21cf26ccc",
            "5d04581f851b4c649d73136976e292e9",
            "17eedc099c3445b183f766760ba87e15",
            "614c0b6fae624a86b90fa5e2e9b44484",
            "23c900098d154e22998babb09c26ff47",
            "587f5570d531420a84d2d7a3802fe7bd",
            "b754b0a6fd1b415fb59e548fdd6b4304"
          ]
        },
        "outputId": "e2f60de7-f8f4-4ef4-b4cb-0b20208ed5a7"
      },
      "execution_count": null,
      "outputs": [
        {
          "output_type": "display_data",
          "data": {
            "text/plain": [
              "Downloading (…)solve/main/vocab.txt:   0%|          | 0.00/232k [00:00<?, ?B/s]"
            ],
            "application/vnd.jupyter.widget-view+json": {
              "version_major": 2,
              "version_minor": 0,
              "model_id": "0b95a3777cc6445195097843f4707d8e"
            }
          },
          "metadata": {}
        },
        {
          "output_type": "display_data",
          "data": {
            "text/plain": [
              "Downloading (…)okenizer_config.json:   0%|          | 0.00/28.0 [00:00<?, ?B/s]"
            ],
            "application/vnd.jupyter.widget-view+json": {
              "version_major": 2,
              "version_minor": 0,
              "model_id": "c38a20a7285d474a863fa49ca583fbba"
            }
          },
          "metadata": {}
        },
        {
          "output_type": "display_data",
          "data": {
            "text/plain": [
              "Downloading (…)lve/main/config.json:   0%|          | 0.00/570 [00:00<?, ?B/s]"
            ],
            "application/vnd.jupyter.widget-view+json": {
              "version_major": 2,
              "version_minor": 0,
              "model_id": "5c0de84bfd5f4851ab119ddb500737b7"
            }
          },
          "metadata": {}
        },
        {
          "output_type": "stream",
          "name": "stdout",
          "text": [
            "Done preprocessing training and development data.\n"
          ]
        }
      ]
    },
    {
      "cell_type": "code",
      "source": [
        "import torch.nn as nn\n",
        "from transformers import BertModel, BertForSequenceClassification, AdamW, BertConfig\n",
        "# Load BertForSequenceClassification, the pretrained BERT model with a single \n",
        "# linear classification layer on top. \n",
        "labels = training_data.has_evidence.unique()\n",
        "model_one = BertForSequenceClassification.from_pretrained(\n",
        "    \"bert-base-uncased\",\n",
        "    num_labels = 2\n",
        ")\n",
        "# Tell pytorch to run this model on the GPU.\n",
        "model_one.cuda()"
      ],
      "metadata": {
        "id": "WSrp_I794h_A",
        "colab": {
          "base_uri": "https://localhost:8080/",
          "height": 974,
          "referenced_widgets": [
            "52b40f3734c94084b047ea239c127e57",
            "73db8e9ed26f4b18bd4b3eed1d38ec47",
            "b263f1b5b034404dbe08c0d0d840a8e9",
            "e57f8ccdcc7548ce975fe58ca64021f7",
            "e225d4f1f0e74df9af5daa6b550a05ee",
            "82f11e01780b469fb647f8da58afff25",
            "eecfd5f6b89e49b29975bf33bb17e142",
            "d2267c82696c4244af17075721531f2d",
            "92d7f3ba04594b0090b60e4e4ba12381",
            "ef1d191b3ef84ad3a7650eb314704f74",
            "ccd442e66ccf4af6b90a93e0e6c8116a"
          ]
        },
        "outputId": "bcb67c6e-97b9-4053-a87c-ee82c40edd73"
      },
      "execution_count": null,
      "outputs": [
        {
          "output_type": "display_data",
          "data": {
            "text/plain": [
              "Downloading pytorch_model.bin:   0%|          | 0.00/440M [00:00<?, ?B/s]"
            ],
            "application/vnd.jupyter.widget-view+json": {
              "version_major": 2,
              "version_minor": 0,
              "model_id": "52b40f3734c94084b047ea239c127e57"
            }
          },
          "metadata": {}
        },
        {
          "output_type": "stream",
          "name": "stderr",
          "text": [
            "Some weights of the model checkpoint at bert-base-uncased were not used when initializing BertForSequenceClassification: ['cls.predictions.transform.dense.weight', 'cls.seq_relationship.weight', 'cls.predictions.bias', 'cls.predictions.transform.dense.bias', 'cls.predictions.transform.LayerNorm.bias', 'cls.predictions.decoder.weight', 'cls.predictions.transform.LayerNorm.weight', 'cls.seq_relationship.bias']\n",
            "- This IS expected if you are initializing BertForSequenceClassification from the checkpoint of a model trained on another task or with another architecture (e.g. initializing a BertForSequenceClassification model from a BertForPreTraining model).\n",
            "- This IS NOT expected if you are initializing BertForSequenceClassification from the checkpoint of a model that you expect to be exactly identical (initializing a BertForSequenceClassification model from a BertForSequenceClassification model).\n",
            "Some weights of BertForSequenceClassification were not initialized from the model checkpoint at bert-base-uncased and are newly initialized: ['classifier.weight', 'classifier.bias']\n",
            "You should probably TRAIN this model on a down-stream task to be able to use it for predictions and inference.\n"
          ]
        },
        {
          "output_type": "execute_result",
          "data": {
            "text/plain": [
              "BertForSequenceClassification(\n",
              "  (bert): BertModel(\n",
              "    (embeddings): BertEmbeddings(\n",
              "      (word_embeddings): Embedding(30522, 768, padding_idx=0)\n",
              "      (position_embeddings): Embedding(512, 768)\n",
              "      (token_type_embeddings): Embedding(2, 768)\n",
              "      (LayerNorm): LayerNorm((768,), eps=1e-12, elementwise_affine=True)\n",
              "      (dropout): Dropout(p=0.1, inplace=False)\n",
              "    )\n",
              "    (encoder): BertEncoder(\n",
              "      (layer): ModuleList(\n",
              "        (0-11): 12 x BertLayer(\n",
              "          (attention): BertAttention(\n",
              "            (self): BertSelfAttention(\n",
              "              (query): Linear(in_features=768, out_features=768, bias=True)\n",
              "              (key): Linear(in_features=768, out_features=768, bias=True)\n",
              "              (value): Linear(in_features=768, out_features=768, bias=True)\n",
              "              (dropout): Dropout(p=0.1, inplace=False)\n",
              "            )\n",
              "            (output): BertSelfOutput(\n",
              "              (dense): Linear(in_features=768, out_features=768, bias=True)\n",
              "              (LayerNorm): LayerNorm((768,), eps=1e-12, elementwise_affine=True)\n",
              "              (dropout): Dropout(p=0.1, inplace=False)\n",
              "            )\n",
              "          )\n",
              "          (intermediate): BertIntermediate(\n",
              "            (dense): Linear(in_features=768, out_features=3072, bias=True)\n",
              "            (intermediate_act_fn): GELUActivation()\n",
              "          )\n",
              "          (output): BertOutput(\n",
              "            (dense): Linear(in_features=3072, out_features=768, bias=True)\n",
              "            (LayerNorm): LayerNorm((768,), eps=1e-12, elementwise_affine=True)\n",
              "            (dropout): Dropout(p=0.1, inplace=False)\n",
              "          )\n",
              "        )\n",
              "      )\n",
              "    )\n",
              "    (pooler): BertPooler(\n",
              "      (dense): Linear(in_features=768, out_features=768, bias=True)\n",
              "      (activation): Tanh()\n",
              "    )\n",
              "  )\n",
              "  (dropout): Dropout(p=0.1, inplace=False)\n",
              "  (classifier): Linear(in_features=768, out_features=2, bias=True)\n",
              ")"
            ]
          },
          "metadata": {},
          "execution_count": 20
        }
      ]
    },
    {
      "cell_type": "code",
      "source": [
        "# AdamW is an optimizer which is a Adam Optimzier with weight-decay-fix\n",
        "optimizer = AdamW(model_one.parameters(),\n",
        "                  lr = 2e-5, # args.learning_rate - default is 5e-5, our notebook had 2e-5\n",
        "                  eps = 1e-8 # args.adam_epsilon  - default is 1e-8.\n",
        "                )"
      ],
      "metadata": {
        "id": "YfKcp4aV40oL",
        "colab": {
          "base_uri": "https://localhost:8080/"
        },
        "outputId": "a2bf57e9-3dbb-4dbe-9f7f-9275b1f93ddc"
      },
      "execution_count": null,
      "outputs": [
        {
          "output_type": "stream",
          "name": "stderr",
          "text": [
            "/usr/local/lib/python3.10/dist-packages/transformers/optimization.py:407: FutureWarning: This implementation of AdamW is deprecated and will be removed in a future version. Use the PyTorch implementation torch.optim.AdamW instead, or set `no_deprecation_warning=True` to disable this warning\n",
            "  warnings.warn(\n"
          ]
        }
      ]
    },
    {
      "cell_type": "code",
      "source": [
        "from transformers import get_linear_schedule_with_warmup\n",
        "\n",
        "# Number of training epochs. The BERT authors recommend between 2 and 4. \n",
        "epochs = 3\n",
        "\n",
        "# Total number of training steps is [number of batches] x [number of epochs]. \n",
        "# (Note that this is not the same as the number of training samples).\n",
        "total_steps = len(train_loader) * epochs\n",
        "\n",
        "# Create the learning rate scheduler.\n",
        "scheduler = get_linear_schedule_with_warmup(optimizer, \n",
        "                                            num_warmup_steps = 0, # Default value in run_glue.py\n",
        "                                            num_training_steps = total_steps)"
      ],
      "metadata": {
        "id": "x810wxtZ49tu"
      },
      "execution_count": null,
      "outputs": []
    },
    {
      "cell_type": "code",
      "source": [
        "# Function to calculate the accuracy of our predictions vs labels\n",
        "from scipy.special import softmax\n",
        "def flat_accuracy_one(preds, labels):\n",
        "    softmax_pred = softmax(preds)\n",
        "    new_preds = (softmax_pred == softmax_pred.max(axis=1, keepdims=1)).astype(float)\n",
        "    pred_flat = new_preds.flatten()\n",
        "    labels_flat = labels.flatten()\n",
        "    return np.sum(pred_flat == labels_flat) / len(labels_flat)"
      ],
      "metadata": {
        "id": "OOJmFwVp5Olj"
      },
      "execution_count": null,
      "outputs": []
    },
    {
      "cell_type": "code",
      "source": [
        "import time\n",
        "import datetime\n",
        "\n",
        "def format_time_one(elapsed):\n",
        "    '''\n",
        "    Takes a time in seconds and returns a string hh:mm:ss\n",
        "    '''\n",
        "    # Round to the nearest second.\n",
        "    elapsed_rounded = int(round((elapsed)))\n",
        "    \n",
        "    # Format as hh:mm:ss\n",
        "    return str(datetime.timedelta(seconds=elapsed_rounded))"
      ],
      "metadata": {
        "id": "x4mctVVI5bVM"
      },
      "execution_count": null,
      "outputs": []
    },
    {
      "cell_type": "code",
      "source": [
        "import random\n",
        "import numpy as np\n",
        "# Set the seed value all over the place to make this reproducible.\n",
        "seed_val = 42\n",
        "\n",
        "random.seed(seed_val)\n",
        "np.random.seed(seed_val)\n",
        "torch.manual_seed(seed_val)\n",
        "torch.cuda.manual_seed_all(seed_val)\n",
        "\n",
        "device = torch.device(\"cuda\")\n",
        "\n",
        "# We'll store a number of quantities such as training and validation loss, \n",
        "# validation accuracy, and timings.\n",
        "training_stats = []\n",
        "\n",
        "# Measure the total training time for the whole run.\n",
        "total_t0 = time.time()\n",
        "\n",
        "# For each epoch...\n",
        "for epoch_i in range(0, epochs):\n",
        "  print('======== Epoch {:} / {:} ========'.format(epoch_i + 1, epochs))\n",
        "  t0 = time.time()\n",
        "  total_train_loss = 0\n",
        "  model_one.train()\n",
        "  for step, batch in enumerate(train_loader):\n",
        "    b_input_ids = batch[0].to(device)\n",
        "    b_segment_ids = batch[1].to(device)\n",
        "    b_input_mask = batch[2].to(device)\n",
        "    b_labels = batch[3].to(device)\n",
        "\n",
        "    model_one.zero_grad()\n",
        "\n",
        "    output = model_one(b_input_ids, token_type_ids=b_segment_ids, attention_mask=b_input_mask, labels=b_labels)\n",
        "    loss = output.loss\n",
        "    logits = output.logits\n",
        "    # print(output)\n",
        "\n",
        "\n",
        "    total_train_loss += loss.item()\n",
        "    loss.backward()\n",
        "    optimizer.step()\n",
        "    scheduler.step()\n",
        "\n",
        "    if step % 200 == 0 and step != 0:\n",
        "      logits = logits.detach().cpu().numpy()\n",
        "      label_ids = b_labels.to('cpu').numpy()\n",
        "\n",
        "      accuracy= flat_accuracy_one(logits, label_ids)\n",
        "      elapsed = format_time_one(time.time() - t0)\n",
        "      print('  Batch {:>5,}  of  {:>5,}: Accuracy: {:>5,}   Loss: {:>5,}   Time Elapsed: {:}.'.format(step, len(train_loader), accuracy, loss.item(), elapsed))\n",
        "  \n",
        "  avg_train_loss = total_train_loss / len(train_loader)\n",
        "  training_time = format_time_one(time.time() - t0)\n",
        "\n",
        "  print(\"\")\n",
        "  print(\"  Average training loss: {0:.2f}\".format(avg_train_loss))\n",
        "  print(\"  Training epcoh took: {:}\".format(training_time))\n",
        "\n",
        "\n",
        "  print(\"Running Validation...\")\n",
        "\n",
        "  t0 = time.time()\n",
        "  model_one.eval()\n",
        "\n",
        "  # Tracking variables \n",
        "  total_eval_accuracy = 0\n",
        "  total_eval_loss = 0\n",
        "  nb_eval_steps = 0\n",
        "\n",
        "  for batch in dev_loader:\n",
        "    b_input_ids = batch[0].to(device)\n",
        "    b_segment_ids = batch[1].to(device)\n",
        "    b_input_mask = batch[2].to(device)\n",
        "    b_labels = batch[3].to(device)\n",
        "\n",
        "    with torch.no_grad():\n",
        "      output = model_one(b_input_ids, token_type_ids=b_segment_ids, attention_mask=b_input_mask, labels=b_labels)\n",
        "      loss = output.loss\n",
        "      logits = output.logits\n",
        "    \n",
        "    total_eval_loss += loss.item()\n",
        "\n",
        "    # Move logits and labels to CPU\n",
        "    logits = logits.detach().cpu().numpy()\n",
        "    label_ids = b_labels.to('cpu').numpy()\n",
        "\n",
        "    total_eval_accuracy += flat_accuracy_one(logits, label_ids)\n",
        "  \n",
        "  avg_val_accuracy = total_eval_accuracy / len(dev_loader)\n",
        "  print(\"  Accuracy: {0:.2f}\".format(avg_val_accuracy))\n",
        "  avg_val_loss = total_eval_loss / len(dev_loader)\n",
        "\n",
        "  validation_time = format_time_one(time.time() - t0)\n",
        "\n",
        "  print(\"  Validation Loss: {0:.2f}\".format(avg_val_loss))\n",
        "  print(\"  Validation took: {:}\".format(validation_time))\n",
        "\n",
        "  # Record all statistics from this epoch.\n",
        "  training_stats.append(\n",
        "      {\n",
        "          'epoch': epoch_i + 1,\n",
        "          'Training Loss': avg_train_loss,\n",
        "          'Valid. Loss': avg_val_loss,\n",
        "          'Valid. Accur.': avg_val_accuracy,\n",
        "          'Training Time': training_time,\n",
        "          'Validation Time': validation_time\n",
        "      }\n",
        "  )\n",
        "\n",
        "print(\"\")\n",
        "print(\"Training complete!\")\n",
        "\n",
        "print(\"Total training took {:} (h:mm:ss)\".format(format_time_one(time.time()-total_t0)))\n",
        "  \n",
        "\n"
      ],
      "metadata": {
        "id": "lqvmFpdA-fjl",
        "colab": {
          "base_uri": "https://localhost:8080/"
        },
        "outputId": "bb261b93-24e2-47da-a48f-088d9d91842c"
      },
      "execution_count": null,
      "outputs": [
        {
          "output_type": "stream",
          "name": "stdout",
          "text": [
            "======== Epoch 1 / 3 ========\n",
            "\n",
            "  Average training loss: 0.06\n",
            "  Training epcoh took: 0:00:51\n",
            "Running Validation...\n",
            "  Accuracy: 1.00\n",
            "  Validation Loss: 0.01\n",
            "  Validation took: 0:00:03\n",
            "======== Epoch 2 / 3 ========\n",
            "\n",
            "  Average training loss: 0.00\n",
            "  Training epcoh took: 0:00:53\n",
            "Running Validation...\n",
            "  Accuracy: 1.00\n",
            "  Validation Loss: 0.00\n",
            "  Validation took: 0:00:04\n",
            "======== Epoch 3 / 3 ========\n",
            "\n",
            "  Average training loss: 0.00\n",
            "  Training epcoh took: 0:00:55\n",
            "Running Validation...\n",
            "  Accuracy: 1.00\n",
            "  Validation Loss: 0.00\n",
            "  Validation took: 0:00:03\n",
            "\n",
            "Training complete!\n",
            "Total training took 0:02:48 (h:mm:ss)\n"
          ]
        }
      ]
    },
    {
      "cell_type": "code",
      "source": [
        "# TESTING PHASE\n",
        "test_data_set = ClaimHasEvidenceDataset(training_data, test_data_one, full_evidence_data, maxlen = 80, mode='test')\n",
        "\n",
        "#Creating intsances of training and development dataloaders\n",
        "test_loader = DataLoader(test_data_set, batch_size = 32, num_workers = 2)"
      ],
      "metadata": {
        "id": "KvoUUdcN_rB0"
      },
      "execution_count": null,
      "outputs": []
    },
    {
      "cell_type": "code",
      "source": [
        "model_one.eval()\n",
        "\n",
        "test_prediction = []\n",
        "\n",
        "for batch in test_loader:\n",
        "  b_input_ids = batch[0].to(device)\n",
        "  b_segment_ids = batch[1].to(device)\n",
        "  b_input_mask = batch[2].to(device)\n",
        "  #    Dummy label values as we don't have ground truth\n",
        "  b_labels = batch[3].to(device)\n",
        "\n",
        "  with torch.no_grad():\n",
        "    output = model_one(b_input_ids, token_type_ids=b_segment_ids, attention_mask=b_input_mask, labels=b_labels)\n",
        "    logits = output.logits\n",
        "\n",
        "    # Move logits and labels to CPU\n",
        "  logits = logits.detach().cpu().numpy()\n",
        "  softmax_pred = softmax(logits)\n",
        "  new_preds = (softmax_pred == softmax_pred.max(axis=1, keepdims=1)).astype(float)\n",
        "  # print(softmax_pred)\n",
        "\n",
        "  for one_hot_array in softmax_pred:\n",
        "    label = one_hot_array[1]\n",
        "    test_prediction.append(label)"
      ],
      "metadata": {
        "id": "Z8W69Jhm_9-e"
      },
      "execution_count": null,
      "outputs": []
    },
    {
      "cell_type": "code",
      "source": [
        "test_data_one['softmax_values'] = test_prediction\n",
        "print(test_data_one)"
      ],
      "metadata": {
        "id": "Pqb1S2TNArc2",
        "colab": {
          "base_uri": "https://localhost:8080/"
        },
        "outputId": "51d3d6b3-6c3d-4713-c395-50968b024fca"
      },
      "execution_count": null,
      "outputs": [
        {
          "output_type": "stream",
          "name": "stdout",
          "text": [
            "        claim_id                                         claim_text  \\\n",
            "0     claim-1001  ‘This study goes beyond statistical correlatio...   \n",
            "1     claim-1001  ‘This study goes beyond statistical correlatio...   \n",
            "2     claim-1001  ‘This study goes beyond statistical correlatio...   \n",
            "3     claim-1001  ‘This study goes beyond statistical correlatio...   \n",
            "4     claim-1001  ‘This study goes beyond statistical correlatio...   \n",
            "...          ...                                                ...   \n",
            "3055   claim-979  “Warm weather worsened the most recent five-ye...   \n",
            "3056   claim-979  “Warm weather worsened the most recent five-ye...   \n",
            "3057   claim-979  “Warm weather worsened the most recent five-ye...   \n",
            "3058   claim-979  “Warm weather worsened the most recent five-ye...   \n",
            "3059   claim-979  “Warm weather worsened the most recent five-ye...   \n",
            "\n",
            "            evidences  has_evidence  softmax_values  \n",
            "0     evidence-333810             1        0.031126  \n",
            "1     evidence-368618             1        0.030989  \n",
            "2     evidence-463484             1        0.031653  \n",
            "3     evidence-399850             1        0.031251  \n",
            "4     evidence-853782             1        0.031542  \n",
            "...               ...           ...             ...  \n",
            "3055  evidence-267682             1        0.050621  \n",
            "3056  evidence-381186             1        0.050830  \n",
            "3057  evidence-232147             1        0.050569  \n",
            "3058  evidence-936683             1        0.050141  \n",
            "3059  evidence-455110             1        0.049342  \n",
            "\n",
            "[3060 rows x 5 columns]\n"
          ]
        }
      ]
    },
    {
      "cell_type": "code",
      "source": [
        "# newest_test = test_data_one.groupby('claim_id')['softmax_values'].nlargest(5).reset_index()\n",
        "newest_test = test_data_one.groupby('claim_id').apply(pd.DataFrame.nlargest, n=7, columns='softmax_values')"
      ],
      "metadata": {
        "id": "LPH69n7LHJvL"
      },
      "execution_count": null,
      "outputs": []
    },
    {
      "cell_type": "code",
      "source": [
        "newest_test = newest_test.reset_index(drop=True)"
      ],
      "metadata": {
        "id": "GgptzI7MiPLQ"
      },
      "execution_count": null,
      "outputs": []
    },
    {
      "cell_type": "code",
      "source": [
        "print(len(newest_test))"
      ],
      "metadata": {
        "id": "bOAA-h8Bmpdk",
        "colab": {
          "base_uri": "https://localhost:8080/"
        },
        "outputId": "80d9e203-52bf-45a2-c601-bc198aa05578"
      },
      "execution_count": null,
      "outputs": [
        {
          "output_type": "stream",
          "name": "stdout",
          "text": [
            "1530\n"
          ]
        }
      ]
    },
    {
      "cell_type": "code",
      "source": [
        "print(newest_test)"
      ],
      "metadata": {
        "id": "f-zT5bmhcvsc",
        "colab": {
          "base_uri": "https://localhost:8080/"
        },
        "outputId": "248f5f4f-58f1-457d-db73-bc5706d0f45d"
      },
      "execution_count": null,
      "outputs": [
        {
          "output_type": "stream",
          "name": "stdout",
          "text": [
            "        claim_id                                         claim_text  \\\n",
            "0     claim-1001  ‘This study goes beyond statistical correlatio...   \n",
            "1     claim-1001  ‘This study goes beyond statistical correlatio...   \n",
            "2     claim-1001  ‘This study goes beyond statistical correlatio...   \n",
            "3     claim-1001  ‘This study goes beyond statistical correlatio...   \n",
            "4     claim-1001  ‘This study goes beyond statistical correlatio...   \n",
            "...          ...                                                ...   \n",
            "1525   claim-979  “Warm weather worsened the most recent five-ye...   \n",
            "1526   claim-979  “Warm weather worsened the most recent five-ye...   \n",
            "1527   claim-979  “Warm weather worsened the most recent five-ye...   \n",
            "1528   claim-979  “Warm weather worsened the most recent five-ye...   \n",
            "1529   claim-979  “Warm weather worsened the most recent five-ye...   \n",
            "\n",
            "             evidences  has_evidence  softmax_values  \n",
            "0      evidence-463484             1        0.031653  \n",
            "1      evidence-853782             1        0.031542  \n",
            "2      evidence-277435             1        0.031297  \n",
            "3     evidence-1003901             1        0.031286  \n",
            "4      evidence-929308             1        0.031262  \n",
            "...                ...           ...             ...  \n",
            "1525   evidence-415808             1        0.050656  \n",
            "1526   evidence-434312             1        0.050621  \n",
            "1527   evidence-267682             1        0.050621  \n",
            "1528   evidence-937309             1        0.050614  \n",
            "1529   evidence-232147             1        0.050569  \n",
            "\n",
            "[1530 rows x 5 columns]\n"
          ]
        }
      ]
    },
    {
      "cell_type": "code",
      "source": [
        "# PART 2: VERIFIFCATION -  DOCUMENT AND EVIDENCE CLASSIFICATION "
      ],
      "metadata": {
        "id": "WOgn6538zWT2"
      },
      "execution_count": null,
      "outputs": []
    },
    {
      "cell_type": "code",
      "source": [
        "training_data = pd.read_json('/content/drive/MyDrive/Sem 2/NLP /Assignment 3/project-data/train-claims.json', orient='index')\n",
        "training_data = training_data.assign(evidences = training_data['evidences']).explode('evidences')\n",
        "training_data.reset_index(inplace=True)\n",
        "training_data.rename(columns={\"index\":\"claim_id\"},inplace=True)"
      ],
      "metadata": {
        "id": "cZ0T0z8ByY6U"
      },
      "execution_count": null,
      "outputs": []
    },
    {
      "cell_type": "code",
      "source": [
        "dev_data = pd.read_json('/content/drive/MyDrive/Sem 2/NLP /Assignment 3/project-data/dev-claims.json', orient='index')\n",
        "dev_data = dev_data.assign(evidences = dev_data['evidences']).explode('evidences')\n",
        "dev_data.reset_index(inplace=True)\n",
        "dev_data.rename(columns={\"index\":\"claim_id\"},inplace=True)"
      ],
      "metadata": {
        "id": "XlEc4_qr0zRm"
      },
      "execution_count": null,
      "outputs": []
    },
    {
      "cell_type": "code",
      "source": [
        "full_evidence_data = pd.read_json('/content/drive/MyDrive/Sem 2/NLP /Assignment 3/project-data/evidence.json', orient = 'index')\n",
        "full_evidence_data.columns = ['evidence_text']\n",
        "full_evidence_data.index.name = 'evidence_id'"
      ],
      "metadata": {
        "id": "-dqawwZT_kAd"
      },
      "execution_count": null,
      "outputs": []
    },
    {
      "cell_type": "code",
      "source": [
        "#load pretrained bert base model\n",
        "from transformers import BertModel\n",
        "\n",
        "bert_model = BertModel.from_pretrained('bert-large-cased',return_dict=True)\n",
        "\n",
        "print(\"Done loading BERT model.\")"
      ],
      "metadata": {
        "id": "Qw1lRardylUy",
        "colab": {
          "base_uri": "https://localhost:8080/"
        },
        "outputId": "d29b3145-1fb7-4811-d7a3-a7e7f517200b"
      },
      "execution_count": null,
      "outputs": [
        {
          "output_type": "stream",
          "name": "stderr",
          "text": [
            "Some weights of the model checkpoint at bert-large-cased were not used when initializing BertModel: ['cls.seq_relationship.weight', 'cls.predictions.transform.dense.weight', 'cls.predictions.bias', 'cls.predictions.decoder.weight', 'cls.predictions.transform.LayerNorm.bias', 'cls.predictions.transform.dense.bias', 'cls.predictions.transform.LayerNorm.weight', 'cls.seq_relationship.bias']\n",
            "- This IS expected if you are initializing BertModel from the checkpoint of a model trained on another task or with another architecture (e.g. initializing a BertForSequenceClassification model from a BertForPreTraining model).\n",
            "- This IS NOT expected if you are initializing BertModel from the checkpoint of a model that you expect to be exactly identical (initializing a BertForSequenceClassification model from a BertForSequenceClassification model).\n"
          ]
        },
        {
          "output_type": "stream",
          "name": "stdout",
          "text": [
            "Done loading BERT model.\n"
          ]
        }
      ]
    },
    {
      "cell_type": "code",
      "source": [
        "import torch\n",
        "from torch.utils.data import Dataset\n",
        "from transformers import BertTokenizer\n",
        "import tensorflow as tf\n",
        "class ClaimDataset(Dataset):\n",
        "\n",
        "  def __init__(self, training_data, test_data, full_evidence_data, maxlen, mode='train'):\n",
        "\n",
        "    if mode != 'train' and mode != 'test':\n",
        "      raise ValueError(\"mode should either be train or test\")\n",
        "    self.df = training_data\n",
        "    self.evidence_data = full_evidence_data\n",
        "\n",
        "    if mode == 'train':\n",
        "      self.df = training_data\n",
        "      possible_labels = self.df.claim_label.unique()\n",
        "      label_dict = {'SUPPORTS': 0, 'NOT_ENOUGH_INFO': 1, 'REFUTES': 2, 'DISPUTED': 3}\n",
        "      self.df['label'] = self.df['claim_label'].map(label_dict)\n",
        "\n",
        "    elif mode == 'test':\n",
        "      \n",
        "      self.df = test_data\n",
        "      self.df['claim_label'] = 'NO_LABEL'\n",
        "      self.df['label'] = 1\n",
        "\n",
        "    # print(self.df.head())\n",
        "    #Initialize the BERT tokenizer\n",
        "    self.tokenizer = BertTokenizer.from_pretrained('bert-base-uncased')\n",
        "\n",
        "    self.maxlen = maxlen\n",
        "\n",
        "  def __len__(self):\n",
        "      return len(self.df)\n",
        "\n",
        "  def __getitem__(self, index):\n",
        "    #Selecting the claim text and claim label at the specified index in the data frame\n",
        "    claim = self.df.loc[index, 'claim_text']\n",
        "    evidence_id = self.df.loc[index, 'evidences']\n",
        "    evidence = self.evidence_data.loc[evidence_id, 'evidence_text']\n",
        "\n",
        "    \n",
        "    # label = self.df.label.values\n",
        "    label = self.df.loc[index, 'label']\n",
        "\n",
        "    # #Preprocessing the text to be suitable for BERT\n",
        "    tokens = ['[CLS]'] + self.tokenizer.tokenize(claim) + ['[SEP]']\n",
        "    segment_ids = [0] * len(tokens)\n",
        "    if evidence:\n",
        "      tokens += self.tokenizer.tokenize(evidence)  + ['[SEP]']\n",
        "      segment_ids += [1] * (len(self.tokenizer.tokenize(evidence)) + 1)\n",
        "\n",
        "    if len(tokens) < self.maxlen:\n",
        "      tokens = tokens + ['[PAD]' for _ in range(self.maxlen - len(tokens))] #Padding sentences\n",
        "      segment_ids = segment_ids + [0 for _ in range(self.maxlen - len(segment_ids))]\n",
        "    else:\n",
        "      tokens = tokens[:self.maxlen-1] + ['[SEP]'] #Prunning the list to be of specified max length\n",
        "      segment_ids = segment_ids[:self.maxlen-1] + [0]\n",
        "\n",
        "    tokens_ids = self.tokenizer.convert_tokens_to_ids(tokens) #Obtaining the indices of the tokens in the BERT Vocabulary\n",
        "    tokens_ids_tensor = torch.tensor(tokens_ids) #Converting the list to a pytorch tensor\n",
        "    segment_ids_tensor = torch.tensor(segment_ids)\n",
        "    labels_tensor = tf.keras.utils.to_categorical(label, num_classes=4)\n",
        "\n",
        "    # Obtaining the attention mask i.e a tensor containing 1s for no padded tokens and 0s for padded ones\n",
        "    attn_mask = (tokens_ids_tensor != 0).long()\n",
        "    return tokens_ids_tensor, segment_ids_tensor, attn_mask, labels_tensor"
      ],
      "metadata": {
        "id": "l5NvScwWyouS"
      },
      "execution_count": null,
      "outputs": []
    },
    {
      "cell_type": "code",
      "source": [
        "from torch.utils.data import DataLoader\n",
        "\n",
        "#Creating instances of training and development set\n",
        "#maxlen sets the maximum length a se ntence can have\n",
        "#any sentence longer than this length is truncated to the maxlen size\n",
        "\n",
        "training_data_set = ClaimDataset(training_data, newest_test, full_evidence_data, maxlen = 50, mode='train')\n",
        "dev_data_set = ClaimDataset(dev_data, newest_test, full_evidence_data, maxlen = 50, mode='train')\n",
        "\n",
        "#Creating intsances of training and development dataloaders\n",
        "train_loader = DataLoader(training_data_set, batch_size = 32, num_workers = 2)\n",
        "dev_loader = DataLoader(dev_data_set, batch_size = 32, num_workers = 2)\n",
        "\n",
        "print(\"Done preprocessing training and development data.\")"
      ],
      "metadata": {
        "id": "o2_T12XGz5Ym",
        "colab": {
          "base_uri": "https://localhost:8080/"
        },
        "outputId": "7b6f0d44-a10a-455b-bde5-3127df015cf5"
      },
      "execution_count": null,
      "outputs": [
        {
          "output_type": "stream",
          "name": "stdout",
          "text": [
            "Done preprocessing training and development data.\n"
          ]
        }
      ]
    },
    {
      "cell_type": "code",
      "source": [
        "import torch.nn as nn\n",
        "from transformers import BertModel, BertForSequenceClassification, AdamW, BertConfig\n",
        "# Load BertForSequenceClassification, the pretrained BERT model with a single \n",
        "# linear classification layer on top. \n",
        "labels = training_data.claim_label.unique()\n",
        "id2label = {idx:label for idx, label in enumerate(labels)}\n",
        "label2id = {label:idx for idx, label in enumerate(labels)}\n",
        "model = BertForSequenceClassification.from_pretrained(\n",
        "    \"bert-base-uncased\", # Use the 12-layer BERT model, with an uncased vocab.\n",
        "    num_labels = 4,\n",
        "    problem_type=\"multi_label_classification\",\n",
        "    id2label=id2label,\n",
        "    label2id=label2id\n",
        ")\n",
        "# Tell pytorch to run this model on the GPU.\n",
        "model.cuda()"
      ],
      "metadata": {
        "id": "WoU9_s5a0mzq",
        "colab": {
          "base_uri": "https://localhost:8080/"
        },
        "outputId": "52a30cfc-e3ea-49ba-9269-af70dde33eb4"
      },
      "execution_count": null,
      "outputs": [
        {
          "output_type": "stream",
          "name": "stderr",
          "text": [
            "Some weights of the model checkpoint at bert-base-uncased were not used when initializing BertForSequenceClassification: ['cls.predictions.transform.dense.weight', 'cls.seq_relationship.weight', 'cls.predictions.bias', 'cls.predictions.transform.dense.bias', 'cls.predictions.transform.LayerNorm.bias', 'cls.predictions.decoder.weight', 'cls.predictions.transform.LayerNorm.weight', 'cls.seq_relationship.bias']\n",
            "- This IS expected if you are initializing BertForSequenceClassification from the checkpoint of a model trained on another task or with another architecture (e.g. initializing a BertForSequenceClassification model from a BertForPreTraining model).\n",
            "- This IS NOT expected if you are initializing BertForSequenceClassification from the checkpoint of a model that you expect to be exactly identical (initializing a BertForSequenceClassification model from a BertForSequenceClassification model).\n",
            "Some weights of BertForSequenceClassification were not initialized from the model checkpoint at bert-base-uncased and are newly initialized: ['classifier.weight', 'classifier.bias']\n",
            "You should probably TRAIN this model on a down-stream task to be able to use it for predictions and inference.\n"
          ]
        },
        {
          "output_type": "execute_result",
          "data": {
            "text/plain": [
              "BertForSequenceClassification(\n",
              "  (bert): BertModel(\n",
              "    (embeddings): BertEmbeddings(\n",
              "      (word_embeddings): Embedding(30522, 768, padding_idx=0)\n",
              "      (position_embeddings): Embedding(512, 768)\n",
              "      (token_type_embeddings): Embedding(2, 768)\n",
              "      (LayerNorm): LayerNorm((768,), eps=1e-12, elementwise_affine=True)\n",
              "      (dropout): Dropout(p=0.1, inplace=False)\n",
              "    )\n",
              "    (encoder): BertEncoder(\n",
              "      (layer): ModuleList(\n",
              "        (0-11): 12 x BertLayer(\n",
              "          (attention): BertAttention(\n",
              "            (self): BertSelfAttention(\n",
              "              (query): Linear(in_features=768, out_features=768, bias=True)\n",
              "              (key): Linear(in_features=768, out_features=768, bias=True)\n",
              "              (value): Linear(in_features=768, out_features=768, bias=True)\n",
              "              (dropout): Dropout(p=0.1, inplace=False)\n",
              "            )\n",
              "            (output): BertSelfOutput(\n",
              "              (dense): Linear(in_features=768, out_features=768, bias=True)\n",
              "              (LayerNorm): LayerNorm((768,), eps=1e-12, elementwise_affine=True)\n",
              "              (dropout): Dropout(p=0.1, inplace=False)\n",
              "            )\n",
              "          )\n",
              "          (intermediate): BertIntermediate(\n",
              "            (dense): Linear(in_features=768, out_features=3072, bias=True)\n",
              "            (intermediate_act_fn): GELUActivation()\n",
              "          )\n",
              "          (output): BertOutput(\n",
              "            (dense): Linear(in_features=3072, out_features=768, bias=True)\n",
              "            (LayerNorm): LayerNorm((768,), eps=1e-12, elementwise_affine=True)\n",
              "            (dropout): Dropout(p=0.1, inplace=False)\n",
              "          )\n",
              "        )\n",
              "      )\n",
              "    )\n",
              "    (pooler): BertPooler(\n",
              "      (dense): Linear(in_features=768, out_features=768, bias=True)\n",
              "      (activation): Tanh()\n",
              "    )\n",
              "  )\n",
              "  (dropout): Dropout(p=0.1, inplace=False)\n",
              "  (classifier): Linear(in_features=768, out_features=4, bias=True)\n",
              ")"
            ]
          },
          "metadata": {},
          "execution_count": 40
        }
      ]
    },
    {
      "cell_type": "code",
      "source": [
        "# AdamW is an optimizer which is a Adam Optimzier with weight-decay-fix\n",
        "optimizer = AdamW(model.parameters(),\n",
        "                  lr = 2e-5, # args.learning_rate - default is 5e-5, our notebook had 2e-5\n",
        "                  eps = 1e-8 # args.adam_epsilon  - default is 1e-8.\n",
        "                )\n"
      ],
      "metadata": {
        "id": "GiDV2PQzjS5l",
        "colab": {
          "base_uri": "https://localhost:8080/"
        },
        "outputId": "83349ba2-2159-4fe0-b38f-6f411647ce0f"
      },
      "execution_count": null,
      "outputs": [
        {
          "output_type": "stream",
          "name": "stderr",
          "text": [
            "/usr/local/lib/python3.10/dist-packages/transformers/optimization.py:407: FutureWarning: This implementation of AdamW is deprecated and will be removed in a future version. Use the PyTorch implementation torch.optim.AdamW instead, or set `no_deprecation_warning=True` to disable this warning\n",
            "  warnings.warn(\n"
          ]
        }
      ]
    },
    {
      "cell_type": "code",
      "source": [
        "gpu = 0 #gpu ID"
      ],
      "metadata": {
        "id": "-J2Z14661eNL"
      },
      "execution_count": null,
      "outputs": []
    },
    {
      "cell_type": "code",
      "source": [
        "from transformers import get_linear_schedule_with_warmup\n",
        "\n",
        "# Number of training epochs. The BERT authors recommend between 2 and 4. \n",
        "epochs = 3\n",
        "\n",
        "# Total number of training steps is [number of batches] x [number of epochs]. \n",
        "# (Note that this is not the same as the number of training samples).\n",
        "total_steps = len(train_loader) * epochs\n",
        "\n",
        "# Create the learning rate scheduler.\n",
        "scheduler = get_linear_schedule_with_warmup(optimizer, \n",
        "                                            num_warmup_steps = 0, # Default value in run_glue.py\n",
        "                                            num_training_steps = total_steps)"
      ],
      "metadata": {
        "id": "wWL50y4Ltko5"
      },
      "execution_count": null,
      "outputs": []
    },
    {
      "cell_type": "code",
      "source": [
        "# Function to calculate the accuracy of our predictions vs labels\n",
        "from scipy.special import softmax\n",
        "def flat_accuracy(preds, labels):\n",
        "    softmax_pred = softmax(preds)\n",
        "    new_preds = (softmax_pred == softmax_pred.max(axis=1, keepdims=1)).astype(float)\n",
        "    pred_flat = new_preds.flatten()\n",
        "    labels_flat = labels.flatten()\n",
        "    return np.sum(pred_flat == labels_flat) / len(labels_flat)"
      ],
      "metadata": {
        "id": "VYT53dPmtvVy"
      },
      "execution_count": null,
      "outputs": []
    },
    {
      "cell_type": "code",
      "source": [
        "import time\n",
        "import datetime\n",
        "\n",
        "def format_time(elapsed):\n",
        "    '''\n",
        "    Takes a time in seconds and returns a string hh:mm:ss\n",
        "    '''\n",
        "    # Round to the nearest second.\n",
        "    elapsed_rounded = int(round((elapsed)))\n",
        "    \n",
        "    # Format as hh:mm:ss\n",
        "    return str(datetime.timedelta(seconds=elapsed_rounded))"
      ],
      "metadata": {
        "id": "S20etm2xtzBv"
      },
      "execution_count": null,
      "outputs": []
    },
    {
      "cell_type": "code",
      "source": [
        "import random\n",
        "import numpy as np\n",
        "# Set the seed value all over the place to make this reproducible.\n",
        "seed_val = 42\n",
        "\n",
        "random.seed(seed_val)\n",
        "np.random.seed(seed_val)\n",
        "torch.manual_seed(seed_val)\n",
        "torch.cuda.manual_seed_all(seed_val)\n",
        "\n",
        "device = torch.device(\"cuda\")\n",
        "\n",
        "# We'll store a number of quantities such as training and validation loss, \n",
        "# validation accuracy, and timings.\n",
        "training_stats = []\n",
        "\n",
        "# Measure the total training time for the whole run.\n",
        "total_t0 = time.time()\n",
        "\n",
        "# For each epoch...\n",
        "for epoch_i in range(0, epochs):\n",
        "  print('======== Epoch {:} / {:} ========'.format(epoch_i + 1, epochs))\n",
        "  t0 = time.time()\n",
        "  total_train_loss = 0\n",
        "  model.train()\n",
        "  for step, batch in enumerate(train_loader):\n",
        "    b_input_ids = batch[0].to(device)\n",
        "    b_segment_ids = batch[1].to(device)\n",
        "    b_input_mask = batch[2].to(device)\n",
        "    b_labels = batch[3].to(device)\n",
        "\n",
        "    model.zero_grad()\n",
        "\n",
        "    output = model(b_input_ids, token_type_ids=b_segment_ids, attention_mask=b_input_mask, labels=b_labels)\n",
        "    loss = output.loss\n",
        "    logits = output.logits\n",
        "    # print(output)\n",
        "\n",
        "\n",
        "    total_train_loss += loss.item()\n",
        "    loss.backward()\n",
        "    # torch.nn.utils.clip_grad_norm_(model.parameters(), 1.0)\n",
        "    optimizer.step()\n",
        "    scheduler.step()\n",
        "\n",
        "    if step % 25 == 0 and step != 0:\n",
        "      logits = logits.detach().cpu().numpy()\n",
        "      label_ids = b_labels.to('cpu').numpy()\n",
        "\n",
        "      accuracy= flat_accuracy(logits, label_ids)\n",
        "      elapsed = format_time(time.time() - t0)\n",
        "      print('  Batch {:>5,}  of  {:>5,}: Accuracy: {:>5,}   Loss: {:>5,}   Time Elapsed: {:}.'.format(step, len(train_loader), accuracy, loss.item(), elapsed))\n",
        "  \n",
        "  avg_train_loss = total_train_loss / len(train_loader)\n",
        "  training_time = format_time(time.time() - t0)\n",
        "\n",
        "  print(\"\")\n",
        "  print(\"  Average training loss: {0:.2f}\".format(avg_train_loss))\n",
        "  print(\"  Training epcoh took: {:}\".format(training_time))\n",
        "\n",
        "\n",
        "  print(\"Running Validation...\")\n",
        "\n",
        "  t0 = time.time()\n",
        "  model.eval()\n",
        "\n",
        "  # Tracking variables \n",
        "  total_eval_accuracy = 0\n",
        "  total_eval_loss = 0\n",
        "  nb_eval_steps = 0\n",
        "\n",
        "  for batch in dev_loader:\n",
        "    b_input_ids = batch[0].to(device)\n",
        "    b_segment_ids = batch[1].to(device)\n",
        "    b_input_mask = batch[2].to(device)\n",
        "    b_labels = batch[3].to(device)\n",
        "\n",
        "    with torch.no_grad():\n",
        "      output = model(b_input_ids, token_type_ids=b_segment_ids, attention_mask=b_input_mask, labels=b_labels)\n",
        "      loss = output.loss\n",
        "      logits = output.logits\n",
        "    \n",
        "    total_eval_loss += loss.item()\n",
        "\n",
        "    # Move logits and labels to CPU\n",
        "    logits = logits.detach().cpu().numpy()\n",
        "    label_ids = b_labels.to('cpu').numpy()\n",
        "\n",
        "    total_eval_accuracy += flat_accuracy(logits, label_ids)\n",
        "  \n",
        "  avg_val_accuracy = total_eval_accuracy / len(dev_loader)\n",
        "  print(\"  Accuracy: {0:.2f}\".format(avg_val_accuracy))\n",
        "  avg_val_loss = total_eval_loss / len(dev_loader)\n",
        "\n",
        "  validation_time = format_time(time.time() - t0)\n",
        "\n",
        "  print(\"  Validation Loss: {0:.2f}\".format(avg_val_loss))\n",
        "  print(\"  Validation took: {:}\".format(validation_time))\n",
        "\n",
        "  # Record all statistics from this epoch.\n",
        "  training_stats.append(\n",
        "      {\n",
        "          'epoch': epoch_i + 1,\n",
        "          'Training Loss': avg_train_loss,\n",
        "          'Valid. Loss': avg_val_loss,\n",
        "          'Valid. Accur.': avg_val_accuracy,\n",
        "          'Training Time': training_time,\n",
        "          'Validation Time': validation_time\n",
        "      }\n",
        "  )\n",
        "\n",
        "print(\"\")\n",
        "print(\"Training complete!\")\n",
        "\n",
        "print(\"Total training took {:} (h:mm:ss)\".format(format_time(time.time()-total_t0)))\n",
        "  \n",
        "\n"
      ],
      "metadata": {
        "id": "oiwqHTLwRajj",
        "colab": {
          "base_uri": "https://localhost:8080/"
        },
        "outputId": "d93ed9ac-9070-4118-922e-e9f72e1f820e"
      },
      "execution_count": null,
      "outputs": [
        {
          "output_type": "stream",
          "name": "stdout",
          "text": [
            "======== Epoch 1 / 3 ========\n",
            "  Batch    25  of    129: Accuracy: 0.6875   Loss: 0.5197157859802246   Time Elapsed: 0:00:08.\n",
            "  Batch    50  of    129: Accuracy: 0.640625   Loss: 0.5626511573791504   Time Elapsed: 0:00:15.\n",
            "  Batch    75  of    129: Accuracy: 0.640625   Loss: 0.5888069868087769   Time Elapsed: 0:00:22.\n",
            "  Batch   100  of    129: Accuracy: 0.8125   Loss: 0.39700445532798767   Time Elapsed: 0:00:29.\n",
            "  Batch   125  of    129: Accuracy: 0.71875   Loss: 0.5466034412384033   Time Elapsed: 0:00:36.\n",
            "\n",
            "  Average training loss: 0.51\n",
            "  Training epcoh took: 0:00:37\n",
            "Running Validation...\n",
            "  Accuracy: 0.72\n",
            "  Validation Loss: 0.50\n",
            "  Validation took: 0:00:03\n",
            "======== Epoch 2 / 3 ========\n",
            "  Batch    25  of    129: Accuracy: 0.6875   Loss: 0.49915939569473267   Time Elapsed: 0:00:09.\n",
            "  Batch    50  of    129: Accuracy: 0.625   Loss: 0.5679992437362671   Time Elapsed: 0:00:16.\n",
            "  Batch    75  of    129: Accuracy:  0.75   Loss: 0.5096235275268555   Time Elapsed: 0:00:23.\n",
            "  Batch   100  of    129: Accuracy: 0.9375   Loss: 0.2987554669380188   Time Elapsed: 0:00:29.\n",
            "  Batch   125  of    129: Accuracy: 0.78125   Loss: 0.5004295706748962   Time Elapsed: 0:00:36.\n",
            "\n",
            "  Average training loss: 0.47\n",
            "  Training epcoh took: 0:00:37\n",
            "Running Validation...\n",
            "  Accuracy: 0.76\n",
            "  Validation Loss: 0.48\n",
            "  Validation took: 0:00:03\n",
            "======== Epoch 3 / 3 ========\n",
            "  Batch    25  of    129: Accuracy: 0.734375   Loss: 0.4674535393714905   Time Elapsed: 0:00:08.\n",
            "  Batch    50  of    129: Accuracy: 0.703125   Loss: 0.5381937026977539   Time Elapsed: 0:00:15.\n",
            "  Batch    75  of    129: Accuracy: 0.796875   Loss: 0.4374970495700836   Time Elapsed: 0:00:22.\n",
            "  Batch   100  of    129: Accuracy: 0.984375   Loss: 0.23565131425857544   Time Elapsed: 0:00:29.\n",
            "  Batch   125  of    129: Accuracy: 0.765625   Loss: 0.48074936866760254   Time Elapsed: 0:00:36.\n",
            "\n",
            "  Average training loss: 0.40\n",
            "  Training epcoh took: 0:00:37\n",
            "Running Validation...\n",
            "  Accuracy: 0.74\n",
            "  Validation Loss: 0.49\n",
            "  Validation took: 0:00:03\n",
            "\n",
            "Training complete!\n",
            "Total training took 0:01:59 (h:mm:ss)\n"
          ]
        }
      ]
    },
    {
      "cell_type": "code",
      "source": [
        "# TESTING PHASE\n",
        "test_data_set = ClaimDataset(training_data, newest_test, full_evidence_data, maxlen = 50, mode='test')\n",
        "\n",
        "#Creating intsances of training and development dataloaders\n",
        "test_loader = DataLoader(test_data_set, batch_size = 32, num_workers = 2)"
      ],
      "metadata": {
        "id": "rWGcp291VlKN"
      },
      "execution_count": null,
      "outputs": []
    },
    {
      "cell_type": "code",
      "source": [
        "model.eval()\n",
        "\n",
        "test_prediction = []\n",
        "label_dict = {0:'SUPPORTS', 1:'NOT_ENOUGH_INFO', 2:'REFUTES', 3:'DISPUTED'}\n",
        "\n",
        "for batch in test_loader:\n",
        "  b_input_ids = batch[0].to(device)\n",
        "  b_segment_ids = batch[1].to(device)\n",
        "  b_input_mask = batch[2].to(device)\n",
        "  #    Dummy label values as we don't have ground truth\n",
        "  b_labels = batch[3].to(device)\n",
        "\n",
        "  with torch.no_grad():\n",
        "    output = model(b_input_ids, token_type_ids=b_segment_ids, attention_mask=b_input_mask, labels=b_labels)\n",
        "    logits = output.logits\n",
        "\n",
        "    # Move logits and labels to CPU\n",
        "\n",
        "    \n",
        "  logits = logits.detach().cpu().numpy()\n",
        "  softmax_pred = softmax(logits)\n",
        "  new_preds = (softmax_pred == softmax_pred.max(axis=1, keepdims=1)).astype(float)\n",
        "\n",
        "  for one_hot_array in new_preds:\n",
        "    label = label_dict.get(np.argmax(one_hot_array), 'NOT_ENOUGH_INFO')\n",
        "    test_prediction.append(label)\n",
        "\n",
        "  "
      ],
      "metadata": {
        "id": "684yS4lwWh-h"
      },
      "execution_count": null,
      "outputs": []
    },
    {
      "cell_type": "code",
      "source": [
        "print(test_prediction)\n",
        "print(len(test_prediction))\n",
        "print(len(test_data_set))"
      ],
      "metadata": {
        "id": "IgwAuFnCjYEs",
        "colab": {
          "base_uri": "https://localhost:8080/"
        },
        "outputId": "63f6f8ab-8eba-4cab-84b8-95a19d57d6e0"
      },
      "execution_count": null,
      "outputs": [
        {
          "output_type": "stream",
          "name": "stdout",
          "text": [
            "['NOT_ENOUGH_INFO', 'NOT_ENOUGH_INFO', 'NOT_ENOUGH_INFO', 'NOT_ENOUGH_INFO', 'NOT_ENOUGH_INFO', 'NOT_ENOUGH_INFO', 'NOT_ENOUGH_INFO', 'SUPPORTS', 'NOT_ENOUGH_INFO', 'NOT_ENOUGH_INFO', 'SUPPORTS', 'SUPPORTS', 'SUPPORTS', 'SUPPORTS', 'SUPPORTS', 'SUPPORTS', 'SUPPORTS', 'SUPPORTS', 'SUPPORTS', 'SUPPORTS', 'SUPPORTS', 'SUPPORTS', 'SUPPORTS', 'SUPPORTS', 'NOT_ENOUGH_INFO', 'SUPPORTS', 'SUPPORTS', 'NOT_ENOUGH_INFO', 'SUPPORTS', 'NOT_ENOUGH_INFO', 'NOT_ENOUGH_INFO', 'NOT_ENOUGH_INFO', 'NOT_ENOUGH_INFO', 'NOT_ENOUGH_INFO', 'REFUTES', 'NOT_ENOUGH_INFO', 'NOT_ENOUGH_INFO', 'NOT_ENOUGH_INFO', 'NOT_ENOUGH_INFO', 'NOT_ENOUGH_INFO', 'NOT_ENOUGH_INFO', 'NOT_ENOUGH_INFO', 'NOT_ENOUGH_INFO', 'NOT_ENOUGH_INFO', 'NOT_ENOUGH_INFO', 'NOT_ENOUGH_INFO', 'NOT_ENOUGH_INFO', 'NOT_ENOUGH_INFO', 'NOT_ENOUGH_INFO', 'NOT_ENOUGH_INFO', 'NOT_ENOUGH_INFO', 'NOT_ENOUGH_INFO', 'NOT_ENOUGH_INFO', 'NOT_ENOUGH_INFO', 'NOT_ENOUGH_INFO', 'NOT_ENOUGH_INFO', 'NOT_ENOUGH_INFO', 'NOT_ENOUGH_INFO', 'NOT_ENOUGH_INFO', 'NOT_ENOUGH_INFO', 'NOT_ENOUGH_INFO', 'SUPPORTS', 'SUPPORTS', 'NOT_ENOUGH_INFO', 'NOT_ENOUGH_INFO', 'NOT_ENOUGH_INFO', 'SUPPORTS', 'NOT_ENOUGH_INFO', 'SUPPORTS', 'SUPPORTS', 'SUPPORTS', 'SUPPORTS', 'SUPPORTS', 'SUPPORTS', 'SUPPORTS', 'SUPPORTS', 'SUPPORTS', 'SUPPORTS', 'SUPPORTS', 'SUPPORTS', 'SUPPORTS', 'SUPPORTS', 'SUPPORTS', 'SUPPORTS', 'SUPPORTS', 'SUPPORTS', 'SUPPORTS', 'SUPPORTS', 'NOT_ENOUGH_INFO', 'SUPPORTS', 'SUPPORTS', 'SUPPORTS', 'SUPPORTS', 'SUPPORTS', 'SUPPORTS', 'SUPPORTS', 'SUPPORTS', 'SUPPORTS', 'SUPPORTS', 'SUPPORTS', 'NOT_ENOUGH_INFO', 'NOT_ENOUGH_INFO', 'NOT_ENOUGH_INFO', 'NOT_ENOUGH_INFO', 'NOT_ENOUGH_INFO', 'NOT_ENOUGH_INFO', 'NOT_ENOUGH_INFO', 'NOT_ENOUGH_INFO', 'NOT_ENOUGH_INFO', 'NOT_ENOUGH_INFO', 'NOT_ENOUGH_INFO', 'NOT_ENOUGH_INFO', 'NOT_ENOUGH_INFO', 'NOT_ENOUGH_INFO', 'REFUTES', 'NOT_ENOUGH_INFO', 'REFUTES', 'REFUTES', 'REFUTES', 'SUPPORTS', 'NOT_ENOUGH_INFO', 'NOT_ENOUGH_INFO', 'NOT_ENOUGH_INFO', 'NOT_ENOUGH_INFO', 'NOT_ENOUGH_INFO', 'NOT_ENOUGH_INFO', 'NOT_ENOUGH_INFO', 'NOT_ENOUGH_INFO', 'NOT_ENOUGH_INFO', 'NOT_ENOUGH_INFO', 'NOT_ENOUGH_INFO', 'SUPPORTS', 'NOT_ENOUGH_INFO', 'SUPPORTS', 'SUPPORTS', 'SUPPORTS', 'SUPPORTS', 'SUPPORTS', 'SUPPORTS', 'NOT_ENOUGH_INFO', 'NOT_ENOUGH_INFO', 'NOT_ENOUGH_INFO', 'NOT_ENOUGH_INFO', 'NOT_ENOUGH_INFO', 'NOT_ENOUGH_INFO', 'NOT_ENOUGH_INFO', 'NOT_ENOUGH_INFO', 'NOT_ENOUGH_INFO', 'NOT_ENOUGH_INFO', 'NOT_ENOUGH_INFO', 'NOT_ENOUGH_INFO', 'SUPPORTS', 'SUPPORTS', 'SUPPORTS', 'SUPPORTS', 'SUPPORTS', 'SUPPORTS', 'SUPPORTS', 'NOT_ENOUGH_INFO', 'SUPPORTS', 'NOT_ENOUGH_INFO', 'SUPPORTS', 'SUPPORTS', 'SUPPORTS', 'NOT_ENOUGH_INFO', 'NOT_ENOUGH_INFO', 'NOT_ENOUGH_INFO', 'NOT_ENOUGH_INFO', 'SUPPORTS', 'NOT_ENOUGH_INFO', 'SUPPORTS', 'NOT_ENOUGH_INFO', 'NOT_ENOUGH_INFO', 'NOT_ENOUGH_INFO', 'NOT_ENOUGH_INFO', 'SUPPORTS', 'SUPPORTS', 'SUPPORTS', 'SUPPORTS', 'NOT_ENOUGH_INFO', 'NOT_ENOUGH_INFO', 'NOT_ENOUGH_INFO', 'NOT_ENOUGH_INFO', 'NOT_ENOUGH_INFO', 'NOT_ENOUGH_INFO', 'NOT_ENOUGH_INFO', 'NOT_ENOUGH_INFO', 'NOT_ENOUGH_INFO', 'NOT_ENOUGH_INFO', 'NOT_ENOUGH_INFO', 'NOT_ENOUGH_INFO', 'SUPPORTS', 'SUPPORTS', 'SUPPORTS', 'SUPPORTS', 'SUPPORTS', 'SUPPORTS', 'SUPPORTS', 'SUPPORTS', 'SUPPORTS', 'NOT_ENOUGH_INFO', 'NOT_ENOUGH_INFO', 'NOT_ENOUGH_INFO', 'NOT_ENOUGH_INFO', 'NOT_ENOUGH_INFO', 'NOT_ENOUGH_INFO', 'NOT_ENOUGH_INFO', 'NOT_ENOUGH_INFO', 'NOT_ENOUGH_INFO', 'NOT_ENOUGH_INFO', 'SUPPORTS', 'SUPPORTS', 'SUPPORTS', 'SUPPORTS', 'SUPPORTS', 'SUPPORTS', 'SUPPORTS', 'SUPPORTS', 'SUPPORTS', 'SUPPORTS', 'NOT_ENOUGH_INFO', 'NOT_ENOUGH_INFO', 'NOT_ENOUGH_INFO', 'NOT_ENOUGH_INFO', 'NOT_ENOUGH_INFO', 'NOT_ENOUGH_INFO', 'NOT_ENOUGH_INFO', 'NOT_ENOUGH_INFO', 'NOT_ENOUGH_INFO', 'NOT_ENOUGH_INFO', 'NOT_ENOUGH_INFO', 'NOT_ENOUGH_INFO', 'SUPPORTS', 'NOT_ENOUGH_INFO', 'NOT_ENOUGH_INFO', 'NOT_ENOUGH_INFO', 'SUPPORTS', 'NOT_ENOUGH_INFO', 'NOT_ENOUGH_INFO', 'SUPPORTS', 'SUPPORTS', 'SUPPORTS', 'SUPPORTS', 'NOT_ENOUGH_INFO', 'NOT_ENOUGH_INFO', 'SUPPORTS', 'SUPPORTS', 'SUPPORTS', 'SUPPORTS', 'NOT_ENOUGH_INFO', 'SUPPORTS', 'SUPPORTS', 'SUPPORTS', 'NOT_ENOUGH_INFO', 'SUPPORTS', 'NOT_ENOUGH_INFO', 'SUPPORTS', 'NOT_ENOUGH_INFO', 'SUPPORTS', 'SUPPORTS', 'SUPPORTS', 'NOT_ENOUGH_INFO', 'NOT_ENOUGH_INFO', 'NOT_ENOUGH_INFO', 'NOT_ENOUGH_INFO', 'NOT_ENOUGH_INFO', 'NOT_ENOUGH_INFO', 'NOT_ENOUGH_INFO', 'NOT_ENOUGH_INFO', 'NOT_ENOUGH_INFO', 'SUPPORTS', 'SUPPORTS', 'SUPPORTS', 'SUPPORTS', 'SUPPORTS', 'SUPPORTS', 'SUPPORTS', 'NOT_ENOUGH_INFO', 'SUPPORTS', 'SUPPORTS', 'SUPPORTS', 'NOT_ENOUGH_INFO', 'SUPPORTS', 'SUPPORTS', 'SUPPORTS', 'SUPPORTS', 'NOT_ENOUGH_INFO', 'NOT_ENOUGH_INFO', 'SUPPORTS', 'NOT_ENOUGH_INFO', 'SUPPORTS', 'SUPPORTS', 'SUPPORTS', 'NOT_ENOUGH_INFO', 'SUPPORTS', 'SUPPORTS', 'SUPPORTS', 'SUPPORTS', 'NOT_ENOUGH_INFO', 'NOT_ENOUGH_INFO', 'NOT_ENOUGH_INFO', 'NOT_ENOUGH_INFO', 'NOT_ENOUGH_INFO', 'NOT_ENOUGH_INFO', 'NOT_ENOUGH_INFO', 'NOT_ENOUGH_INFO', 'NOT_ENOUGH_INFO', 'NOT_ENOUGH_INFO', 'NOT_ENOUGH_INFO', 'NOT_ENOUGH_INFO', 'SUPPORTS', 'SUPPORTS', 'SUPPORTS', 'SUPPORTS', 'NOT_ENOUGH_INFO', 'SUPPORTS', 'SUPPORTS', 'SUPPORTS', 'SUPPORTS', 'NOT_ENOUGH_INFO', 'SUPPORTS', 'SUPPORTS', 'NOT_ENOUGH_INFO', 'SUPPORTS', 'NOT_ENOUGH_INFO', 'SUPPORTS', 'SUPPORTS', 'SUPPORTS', 'SUPPORTS', 'SUPPORTS', 'SUPPORTS', 'SUPPORTS', 'SUPPORTS', 'SUPPORTS', 'SUPPORTS', 'SUPPORTS', 'SUPPORTS', 'SUPPORTS', 'SUPPORTS', 'SUPPORTS', 'REFUTES', 'NOT_ENOUGH_INFO', 'REFUTES', 'REFUTES', 'REFUTES', 'REFUTES', 'REFUTES', 'REFUTES', 'REFUTES', 'NOT_ENOUGH_INFO', 'REFUTES', 'REFUTES', 'REFUTES', 'REFUTES', 'REFUTES', 'REFUTES', 'NOT_ENOUGH_INFO', 'REFUTES', 'REFUTES', 'NOT_ENOUGH_INFO', 'REFUTES', 'REFUTES', 'REFUTES', 'REFUTES', 'REFUTES', 'REFUTES', 'REFUTES', 'REFUTES', 'SUPPORTS', 'REFUTES', 'NOT_ENOUGH_INFO', 'NOT_ENOUGH_INFO', 'NOT_ENOUGH_INFO', 'SUPPORTS', 'NOT_ENOUGH_INFO', 'NOT_ENOUGH_INFO', 'SUPPORTS', 'NOT_ENOUGH_INFO', 'NOT_ENOUGH_INFO', 'NOT_ENOUGH_INFO', 'SUPPORTS', 'SUPPORTS', 'SUPPORTS', 'SUPPORTS', 'SUPPORTS', 'SUPPORTS', 'SUPPORTS', 'SUPPORTS', 'SUPPORTS', 'NOT_ENOUGH_INFO', 'NOT_ENOUGH_INFO', 'NOT_ENOUGH_INFO', 'SUPPORTS', 'NOT_ENOUGH_INFO', 'NOT_ENOUGH_INFO', 'NOT_ENOUGH_INFO', 'NOT_ENOUGH_INFO', 'NOT_ENOUGH_INFO', 'SUPPORTS', 'NOT_ENOUGH_INFO', 'NOT_ENOUGH_INFO', 'NOT_ENOUGH_INFO', 'NOT_ENOUGH_INFO', 'NOT_ENOUGH_INFO', 'NOT_ENOUGH_INFO', 'NOT_ENOUGH_INFO', 'NOT_ENOUGH_INFO', 'NOT_ENOUGH_INFO', 'NOT_ENOUGH_INFO', 'NOT_ENOUGH_INFO', 'SUPPORTS', 'SUPPORTS', 'SUPPORTS', 'SUPPORTS', 'SUPPORTS', 'SUPPORTS', 'SUPPORTS', 'SUPPORTS', 'SUPPORTS', 'SUPPORTS', 'REFUTES', 'REFUTES', 'REFUTES', 'SUPPORTS', 'NOT_ENOUGH_INFO', 'REFUTES', 'NOT_ENOUGH_INFO', 'REFUTES', 'NOT_ENOUGH_INFO', 'REFUTES', 'SUPPORTS', 'SUPPORTS', 'SUPPORTS', 'SUPPORTS', 'SUPPORTS', 'SUPPORTS', 'SUPPORTS', 'SUPPORTS', 'SUPPORTS', 'SUPPORTS', 'NOT_ENOUGH_INFO', 'NOT_ENOUGH_INFO', 'NOT_ENOUGH_INFO', 'NOT_ENOUGH_INFO', 'NOT_ENOUGH_INFO', 'NOT_ENOUGH_INFO', 'NOT_ENOUGH_INFO', 'NOT_ENOUGH_INFO', 'NOT_ENOUGH_INFO', 'NOT_ENOUGH_INFO', 'NOT_ENOUGH_INFO', 'NOT_ENOUGH_INFO', 'NOT_ENOUGH_INFO', 'NOT_ENOUGH_INFO', 'NOT_ENOUGH_INFO', 'NOT_ENOUGH_INFO', 'NOT_ENOUGH_INFO', 'NOT_ENOUGH_INFO', 'SUPPORTS', 'NOT_ENOUGH_INFO', 'NOT_ENOUGH_INFO', 'NOT_ENOUGH_INFO', 'NOT_ENOUGH_INFO', 'NOT_ENOUGH_INFO', 'NOT_ENOUGH_INFO', 'NOT_ENOUGH_INFO', 'NOT_ENOUGH_INFO', 'NOT_ENOUGH_INFO', 'NOT_ENOUGH_INFO', 'NOT_ENOUGH_INFO', 'NOT_ENOUGH_INFO', 'SUPPORTS', 'SUPPORTS', 'SUPPORTS', 'NOT_ENOUGH_INFO', 'NOT_ENOUGH_INFO', 'SUPPORTS', 'NOT_ENOUGH_INFO', 'NOT_ENOUGH_INFO', 'SUPPORTS', 'NOT_ENOUGH_INFO', 'SUPPORTS', 'SUPPORTS', 'NOT_ENOUGH_INFO', 'SUPPORTS', 'NOT_ENOUGH_INFO', 'NOT_ENOUGH_INFO', 'NOT_ENOUGH_INFO', 'SUPPORTS', 'NOT_ENOUGH_INFO', 'NOT_ENOUGH_INFO', 'NOT_ENOUGH_INFO', 'NOT_ENOUGH_INFO', 'NOT_ENOUGH_INFO', 'NOT_ENOUGH_INFO', 'NOT_ENOUGH_INFO', 'NOT_ENOUGH_INFO', 'NOT_ENOUGH_INFO', 'NOT_ENOUGH_INFO', 'NOT_ENOUGH_INFO', 'NOT_ENOUGH_INFO', 'SUPPORTS', 'NOT_ENOUGH_INFO', 'SUPPORTS', 'NOT_ENOUGH_INFO', 'NOT_ENOUGH_INFO', 'NOT_ENOUGH_INFO', 'NOT_ENOUGH_INFO', 'NOT_ENOUGH_INFO', 'NOT_ENOUGH_INFO', 'SUPPORTS', 'SUPPORTS', 'SUPPORTS', 'SUPPORTS', 'SUPPORTS', 'NOT_ENOUGH_INFO', 'SUPPORTS', 'SUPPORTS', 'SUPPORTS', 'SUPPORTS', 'NOT_ENOUGH_INFO', 'NOT_ENOUGH_INFO', 'NOT_ENOUGH_INFO', 'NOT_ENOUGH_INFO', 'NOT_ENOUGH_INFO', 'NOT_ENOUGH_INFO', 'NOT_ENOUGH_INFO', 'NOT_ENOUGH_INFO', 'NOT_ENOUGH_INFO', 'NOT_ENOUGH_INFO', 'NOT_ENOUGH_INFO', 'NOT_ENOUGH_INFO', 'NOT_ENOUGH_INFO', 'NOT_ENOUGH_INFO', 'NOT_ENOUGH_INFO', 'NOT_ENOUGH_INFO', 'NOT_ENOUGH_INFO', 'NOT_ENOUGH_INFO', 'NOT_ENOUGH_INFO', 'NOT_ENOUGH_INFO', 'SUPPORTS', 'SUPPORTS', 'SUPPORTS', 'SUPPORTS', 'SUPPORTS', 'SUPPORTS', 'SUPPORTS', 'SUPPORTS', 'SUPPORTS', 'SUPPORTS', 'REFUTES', 'REFUTES', 'REFUTES', 'REFUTES', 'REFUTES', 'NOT_ENOUGH_INFO', 'NOT_ENOUGH_INFO', 'NOT_ENOUGH_INFO', 'NOT_ENOUGH_INFO', 'NOT_ENOUGH_INFO', 'SUPPORTS', 'SUPPORTS', 'SUPPORTS', 'SUPPORTS', 'SUPPORTS', 'SUPPORTS', 'SUPPORTS', 'SUPPORTS', 'SUPPORTS', 'SUPPORTS', 'SUPPORTS', 'NOT_ENOUGH_INFO', 'SUPPORTS', 'SUPPORTS', 'SUPPORTS', 'SUPPORTS', 'NOT_ENOUGH_INFO', 'SUPPORTS', 'SUPPORTS', 'SUPPORTS', 'SUPPORTS', 'SUPPORTS', 'NOT_ENOUGH_INFO', 'NOT_ENOUGH_INFO', 'NOT_ENOUGH_INFO', 'NOT_ENOUGH_INFO', 'NOT_ENOUGH_INFO', 'NOT_ENOUGH_INFO', 'NOT_ENOUGH_INFO', 'NOT_ENOUGH_INFO', 'NOT_ENOUGH_INFO', 'SUPPORTS', 'NOT_ENOUGH_INFO', 'SUPPORTS', 'NOT_ENOUGH_INFO', 'SUPPORTS', 'SUPPORTS', 'SUPPORTS', 'SUPPORTS', 'SUPPORTS', 'SUPPORTS', 'SUPPORTS', 'SUPPORTS', 'NOT_ENOUGH_INFO', 'NOT_ENOUGH_INFO', 'SUPPORTS', 'SUPPORTS', 'NOT_ENOUGH_INFO', 'SUPPORTS', 'SUPPORTS', 'NOT_ENOUGH_INFO', 'NOT_ENOUGH_INFO', 'NOT_ENOUGH_INFO', 'NOT_ENOUGH_INFO', 'NOT_ENOUGH_INFO', 'NOT_ENOUGH_INFO', 'NOT_ENOUGH_INFO', 'NOT_ENOUGH_INFO', 'NOT_ENOUGH_INFO', 'NOT_ENOUGH_INFO', 'NOT_ENOUGH_INFO', 'SUPPORTS', 'SUPPORTS', 'SUPPORTS', 'SUPPORTS', 'SUPPORTS', 'SUPPORTS', 'SUPPORTS', 'SUPPORTS', 'SUPPORTS', 'SUPPORTS', 'SUPPORTS', 'SUPPORTS', 'NOT_ENOUGH_INFO', 'NOT_ENOUGH_INFO', 'NOT_ENOUGH_INFO', 'NOT_ENOUGH_INFO', 'SUPPORTS', 'SUPPORTS', 'NOT_ENOUGH_INFO', 'NOT_ENOUGH_INFO', 'SUPPORTS', 'SUPPORTS', 'NOT_ENOUGH_INFO', 'NOT_ENOUGH_INFO', 'NOT_ENOUGH_INFO', 'NOT_ENOUGH_INFO', 'NOT_ENOUGH_INFO', 'NOT_ENOUGH_INFO', 'NOT_ENOUGH_INFO', 'NOT_ENOUGH_INFO', 'NOT_ENOUGH_INFO', 'NOT_ENOUGH_INFO', 'NOT_ENOUGH_INFO', 'NOT_ENOUGH_INFO', 'NOT_ENOUGH_INFO', 'NOT_ENOUGH_INFO', 'NOT_ENOUGH_INFO', 'NOT_ENOUGH_INFO', 'NOT_ENOUGH_INFO', 'SUPPORTS', 'NOT_ENOUGH_INFO', 'NOT_ENOUGH_INFO', 'NOT_ENOUGH_INFO', 'NOT_ENOUGH_INFO', 'SUPPORTS', 'SUPPORTS', 'NOT_ENOUGH_INFO', 'SUPPORTS', 'NOT_ENOUGH_INFO', 'NOT_ENOUGH_INFO', 'NOT_ENOUGH_INFO', 'NOT_ENOUGH_INFO', 'NOT_ENOUGH_INFO', 'NOT_ENOUGH_INFO', 'NOT_ENOUGH_INFO', 'NOT_ENOUGH_INFO', 'NOT_ENOUGH_INFO', 'NOT_ENOUGH_INFO', 'NOT_ENOUGH_INFO', 'NOT_ENOUGH_INFO', 'NOT_ENOUGH_INFO', 'NOT_ENOUGH_INFO', 'NOT_ENOUGH_INFO', 'NOT_ENOUGH_INFO', 'NOT_ENOUGH_INFO', 'NOT_ENOUGH_INFO', 'NOT_ENOUGH_INFO', 'NOT_ENOUGH_INFO', 'NOT_ENOUGH_INFO', 'SUPPORTS', 'SUPPORTS', 'SUPPORTS', 'SUPPORTS', 'SUPPORTS', 'SUPPORTS', 'SUPPORTS', 'SUPPORTS', 'SUPPORTS', 'SUPPORTS', 'NOT_ENOUGH_INFO', 'NOT_ENOUGH_INFO', 'NOT_ENOUGH_INFO', 'NOT_ENOUGH_INFO', 'NOT_ENOUGH_INFO', 'NOT_ENOUGH_INFO', 'NOT_ENOUGH_INFO', 'NOT_ENOUGH_INFO', 'NOT_ENOUGH_INFO', 'NOT_ENOUGH_INFO', 'SUPPORTS', 'SUPPORTS', 'SUPPORTS', 'SUPPORTS', 'SUPPORTS', 'SUPPORTS', 'SUPPORTS', 'SUPPORTS', 'SUPPORTS', 'SUPPORTS', 'SUPPORTS', 'SUPPORTS', 'SUPPORTS', 'SUPPORTS', 'SUPPORTS', 'SUPPORTS', 'SUPPORTS', 'SUPPORTS', 'SUPPORTS', 'SUPPORTS', 'SUPPORTS', 'NOT_ENOUGH_INFO', 'SUPPORTS', 'NOT_ENOUGH_INFO', 'SUPPORTS', 'SUPPORTS', 'NOT_ENOUGH_INFO', 'SUPPORTS', 'SUPPORTS', 'SUPPORTS', 'SUPPORTS', 'SUPPORTS', 'SUPPORTS', 'SUPPORTS', 'SUPPORTS', 'SUPPORTS', 'SUPPORTS', 'SUPPORTS', 'SUPPORTS', 'SUPPORTS', 'SUPPORTS', 'SUPPORTS', 'SUPPORTS', 'SUPPORTS', 'SUPPORTS', 'NOT_ENOUGH_INFO', 'SUPPORTS', 'NOT_ENOUGH_INFO', 'SUPPORTS', 'SUPPORTS', 'SUPPORTS', 'NOT_ENOUGH_INFO', 'SUPPORTS', 'SUPPORTS', 'NOT_ENOUGH_INFO', 'SUPPORTS', 'SUPPORTS', 'SUPPORTS', 'SUPPORTS', 'SUPPORTS', 'SUPPORTS', 'SUPPORTS', 'NOT_ENOUGH_INFO', 'SUPPORTS', 'SUPPORTS', 'SUPPORTS', 'SUPPORTS', 'SUPPORTS', 'SUPPORTS', 'NOT_ENOUGH_INFO', 'NOT_ENOUGH_INFO', 'NOT_ENOUGH_INFO', 'NOT_ENOUGH_INFO', 'NOT_ENOUGH_INFO', 'NOT_ENOUGH_INFO', 'NOT_ENOUGH_INFO', 'NOT_ENOUGH_INFO', 'NOT_ENOUGH_INFO', 'NOT_ENOUGH_INFO', 'NOT_ENOUGH_INFO', 'NOT_ENOUGH_INFO', 'NOT_ENOUGH_INFO', 'SUPPORTS', 'SUPPORTS', 'SUPPORTS', 'SUPPORTS', 'SUPPORTS', 'SUPPORTS', 'SUPPORTS', 'SUPPORTS', 'SUPPORTS', 'SUPPORTS', 'SUPPORTS', 'SUPPORTS', 'SUPPORTS', 'SUPPORTS', 'SUPPORTS', 'SUPPORTS', 'SUPPORTS', 'SUPPORTS', 'NOT_ENOUGH_INFO', 'SUPPORTS', 'SUPPORTS', 'SUPPORTS', 'NOT_ENOUGH_INFO', 'NOT_ENOUGH_INFO', 'SUPPORTS', 'SUPPORTS', 'SUPPORTS', 'SUPPORTS', 'NOT_ENOUGH_INFO', 'NOT_ENOUGH_INFO', 'NOT_ENOUGH_INFO', 'NOT_ENOUGH_INFO', 'NOT_ENOUGH_INFO', 'NOT_ENOUGH_INFO', 'NOT_ENOUGH_INFO', 'NOT_ENOUGH_INFO', 'NOT_ENOUGH_INFO', 'NOT_ENOUGH_INFO', 'NOT_ENOUGH_INFO', 'NOT_ENOUGH_INFO', 'NOT_ENOUGH_INFO', 'NOT_ENOUGH_INFO', 'NOT_ENOUGH_INFO', 'NOT_ENOUGH_INFO', 'NOT_ENOUGH_INFO', 'NOT_ENOUGH_INFO', 'NOT_ENOUGH_INFO', 'NOT_ENOUGH_INFO', 'SUPPORTS', 'SUPPORTS', 'SUPPORTS', 'SUPPORTS', 'SUPPORTS', 'SUPPORTS', 'SUPPORTS', 'SUPPORTS', 'SUPPORTS', 'NOT_ENOUGH_INFO', 'NOT_ENOUGH_INFO', 'NOT_ENOUGH_INFO', 'SUPPORTS', 'NOT_ENOUGH_INFO', 'NOT_ENOUGH_INFO', 'NOT_ENOUGH_INFO', 'NOT_ENOUGH_INFO', 'NOT_ENOUGH_INFO', 'NOT_ENOUGH_INFO', 'NOT_ENOUGH_INFO', 'NOT_ENOUGH_INFO', 'NOT_ENOUGH_INFO', 'NOT_ENOUGH_INFO', 'NOT_ENOUGH_INFO', 'NOT_ENOUGH_INFO', 'NOT_ENOUGH_INFO', 'NOT_ENOUGH_INFO', 'NOT_ENOUGH_INFO', 'NOT_ENOUGH_INFO', 'NOT_ENOUGH_INFO', 'SUPPORTS', 'SUPPORTS', 'SUPPORTS', 'SUPPORTS', 'SUPPORTS', 'SUPPORTS', 'NOT_ENOUGH_INFO', 'SUPPORTS', 'SUPPORTS', 'SUPPORTS', 'NOT_ENOUGH_INFO', 'NOT_ENOUGH_INFO', 'NOT_ENOUGH_INFO', 'NOT_ENOUGH_INFO', 'NOT_ENOUGH_INFO', 'NOT_ENOUGH_INFO', 'NOT_ENOUGH_INFO', 'NOT_ENOUGH_INFO', 'NOT_ENOUGH_INFO', 'NOT_ENOUGH_INFO', 'SUPPORTS', 'NOT_ENOUGH_INFO', 'SUPPORTS', 'NOT_ENOUGH_INFO', 'NOT_ENOUGH_INFO', 'NOT_ENOUGH_INFO', 'NOT_ENOUGH_INFO', 'NOT_ENOUGH_INFO', 'NOT_ENOUGH_INFO', 'NOT_ENOUGH_INFO', 'NOT_ENOUGH_INFO', 'NOT_ENOUGH_INFO', 'NOT_ENOUGH_INFO', 'NOT_ENOUGH_INFO', 'NOT_ENOUGH_INFO', 'NOT_ENOUGH_INFO', 'NOT_ENOUGH_INFO', 'NOT_ENOUGH_INFO', 'NOT_ENOUGH_INFO', 'NOT_ENOUGH_INFO', 'SUPPORTS', 'SUPPORTS', 'SUPPORTS', 'SUPPORTS', 'SUPPORTS', 'SUPPORTS', 'SUPPORTS', 'SUPPORTS', 'SUPPORTS', 'SUPPORTS', 'NOT_ENOUGH_INFO', 'NOT_ENOUGH_INFO', 'NOT_ENOUGH_INFO', 'NOT_ENOUGH_INFO', 'NOT_ENOUGH_INFO', 'NOT_ENOUGH_INFO', 'NOT_ENOUGH_INFO', 'NOT_ENOUGH_INFO', 'NOT_ENOUGH_INFO', 'NOT_ENOUGH_INFO', 'NOT_ENOUGH_INFO', 'SUPPORTS', 'NOT_ENOUGH_INFO', 'NOT_ENOUGH_INFO', 'NOT_ENOUGH_INFO', 'NOT_ENOUGH_INFO', 'NOT_ENOUGH_INFO', 'NOT_ENOUGH_INFO', 'NOT_ENOUGH_INFO', 'NOT_ENOUGH_INFO', 'SUPPORTS', 'SUPPORTS', 'SUPPORTS', 'SUPPORTS', 'SUPPORTS', 'SUPPORTS', 'SUPPORTS', 'SUPPORTS', 'SUPPORTS', 'SUPPORTS', 'NOT_ENOUGH_INFO', 'NOT_ENOUGH_INFO', 'NOT_ENOUGH_INFO', 'NOT_ENOUGH_INFO', 'NOT_ENOUGH_INFO', 'NOT_ENOUGH_INFO', 'NOT_ENOUGH_INFO', 'NOT_ENOUGH_INFO', 'NOT_ENOUGH_INFO', 'NOT_ENOUGH_INFO', 'SUPPORTS', 'SUPPORTS', 'SUPPORTS', 'SUPPORTS', 'SUPPORTS', 'SUPPORTS', 'SUPPORTS', 'SUPPORTS', 'SUPPORTS', 'SUPPORTS', 'NOT_ENOUGH_INFO', 'SUPPORTS', 'SUPPORTS', 'SUPPORTS', 'NOT_ENOUGH_INFO', 'NOT_ENOUGH_INFO', 'SUPPORTS', 'NOT_ENOUGH_INFO', 'NOT_ENOUGH_INFO', 'NOT_ENOUGH_INFO', 'SUPPORTS', 'SUPPORTS', 'SUPPORTS', 'SUPPORTS', 'SUPPORTS', 'SUPPORTS', 'SUPPORTS', 'SUPPORTS', 'SUPPORTS', 'SUPPORTS', 'NOT_ENOUGH_INFO', 'NOT_ENOUGH_INFO', 'NOT_ENOUGH_INFO', 'NOT_ENOUGH_INFO', 'NOT_ENOUGH_INFO', 'NOT_ENOUGH_INFO', 'NOT_ENOUGH_INFO', 'NOT_ENOUGH_INFO', 'NOT_ENOUGH_INFO', 'NOT_ENOUGH_INFO', 'NOT_ENOUGH_INFO', 'NOT_ENOUGH_INFO', 'NOT_ENOUGH_INFO', 'NOT_ENOUGH_INFO', 'NOT_ENOUGH_INFO', 'NOT_ENOUGH_INFO', 'NOT_ENOUGH_INFO', 'NOT_ENOUGH_INFO', 'NOT_ENOUGH_INFO', 'NOT_ENOUGH_INFO', 'NOT_ENOUGH_INFO', 'NOT_ENOUGH_INFO', 'NOT_ENOUGH_INFO', 'NOT_ENOUGH_INFO', 'NOT_ENOUGH_INFO', 'NOT_ENOUGH_INFO', 'NOT_ENOUGH_INFO', 'NOT_ENOUGH_INFO', 'NOT_ENOUGH_INFO', 'NOT_ENOUGH_INFO', 'NOT_ENOUGH_INFO', 'NOT_ENOUGH_INFO', 'NOT_ENOUGH_INFO', 'NOT_ENOUGH_INFO', 'NOT_ENOUGH_INFO', 'NOT_ENOUGH_INFO', 'NOT_ENOUGH_INFO', 'NOT_ENOUGH_INFO', 'NOT_ENOUGH_INFO', 'NOT_ENOUGH_INFO', 'NOT_ENOUGH_INFO', 'NOT_ENOUGH_INFO', 'NOT_ENOUGH_INFO', 'NOT_ENOUGH_INFO', 'NOT_ENOUGH_INFO', 'SUPPORTS', 'NOT_ENOUGH_INFO', 'NOT_ENOUGH_INFO', 'NOT_ENOUGH_INFO', 'NOT_ENOUGH_INFO', 'NOT_ENOUGH_INFO', 'NOT_ENOUGH_INFO', 'NOT_ENOUGH_INFO', 'NOT_ENOUGH_INFO', 'NOT_ENOUGH_INFO', 'NOT_ENOUGH_INFO', 'NOT_ENOUGH_INFO', 'NOT_ENOUGH_INFO', 'SUPPORTS', 'NOT_ENOUGH_INFO', 'NOT_ENOUGH_INFO', 'NOT_ENOUGH_INFO', 'NOT_ENOUGH_INFO', 'NOT_ENOUGH_INFO', 'NOT_ENOUGH_INFO', 'REFUTES', 'NOT_ENOUGH_INFO', 'SUPPORTS', 'NOT_ENOUGH_INFO', 'NOT_ENOUGH_INFO', 'NOT_ENOUGH_INFO', 'NOT_ENOUGH_INFO', 'SUPPORTS', 'SUPPORTS', 'SUPPORTS', 'SUPPORTS', 'NOT_ENOUGH_INFO', 'SUPPORTS', 'SUPPORTS', 'SUPPORTS', 'NOT_ENOUGH_INFO', 'NOT_ENOUGH_INFO', 'NOT_ENOUGH_INFO', 'NOT_ENOUGH_INFO', 'NOT_ENOUGH_INFO', 'NOT_ENOUGH_INFO', 'REFUTES', 'NOT_ENOUGH_INFO', 'NOT_ENOUGH_INFO', 'NOT_ENOUGH_INFO', 'NOT_ENOUGH_INFO', 'NOT_ENOUGH_INFO', 'NOT_ENOUGH_INFO', 'SUPPORTS', 'NOT_ENOUGH_INFO', 'SUPPORTS', 'NOT_ENOUGH_INFO', 'NOT_ENOUGH_INFO', 'SUPPORTS', 'NOT_ENOUGH_INFO', 'NOT_ENOUGH_INFO', 'NOT_ENOUGH_INFO', 'SUPPORTS', 'NOT_ENOUGH_INFO', 'NOT_ENOUGH_INFO', 'NOT_ENOUGH_INFO', 'SUPPORTS', 'SUPPORTS', 'SUPPORTS', 'SUPPORTS', 'NOT_ENOUGH_INFO', 'NOT_ENOUGH_INFO', 'NOT_ENOUGH_INFO', 'NOT_ENOUGH_INFO', 'NOT_ENOUGH_INFO', 'SUPPORTS', 'NOT_ENOUGH_INFO', 'NOT_ENOUGH_INFO', 'NOT_ENOUGH_INFO', 'NOT_ENOUGH_INFO', 'REFUTES', 'NOT_ENOUGH_INFO', 'REFUTES', 'REFUTES', 'NOT_ENOUGH_INFO', 'NOT_ENOUGH_INFO', 'REFUTES', 'REFUTES', 'NOT_ENOUGH_INFO', 'SUPPORTS', 'NOT_ENOUGH_INFO', 'NOT_ENOUGH_INFO', 'NOT_ENOUGH_INFO', 'NOT_ENOUGH_INFO', 'NOT_ENOUGH_INFO', 'NOT_ENOUGH_INFO', 'NOT_ENOUGH_INFO', 'NOT_ENOUGH_INFO', 'NOT_ENOUGH_INFO', 'NOT_ENOUGH_INFO', 'NOT_ENOUGH_INFO', 'NOT_ENOUGH_INFO', 'NOT_ENOUGH_INFO', 'NOT_ENOUGH_INFO', 'NOT_ENOUGH_INFO', 'NOT_ENOUGH_INFO', 'NOT_ENOUGH_INFO', 'NOT_ENOUGH_INFO', 'NOT_ENOUGH_INFO', 'NOT_ENOUGH_INFO', 'NOT_ENOUGH_INFO', 'SUPPORTS', 'SUPPORTS', 'REFUTES', 'SUPPORTS', 'REFUTES', 'SUPPORTS', 'SUPPORTS', 'SUPPORTS', 'REFUTES', 'NOT_ENOUGH_INFO', 'NOT_ENOUGH_INFO', 'NOT_ENOUGH_INFO', 'NOT_ENOUGH_INFO', 'NOT_ENOUGH_INFO', 'NOT_ENOUGH_INFO', 'NOT_ENOUGH_INFO', 'NOT_ENOUGH_INFO', 'NOT_ENOUGH_INFO', 'NOT_ENOUGH_INFO', 'NOT_ENOUGH_INFO', 'NOT_ENOUGH_INFO', 'NOT_ENOUGH_INFO', 'NOT_ENOUGH_INFO', 'NOT_ENOUGH_INFO', 'NOT_ENOUGH_INFO', 'NOT_ENOUGH_INFO', 'NOT_ENOUGH_INFO', 'NOT_ENOUGH_INFO', 'NOT_ENOUGH_INFO', 'NOT_ENOUGH_INFO', 'NOT_ENOUGH_INFO', 'NOT_ENOUGH_INFO', 'NOT_ENOUGH_INFO', 'NOT_ENOUGH_INFO', 'NOT_ENOUGH_INFO', 'NOT_ENOUGH_INFO', 'NOT_ENOUGH_INFO', 'NOT_ENOUGH_INFO', 'NOT_ENOUGH_INFO', 'NOT_ENOUGH_INFO', 'SUPPORTS', 'SUPPORTS', 'SUPPORTS', 'NOT_ENOUGH_INFO', 'NOT_ENOUGH_INFO', 'SUPPORTS', 'SUPPORTS', 'NOT_ENOUGH_INFO', 'SUPPORTS', 'NOT_ENOUGH_INFO', 'REFUTES', 'SUPPORTS', 'SUPPORTS', 'SUPPORTS', 'SUPPORTS', 'SUPPORTS', 'NOT_ENOUGH_INFO', 'SUPPORTS', 'SUPPORTS', 'NOT_ENOUGH_INFO', 'NOT_ENOUGH_INFO', 'NOT_ENOUGH_INFO', 'NOT_ENOUGH_INFO', 'NOT_ENOUGH_INFO', 'NOT_ENOUGH_INFO', 'NOT_ENOUGH_INFO', 'NOT_ENOUGH_INFO', 'NOT_ENOUGH_INFO', 'REFUTES', 'SUPPORTS', 'SUPPORTS', 'SUPPORTS', 'NOT_ENOUGH_INFO', 'NOT_ENOUGH_INFO', 'SUPPORTS', 'SUPPORTS', 'SUPPORTS', 'SUPPORTS', 'SUPPORTS', 'NOT_ENOUGH_INFO', 'NOT_ENOUGH_INFO', 'NOT_ENOUGH_INFO', 'REFUTES', 'NOT_ENOUGH_INFO', 'REFUTES', 'NOT_ENOUGH_INFO', 'REFUTES', 'REFUTES', 'NOT_ENOUGH_INFO', 'REFUTES', 'NOT_ENOUGH_INFO', 'REFUTES', 'REFUTES', 'NOT_ENOUGH_INFO', 'REFUTES', 'REFUTES', 'NOT_ENOUGH_INFO', 'NOT_ENOUGH_INFO', 'NOT_ENOUGH_INFO', 'NOT_ENOUGH_INFO', 'NOT_ENOUGH_INFO', 'NOT_ENOUGH_INFO', 'NOT_ENOUGH_INFO', 'NOT_ENOUGH_INFO', 'NOT_ENOUGH_INFO', 'NOT_ENOUGH_INFO', 'NOT_ENOUGH_INFO', 'NOT_ENOUGH_INFO', 'NOT_ENOUGH_INFO', 'SUPPORTS', 'NOT_ENOUGH_INFO', 'NOT_ENOUGH_INFO', 'NOT_ENOUGH_INFO', 'SUPPORTS', 'NOT_ENOUGH_INFO', 'NOT_ENOUGH_INFO', 'NOT_ENOUGH_INFO', 'NOT_ENOUGH_INFO', 'NOT_ENOUGH_INFO', 'SUPPORTS', 'NOT_ENOUGH_INFO', 'SUPPORTS', 'SUPPORTS', 'NOT_ENOUGH_INFO', 'SUPPORTS', 'SUPPORTS', 'NOT_ENOUGH_INFO', 'NOT_ENOUGH_INFO', 'SUPPORTS', 'SUPPORTS', 'SUPPORTS', 'SUPPORTS', 'SUPPORTS', 'SUPPORTS', 'SUPPORTS', 'SUPPORTS', 'SUPPORTS', 'SUPPORTS', 'SUPPORTS', 'SUPPORTS', 'SUPPORTS', 'SUPPORTS', 'SUPPORTS', 'SUPPORTS', 'SUPPORTS', 'SUPPORTS', 'NOT_ENOUGH_INFO', 'SUPPORTS', 'SUPPORTS', 'NOT_ENOUGH_INFO', 'NOT_ENOUGH_INFO', 'NOT_ENOUGH_INFO', 'NOT_ENOUGH_INFO', 'NOT_ENOUGH_INFO', 'NOT_ENOUGH_INFO', 'NOT_ENOUGH_INFO', 'NOT_ENOUGH_INFO', 'SUPPORTS', 'NOT_ENOUGH_INFO', 'SUPPORTS', 'NOT_ENOUGH_INFO', 'SUPPORTS', 'SUPPORTS', 'SUPPORTS', 'SUPPORTS', 'NOT_ENOUGH_INFO', 'SUPPORTS', 'SUPPORTS', 'SUPPORTS', 'NOT_ENOUGH_INFO', 'NOT_ENOUGH_INFO', 'NOT_ENOUGH_INFO', 'NOT_ENOUGH_INFO', 'NOT_ENOUGH_INFO', 'NOT_ENOUGH_INFO', 'NOT_ENOUGH_INFO', 'SUPPORTS', 'NOT_ENOUGH_INFO', 'NOT_ENOUGH_INFO', 'NOT_ENOUGH_INFO', 'NOT_ENOUGH_INFO', 'NOT_ENOUGH_INFO', 'NOT_ENOUGH_INFO', 'NOT_ENOUGH_INFO', 'NOT_ENOUGH_INFO', 'NOT_ENOUGH_INFO', 'NOT_ENOUGH_INFO', 'NOT_ENOUGH_INFO', 'NOT_ENOUGH_INFO', 'NOT_ENOUGH_INFO', 'NOT_ENOUGH_INFO', 'NOT_ENOUGH_INFO', 'NOT_ENOUGH_INFO', 'NOT_ENOUGH_INFO', 'NOT_ENOUGH_INFO', 'NOT_ENOUGH_INFO', 'NOT_ENOUGH_INFO', 'NOT_ENOUGH_INFO', 'NOT_ENOUGH_INFO', 'NOT_ENOUGH_INFO', 'NOT_ENOUGH_INFO', 'NOT_ENOUGH_INFO', 'NOT_ENOUGH_INFO', 'NOT_ENOUGH_INFO', 'NOT_ENOUGH_INFO', 'NOT_ENOUGH_INFO', 'NOT_ENOUGH_INFO', 'NOT_ENOUGH_INFO', 'NOT_ENOUGH_INFO', 'NOT_ENOUGH_INFO', 'NOT_ENOUGH_INFO', 'NOT_ENOUGH_INFO', 'NOT_ENOUGH_INFO', 'NOT_ENOUGH_INFO', 'NOT_ENOUGH_INFO', 'NOT_ENOUGH_INFO', 'NOT_ENOUGH_INFO', 'NOT_ENOUGH_INFO', 'NOT_ENOUGH_INFO', 'SUPPORTS', 'SUPPORTS', 'SUPPORTS', 'SUPPORTS', 'NOT_ENOUGH_INFO', 'SUPPORTS', 'SUPPORTS', 'SUPPORTS', 'SUPPORTS', 'SUPPORTS', 'NOT_ENOUGH_INFO', 'NOT_ENOUGH_INFO', 'NOT_ENOUGH_INFO', 'NOT_ENOUGH_INFO', 'NOT_ENOUGH_INFO', 'NOT_ENOUGH_INFO', 'NOT_ENOUGH_INFO', 'NOT_ENOUGH_INFO', 'NOT_ENOUGH_INFO', 'NOT_ENOUGH_INFO', 'SUPPORTS', 'SUPPORTS', 'SUPPORTS', 'SUPPORTS', 'SUPPORTS', 'SUPPORTS', 'SUPPORTS', 'SUPPORTS', 'SUPPORTS', 'SUPPORTS', 'NOT_ENOUGH_INFO', 'NOT_ENOUGH_INFO', 'NOT_ENOUGH_INFO', 'NOT_ENOUGH_INFO', 'NOT_ENOUGH_INFO', 'NOT_ENOUGH_INFO', 'NOT_ENOUGH_INFO', 'NOT_ENOUGH_INFO', 'NOT_ENOUGH_INFO', 'NOT_ENOUGH_INFO', 'NOT_ENOUGH_INFO', 'NOT_ENOUGH_INFO', 'NOT_ENOUGH_INFO', 'SUPPORTS', 'SUPPORTS', 'NOT_ENOUGH_INFO', 'NOT_ENOUGH_INFO', 'NOT_ENOUGH_INFO', 'NOT_ENOUGH_INFO', 'NOT_ENOUGH_INFO', 'SUPPORTS', 'REFUTES', 'SUPPORTS', 'NOT_ENOUGH_INFO', 'REFUTES', 'SUPPORTS', 'SUPPORTS', 'SUPPORTS', 'SUPPORTS', 'NOT_ENOUGH_INFO', 'SUPPORTS', 'NOT_ENOUGH_INFO', 'SUPPORTS', 'SUPPORTS', 'SUPPORTS', 'SUPPORTS', 'NOT_ENOUGH_INFO', 'SUPPORTS', 'NOT_ENOUGH_INFO', 'SUPPORTS', 'NOT_ENOUGH_INFO', 'SUPPORTS', 'NOT_ENOUGH_INFO', 'SUPPORTS', 'NOT_ENOUGH_INFO', 'NOT_ENOUGH_INFO', 'NOT_ENOUGH_INFO', 'NOT_ENOUGH_INFO', 'NOT_ENOUGH_INFO', 'NOT_ENOUGH_INFO', 'NOT_ENOUGH_INFO', 'NOT_ENOUGH_INFO', 'NOT_ENOUGH_INFO', 'NOT_ENOUGH_INFO', 'NOT_ENOUGH_INFO', 'NOT_ENOUGH_INFO', 'NOT_ENOUGH_INFO', 'NOT_ENOUGH_INFO', 'NOT_ENOUGH_INFO', 'NOT_ENOUGH_INFO', 'SUPPORTS', 'NOT_ENOUGH_INFO', 'NOT_ENOUGH_INFO', 'NOT_ENOUGH_INFO', 'SUPPORTS', 'SUPPORTS', 'NOT_ENOUGH_INFO', 'NOT_ENOUGH_INFO', 'NOT_ENOUGH_INFO', 'NOT_ENOUGH_INFO', 'NOT_ENOUGH_INFO', 'NOT_ENOUGH_INFO', 'NOT_ENOUGH_INFO', 'NOT_ENOUGH_INFO', 'NOT_ENOUGH_INFO', 'NOT_ENOUGH_INFO', 'NOT_ENOUGH_INFO', 'NOT_ENOUGH_INFO', 'NOT_ENOUGH_INFO', 'NOT_ENOUGH_INFO', 'NOT_ENOUGH_INFO', 'NOT_ENOUGH_INFO', 'NOT_ENOUGH_INFO', 'NOT_ENOUGH_INFO', 'NOT_ENOUGH_INFO', 'NOT_ENOUGH_INFO', 'NOT_ENOUGH_INFO', 'NOT_ENOUGH_INFO', 'NOT_ENOUGH_INFO', 'NOT_ENOUGH_INFO', 'NOT_ENOUGH_INFO', 'NOT_ENOUGH_INFO', 'NOT_ENOUGH_INFO', 'NOT_ENOUGH_INFO', 'NOT_ENOUGH_INFO', 'NOT_ENOUGH_INFO', 'NOT_ENOUGH_INFO', 'NOT_ENOUGH_INFO', 'NOT_ENOUGH_INFO', 'NOT_ENOUGH_INFO', 'NOT_ENOUGH_INFO', 'NOT_ENOUGH_INFO', 'NOT_ENOUGH_INFO', 'NOT_ENOUGH_INFO', 'NOT_ENOUGH_INFO', 'NOT_ENOUGH_INFO', 'NOT_ENOUGH_INFO', 'NOT_ENOUGH_INFO', 'NOT_ENOUGH_INFO', 'NOT_ENOUGH_INFO', 'SUPPORTS', 'SUPPORTS', 'SUPPORTS', 'SUPPORTS', 'SUPPORTS', 'SUPPORTS', 'SUPPORTS', 'SUPPORTS', 'SUPPORTS', 'SUPPORTS', 'NOT_ENOUGH_INFO', 'NOT_ENOUGH_INFO', 'NOT_ENOUGH_INFO', 'NOT_ENOUGH_INFO', 'NOT_ENOUGH_INFO', 'NOT_ENOUGH_INFO', 'NOT_ENOUGH_INFO', 'NOT_ENOUGH_INFO', 'NOT_ENOUGH_INFO', 'NOT_ENOUGH_INFO', 'NOT_ENOUGH_INFO', 'NOT_ENOUGH_INFO', 'NOT_ENOUGH_INFO', 'NOT_ENOUGH_INFO', 'NOT_ENOUGH_INFO', 'NOT_ENOUGH_INFO', 'NOT_ENOUGH_INFO', 'NOT_ENOUGH_INFO', 'NOT_ENOUGH_INFO', 'NOT_ENOUGH_INFO']\n",
            "1530\n",
            "1530\n"
          ]
        }
      ]
    },
    {
      "cell_type": "code",
      "source": [
        "print(len(newest_test))\n",
        "newest_test['claim_label'] = test_prediction\n",
        "print(newest_test.head())"
      ],
      "metadata": {
        "id": "gUBlYioHlnjj",
        "colab": {
          "base_uri": "https://localhost:8080/"
        },
        "outputId": "6b8e4073-686f-493c-c29f-150066476a5f"
      },
      "execution_count": null,
      "outputs": [
        {
          "output_type": "stream",
          "name": "stdout",
          "text": [
            "1530\n",
            "     claim_id                                         claim_text  \\\n",
            "0  claim-1001  ‘This study goes beyond statistical correlatio...   \n",
            "1  claim-1001  ‘This study goes beyond statistical correlatio...   \n",
            "2  claim-1001  ‘This study goes beyond statistical correlatio...   \n",
            "3  claim-1001  ‘This study goes beyond statistical correlatio...   \n",
            "4  claim-1001  ‘This study goes beyond statistical correlatio...   \n",
            "\n",
            "          evidences  has_evidence  softmax_values      claim_label  label  \n",
            "0   evidence-463484             1        0.031653  NOT_ENOUGH_INFO      1  \n",
            "1   evidence-853782             1        0.031542  NOT_ENOUGH_INFO      1  \n",
            "2   evidence-277435             1        0.031297  NOT_ENOUGH_INFO      1  \n",
            "3  evidence-1003901             1        0.031286  NOT_ENOUGH_INFO      1  \n",
            "4   evidence-929308             1        0.031262  NOT_ENOUGH_INFO      1  \n"
          ]
        }
      ]
    },
    {
      "cell_type": "code",
      "source": [
        "claim_id_list = newest_test['claim_id'].unique()\n",
        "json_data = pd.DataFrame(columns=['claim_id','claim_text','evidences','claim_label'])\n",
        "for id in claim_id_list:\n",
        "  claim = newest_test.loc[newest_test.claim_id== id, 'claim_text'].values[0]\n",
        "  evidences = newest_test.loc[newest_test.claim_id== id, 'evidences'].values\n",
        "  labels = newest_test.loc[newest_test.claim_id== id, 'claim_label'].values\n",
        "  if 'SUPPORTS' in labels:\n",
        "    label = 'SUPPORTS'\n",
        "  elif 'REFUTES' in labels:\n",
        "    label = 'REFUTES'\n",
        "  elif 'DISPUTED' in labels:\n",
        "    label = 'DISPUTED'\n",
        "  else:\n",
        "    label = 'NOT_ENOUGH_INFO'\n",
        "\n",
        "  new_row = {'claim_id':id,'claim_text': claim ,'evidences':evidences,'claim_label':label}\n",
        "  json_data.loc[len(json_data)] = new_row"
      ],
      "metadata": {
        "id": "eUyuqmB0p6eK"
      },
      "execution_count": null,
      "outputs": []
    },
    {
      "cell_type": "code",
      "source": [
        "# test_json_df = newest_test.groupby(['claim_id']).agg({'claim_text': 'first','claim_label': lambda x: x.mode().iloc[0],'evidences': lambda x: list(x)})"
      ],
      "metadata": {
        "id": "qCps-bwv5bRW"
      },
      "execution_count": null,
      "outputs": []
    },
    {
      "cell_type": "code",
      "source": [
        "json_data = json_data.set_index('claim_id')\n",
        "print(json_data)"
      ],
      "metadata": {
        "id": "H5JxHooBr4Ck",
        "colab": {
          "base_uri": "https://localhost:8080/"
        },
        "outputId": "13809c76-8ae4-4783-96c5-f6db25fd1ec5"
      },
      "execution_count": null,
      "outputs": [
        {
          "output_type": "stream",
          "name": "stdout",
          "text": [
            "                                                   claim_text  \\\n",
            "claim_id                                                        \n",
            "claim-1001  ‘This study goes beyond statistical correlatio...   \n",
            "claim-1003  A recent study in Nature Geoscience, for insta...   \n",
            "claim-1009  ‘Arctic ice conditions have been tracking at r...   \n",
            "claim-1020  “The global reef crisis does not necessarily m...   \n",
            "claim-1028  A second coat of paint has much less of an eff...   \n",
            "...                                                       ...   \n",
            "claim-910   The cement, iron and steel, and petroleum refi...   \n",
            "claim-942   ‘We could be decades too fast, or decades too ...   \n",
            "claim-952   The Alaskan tundra is warming so quickly it ha...   \n",
            "claim-972   “Arctic land stores about twice as much carbon...   \n",
            "claim-979   “Warm weather worsened the most recent five-ye...   \n",
            "\n",
            "                                                    evidences      claim_label  \n",
            "claim_id                                                                        \n",
            "claim-1001  [evidence-463484, evidence-853782, evidence-27...         SUPPORTS  \n",
            "claim-1003  [evidence-636980, evidence-411817, evidence-13...         SUPPORTS  \n",
            "claim-1009  [evidence-828305, evidence-957455, evidence-10...         SUPPORTS  \n",
            "claim-1020  [evidence-727277, evidence-846807, evidence-85...          REFUTES  \n",
            "claim-1028  [evidence-1066394, evidence-625474, evidence-8...  NOT_ENOUGH_INFO  \n",
            "...                                                       ...              ...  \n",
            "claim-910   [evidence-323395, evidence-138708, evidence-28...  NOT_ENOUGH_INFO  \n",
            "claim-942   [evidence-306088, evidence-306088, evidence-18...  NOT_ENOUGH_INFO  \n",
            "claim-952   [evidence-288351, evidence-695858, evidence-93...         SUPPORTS  \n",
            "claim-972   [evidence-594052, evidence-620559, evidence-29...  NOT_ENOUGH_INFO  \n",
            "claim-979   [evidence-178433, evidence-381186, evidence-13...  NOT_ENOUGH_INFO  \n",
            "\n",
            "[153 rows x 3 columns]\n"
          ]
        }
      ]
    },
    {
      "cell_type": "code",
      "source": [
        "# TO JSON \n",
        "json_result = json_data.to_json(orient='index')"
      ],
      "metadata": {
        "id": "5ppIpbQwus_6"
      },
      "execution_count": null,
      "outputs": []
    },
    {
      "cell_type": "code",
      "source": [
        "from google.colab import files\n",
        "with open('test-claims-predictions.json', 'w') as f:\n",
        "  f.write(str(json_result))\n",
        "\n",
        "files.download('test-claims-predictions.json')"
      ],
      "metadata": {
        "id": "tYMcs01Du5O2",
        "colab": {
          "base_uri": "https://localhost:8080/",
          "height": 17
        },
        "outputId": "b476dac5-c991-45c5-8617-192ac9d8f835"
      },
      "execution_count": null,
      "outputs": [
        {
          "output_type": "display_data",
          "data": {
            "text/plain": [
              "<IPython.core.display.Javascript object>"
            ],
            "application/javascript": [
              "\n",
              "    async function download(id, filename, size) {\n",
              "      if (!google.colab.kernel.accessAllowed) {\n",
              "        return;\n",
              "      }\n",
              "      const div = document.createElement('div');\n",
              "      const label = document.createElement('label');\n",
              "      label.textContent = `Downloading \"${filename}\": `;\n",
              "      div.appendChild(label);\n",
              "      const progress = document.createElement('progress');\n",
              "      progress.max = size;\n",
              "      div.appendChild(progress);\n",
              "      document.body.appendChild(div);\n",
              "\n",
              "      const buffers = [];\n",
              "      let downloaded = 0;\n",
              "\n",
              "      const channel = await google.colab.kernel.comms.open(id);\n",
              "      // Send a message to notify the kernel that we're ready.\n",
              "      channel.send({})\n",
              "\n",
              "      for await (const message of channel.messages) {\n",
              "        // Send a message to notify the kernel that we're ready.\n",
              "        channel.send({})\n",
              "        if (message.buffers) {\n",
              "          for (const buffer of message.buffers) {\n",
              "            buffers.push(buffer);\n",
              "            downloaded += buffer.byteLength;\n",
              "            progress.value = downloaded;\n",
              "          }\n",
              "        }\n",
              "      }\n",
              "      const blob = new Blob(buffers, {type: 'application/binary'});\n",
              "      const a = document.createElement('a');\n",
              "      a.href = window.URL.createObjectURL(blob);\n",
              "      a.download = filename;\n",
              "      div.appendChild(a);\n",
              "      a.click();\n",
              "      div.remove();\n",
              "    }\n",
              "  "
            ]
          },
          "metadata": {}
        },
        {
          "output_type": "display_data",
          "data": {
            "text/plain": [
              "<IPython.core.display.Javascript object>"
            ],
            "application/javascript": [
              "download(\"download_8a8b94f3-0566-4f02-a064-8d6711e33aa8\", \"test-claims-predictions.json\", 57841)"
            ]
          },
          "metadata": {}
        }
      ]
    }
  ]
}