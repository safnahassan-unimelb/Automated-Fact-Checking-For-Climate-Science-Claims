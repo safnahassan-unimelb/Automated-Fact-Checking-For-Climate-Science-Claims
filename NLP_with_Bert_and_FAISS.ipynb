{
  "cells": [
    {
      "cell_type": "code",
      "source": [
        "pip install rank_bm25"
      ],
      "outputs": [
        {
          "output_type": "stream",
          "name": "stdout",
          "text": [
            "Looking in indexes: https://pypi.org/simple, https://us-python.pkg.dev/colab-wheels/public/simple/\n",
            "Requirement already satisfied: rank_bm25 in /usr/local/lib/python3.10/dist-packages (0.2.2)\n",
            "Requirement already satisfied: numpy in /usr/local/lib/python3.10/dist-packages (from rank_bm25) (1.22.4)\n"
          ]
        }
      ],
      "execution_count": null,
      "metadata": {
        "colab": {
          "base_uri": "https://localhost:8080/"
        },
        "id": "p8QBhuyXmpF5",
        "outputId": "ad47f78d-ca1c-4eff-ea35-737b893f11f3",
        "gather": {
          "logged": 1683800020406
        }
      }
    },
    {
      "cell_type": "code",
      "source": [
        "pip install faiss-gpu"
      ],
      "metadata": {
        "colab": {
          "base_uri": "https://localhost:8080/"
        },
        "id": "4pqxsHa3aC65",
        "outputId": "00d35692-87ab-466a-b3e9-068a2e921b57"
      },
      "execution_count": null,
      "outputs": [
        {
          "output_type": "stream",
          "name": "stdout",
          "text": [
            "Looking in indexes: https://pypi.org/simple, https://us-python.pkg.dev/colab-wheels/public/simple/\n",
            "Requirement already satisfied: faiss-gpu in /usr/local/lib/python3.10/dist-packages (1.7.2)\n"
          ]
        }
      ]
    },
    {
      "cell_type": "code",
      "source": [
        "from google.colab import drive\n",
        "drive.mount('/content/drive')"
      ],
      "metadata": {
        "colab": {
          "base_uri": "https://localhost:8080/"
        },
        "id": "ccHrqBmhlPZI",
        "outputId": "81d36155-0bdd-4c18-84be-c30d63fd28ee"
      },
      "execution_count": null,
      "outputs": [
        {
          "output_type": "stream",
          "name": "stdout",
          "text": [
            "Drive already mounted at /content/drive; to attempt to forcibly remount, call drive.mount(\"/content/drive\", force_remount=True).\n"
          ]
        }
      ]
    },
    {
      "cell_type": "code",
      "source": [
        "pip install datasets"
      ],
      "outputs": [
        {
          "output_type": "stream",
          "name": "stdout",
          "text": [
            "Looking in indexes: https://pypi.org/simple, https://us-python.pkg.dev/colab-wheels/public/simple/\n",
            "Requirement already satisfied: datasets in /usr/local/lib/python3.10/dist-packages (2.12.0)\n",
            "Requirement already satisfied: numpy>=1.17 in /usr/local/lib/python3.10/dist-packages (from datasets) (1.22.4)\n",
            "Requirement already satisfied: pyarrow>=8.0.0 in /usr/local/lib/python3.10/dist-packages (from datasets) (9.0.0)\n",
            "Requirement already satisfied: dill<0.3.7,>=0.3.0 in /usr/local/lib/python3.10/dist-packages (from datasets) (0.3.6)\n",
            "Requirement already satisfied: pandas in /usr/local/lib/python3.10/dist-packages (from datasets) (1.5.3)\n",
            "Requirement already satisfied: requests>=2.19.0 in /usr/local/lib/python3.10/dist-packages (from datasets) (2.27.1)\n",
            "Requirement already satisfied: tqdm>=4.62.1 in /usr/local/lib/python3.10/dist-packages (from datasets) (4.65.0)\n",
            "Requirement already satisfied: xxhash in /usr/local/lib/python3.10/dist-packages (from datasets) (3.2.0)\n",
            "Requirement already satisfied: multiprocess in /usr/local/lib/python3.10/dist-packages (from datasets) (0.70.14)\n",
            "Requirement already satisfied: fsspec[http]>=2021.11.1 in /usr/local/lib/python3.10/dist-packages (from datasets) (2023.4.0)\n",
            "Requirement already satisfied: aiohttp in /usr/local/lib/python3.10/dist-packages (from datasets) (3.8.4)\n",
            "Requirement already satisfied: huggingface-hub<1.0.0,>=0.11.0 in /usr/local/lib/python3.10/dist-packages (from datasets) (0.14.1)\n",
            "Requirement already satisfied: packaging in /usr/local/lib/python3.10/dist-packages (from datasets) (23.1)\n",
            "Requirement already satisfied: responses<0.19 in /usr/local/lib/python3.10/dist-packages (from datasets) (0.18.0)\n",
            "Requirement already satisfied: pyyaml>=5.1 in /usr/local/lib/python3.10/dist-packages (from datasets) (6.0)\n",
            "Requirement already satisfied: attrs>=17.3.0 in /usr/local/lib/python3.10/dist-packages (from aiohttp->datasets) (23.1.0)\n",
            "Requirement already satisfied: charset-normalizer<4.0,>=2.0 in /usr/local/lib/python3.10/dist-packages (from aiohttp->datasets) (2.0.12)\n",
            "Requirement already satisfied: multidict<7.0,>=4.5 in /usr/local/lib/python3.10/dist-packages (from aiohttp->datasets) (6.0.4)\n",
            "Requirement already satisfied: async-timeout<5.0,>=4.0.0a3 in /usr/local/lib/python3.10/dist-packages (from aiohttp->datasets) (4.0.2)\n",
            "Requirement already satisfied: yarl<2.0,>=1.0 in /usr/local/lib/python3.10/dist-packages (from aiohttp->datasets) (1.9.2)\n",
            "Requirement already satisfied: frozenlist>=1.1.1 in /usr/local/lib/python3.10/dist-packages (from aiohttp->datasets) (1.3.3)\n",
            "Requirement already satisfied: aiosignal>=1.1.2 in /usr/local/lib/python3.10/dist-packages (from aiohttp->datasets) (1.3.1)\n",
            "Requirement already satisfied: filelock in /usr/local/lib/python3.10/dist-packages (from huggingface-hub<1.0.0,>=0.11.0->datasets) (3.12.0)\n",
            "Requirement already satisfied: typing-extensions>=3.7.4.3 in /usr/local/lib/python3.10/dist-packages (from huggingface-hub<1.0.0,>=0.11.0->datasets) (4.5.0)\n",
            "Requirement already satisfied: urllib3<1.27,>=1.21.1 in /usr/local/lib/python3.10/dist-packages (from requests>=2.19.0->datasets) (1.26.15)\n",
            "Requirement already satisfied: certifi>=2017.4.17 in /usr/local/lib/python3.10/dist-packages (from requests>=2.19.0->datasets) (2022.12.7)\n",
            "Requirement already satisfied: idna<4,>=2.5 in /usr/local/lib/python3.10/dist-packages (from requests>=2.19.0->datasets) (3.4)\n",
            "Requirement already satisfied: python-dateutil>=2.8.1 in /usr/local/lib/python3.10/dist-packages (from pandas->datasets) (2.8.2)\n",
            "Requirement already satisfied: pytz>=2020.1 in /usr/local/lib/python3.10/dist-packages (from pandas->datasets) (2022.7.1)\n",
            "Requirement already satisfied: six>=1.5 in /usr/local/lib/python3.10/dist-packages (from python-dateutil>=2.8.1->pandas->datasets) (1.16.0)\n"
          ]
        }
      ],
      "execution_count": null,
      "metadata": {
        "colab": {
          "base_uri": "https://localhost:8080/"
        },
        "id": "3CZ6NTATCMPa",
        "outputId": "bcaf0564-2b35-498e-c749-4c3d1cfe922f",
        "gather": {
          "logged": 1683800023125
        }
      }
    },
    {
      "cell_type": "code",
      "source": [
        "pip install nltk"
      ],
      "outputs": [
        {
          "output_type": "stream",
          "name": "stdout",
          "text": [
            "Looking in indexes: https://pypi.org/simple, https://us-python.pkg.dev/colab-wheels/public/simple/\n",
            "Requirement already satisfied: nltk in /usr/local/lib/python3.10/dist-packages (3.8.1)\n",
            "Requirement already satisfied: click in /usr/local/lib/python3.10/dist-packages (from nltk) (8.1.3)\n",
            "Requirement already satisfied: joblib in /usr/local/lib/python3.10/dist-packages (from nltk) (1.2.0)\n",
            "Requirement already satisfied: regex>=2021.8.3 in /usr/local/lib/python3.10/dist-packages (from nltk) (2022.10.31)\n",
            "Requirement already satisfied: tqdm in /usr/local/lib/python3.10/dist-packages (from nltk) (4.65.0)\n"
          ]
        }
      ],
      "execution_count": null,
      "metadata": {
        "jupyter": {
          "source_hidden": false,
          "outputs_hidden": false
        },
        "nteract": {
          "transient": {
            "deleting": false
          }
        },
        "gather": {
          "logged": 1683800025938
        },
        "colab": {
          "base_uri": "https://localhost:8080/"
        },
        "id": "eaqa8kfAkk1_",
        "outputId": "edac3b9a-97d2-4747-aa94-30fe91772c9b"
      }
    },
    {
      "cell_type": "code",
      "source": [
        "from rank_bm25 import BM25Okapi\n",
        "import numpy as np\n",
        "import nltk\n",
        "import re\n",
        "import heapq\n",
        "import pandas as pd\n",
        "from ast import literal_eval"
      ],
      "outputs": [],
      "execution_count": null,
      "metadata": {
        "id": "Apr4evvd8pkZ",
        "gather": {
          "logged": 1683800026967
        }
      }
    },
    {
      "cell_type": "code",
      "source": [
        "# # A dependency of the preprocessing for BERT inputs\n",
        "# !pip install -q -U \"tensorflow-text==2.11.*\"\n",
        "# !pip install -U \"tensorflow==2.11.*\"\n",
        "# !pip install -q tf-models-official==2.11.0\n",
        "!pip install torch torchvision transformers"
      ],
      "outputs": [
        {
          "output_type": "stream",
          "name": "stdout",
          "text": [
            "Looking in indexes: https://pypi.org/simple, https://us-python.pkg.dev/colab-wheels/public/simple/\n",
            "Requirement already satisfied: torch in /usr/local/lib/python3.10/dist-packages (2.0.0+cu118)\n",
            "Requirement already satisfied: torchvision in /usr/local/lib/python3.10/dist-packages (0.15.1+cu118)\n",
            "Requirement already satisfied: transformers in /usr/local/lib/python3.10/dist-packages (4.29.1)\n",
            "Requirement already satisfied: filelock in /usr/local/lib/python3.10/dist-packages (from torch) (3.12.0)\n",
            "Requirement already satisfied: typing-extensions in /usr/local/lib/python3.10/dist-packages (from torch) (4.5.0)\n",
            "Requirement already satisfied: sympy in /usr/local/lib/python3.10/dist-packages (from torch) (1.11.1)\n",
            "Requirement already satisfied: networkx in /usr/local/lib/python3.10/dist-packages (from torch) (3.1)\n",
            "Requirement already satisfied: jinja2 in /usr/local/lib/python3.10/dist-packages (from torch) (3.1.2)\n",
            "Requirement already satisfied: triton==2.0.0 in /usr/local/lib/python3.10/dist-packages (from torch) (2.0.0)\n",
            "Requirement already satisfied: cmake in /usr/local/lib/python3.10/dist-packages (from triton==2.0.0->torch) (3.25.2)\n",
            "Requirement already satisfied: lit in /usr/local/lib/python3.10/dist-packages (from triton==2.0.0->torch) (16.0.3)\n",
            "Requirement already satisfied: numpy in /usr/local/lib/python3.10/dist-packages (from torchvision) (1.22.4)\n",
            "Requirement already satisfied: requests in /usr/local/lib/python3.10/dist-packages (from torchvision) (2.27.1)\n",
            "Requirement already satisfied: pillow!=8.3.*,>=5.3.0 in /usr/local/lib/python3.10/dist-packages (from torchvision) (8.4.0)\n",
            "Requirement already satisfied: huggingface-hub<1.0,>=0.14.1 in /usr/local/lib/python3.10/dist-packages (from transformers) (0.14.1)\n",
            "Requirement already satisfied: packaging>=20.0 in /usr/local/lib/python3.10/dist-packages (from transformers) (23.1)\n",
            "Requirement already satisfied: pyyaml>=5.1 in /usr/local/lib/python3.10/dist-packages (from transformers) (6.0)\n",
            "Requirement already satisfied: regex!=2019.12.17 in /usr/local/lib/python3.10/dist-packages (from transformers) (2022.10.31)\n",
            "Requirement already satisfied: tokenizers!=0.11.3,<0.14,>=0.11.1 in /usr/local/lib/python3.10/dist-packages (from transformers) (0.13.3)\n",
            "Requirement already satisfied: tqdm>=4.27 in /usr/local/lib/python3.10/dist-packages (from transformers) (4.65.0)\n",
            "Requirement already satisfied: fsspec in /usr/local/lib/python3.10/dist-packages (from huggingface-hub<1.0,>=0.14.1->transformers) (2023.4.0)\n",
            "Requirement already satisfied: MarkupSafe>=2.0 in /usr/local/lib/python3.10/dist-packages (from jinja2->torch) (2.1.2)\n",
            "Requirement already satisfied: urllib3<1.27,>=1.21.1 in /usr/local/lib/python3.10/dist-packages (from requests->torchvision) (1.26.15)\n",
            "Requirement already satisfied: certifi>=2017.4.17 in /usr/local/lib/python3.10/dist-packages (from requests->torchvision) (2022.12.7)\n",
            "Requirement already satisfied: charset-normalizer~=2.0.0 in /usr/local/lib/python3.10/dist-packages (from requests->torchvision) (2.0.12)\n",
            "Requirement already satisfied: idna<4,>=2.5 in /usr/local/lib/python3.10/dist-packages (from requests->torchvision) (3.4)\n",
            "Requirement already satisfied: mpmath>=0.19 in /usr/local/lib/python3.10/dist-packages (from sympy->torch) (1.3.0)\n"
          ]
        }
      ],
      "execution_count": null,
      "metadata": {
        "colab": {
          "base_uri": "https://localhost:8080/"
        },
        "id": "5LyBCvtpyQIE",
        "outputId": "e49aeb16-b521-450c-dda5-c3ebe84d552d",
        "gather": {
          "logged": 1683800031526
        }
      }
    },
    {
      "cell_type": "code",
      "source": [
        "test_claims_df = pd.read_json('/content/drive/MyDrive/Sem 2/NLP /Assignment 3/project-data/test-claims-unlabelled.json', orient='index')\n",
        "test_claims_df.reset_index(inplace=True)\n",
        "test_claims_df.rename(columns={\"index\":\"claim_id\"},inplace=True)\n",
        "\n",
        "evidence_data = pd.read_json('/content/drive/MyDrive/Sem 2/NLP /Assignment 3/project-data/evidence.json', orient = 'index')\n",
        "evidence_data.columns = ['evidence_text']\n",
        "evidence_data.reset_index(inplace=True)\n",
        "evidence_data.rename(columns={\"index\":\"evidence_id\"},inplace=True)"
      ],
      "outputs": [],
      "execution_count": null,
      "metadata": {
        "id": "dr3GlGDTm2Tj",
        "gather": {
          "logged": 1683800036098
        }
      }
    },
    {
      "cell_type": "code",
      "source": [
        "print(test_claims_df.head())"
      ],
      "outputs": [
        {
          "output_type": "stream",
          "name": "stdout",
          "text": [
            "     claim_id                                         claim_text\n",
            "0  claim-1001  ‘This study goes beyond statistical correlatio...\n",
            "1  claim-1003  A recent study in Nature Geoscience, for insta...\n",
            "2  claim-1009  ‘Arctic ice conditions have been tracking at r...\n",
            "3  claim-1020  “The global reef crisis does not necessarily m...\n",
            "4  claim-1028  A second coat of paint has much less of an eff...\n"
          ]
        }
      ],
      "execution_count": null,
      "metadata": {
        "colab": {
          "base_uri": "https://localhost:8080/"
        },
        "id": "RKVLGfYTsC-h",
        "outputId": "717d8ce8-7b6e-4631-9fd8-4ab661f099be",
        "gather": {
          "logged": 1683800036680
        }
      }
    },
    {
      "cell_type": "code",
      "source": [
        "training_data = pd.read_json('/content/drive/MyDrive/Sem 2/NLP /Assignment 3/project-data/train-claims.json', orient='index')\n",
        "training_data = training_data.assign(evidences = training_data['evidences']).explode('evidences')\n",
        "training_data.reset_index(inplace=True)\n",
        "training_data.rename(columns={\"index\":\"claim_id\"},inplace=True)"
      ],
      "outputs": [],
      "execution_count": null,
      "metadata": {
        "id": "gih-VTn4ziBB",
        "gather": {
          "logged": 1683800036874
        }
      }
    },
    {
      "cell_type": "code",
      "source": [
        "dev_data = pd.read_json('/content/drive/MyDrive/Sem 2/NLP /Assignment 3/project-data/dev-claims.json', orient='index')\n",
        "dev_data = dev_data.assign(evidences = dev_data['evidences']).explode('evidences')\n",
        "dev_data.reset_index(inplace=True)\n",
        "dev_data.rename(columns={\"index\":\"claim_id\"},inplace=True)"
      ],
      "outputs": [],
      "execution_count": null,
      "metadata": {
        "id": "rzGDbBTqzvvE",
        "gather": {
          "logged": 1683800037073
        }
      }
    },
    {
      "cell_type": "code",
      "source": [
        "full_evidence_data = pd.read_json('/content/drive/MyDrive/Sem 2/NLP /Assignment 3/project-data/evidence.json', orient = 'index')\n",
        "full_evidence_data.columns = ['evidence_text']\n",
        "full_evidence_data.index.name = 'evidence_id'"
      ],
      "outputs": [],
      "execution_count": null,
      "metadata": {
        "id": "ibE3_zCAz4PR",
        "gather": {
          "logged": 1683800038394
        }
      }
    },
    {
      "cell_type": "code",
      "source": [
        "pip install transformers"
      ],
      "outputs": [
        {
          "output_type": "stream",
          "name": "stdout",
          "text": [
            "Looking in indexes: https://pypi.org/simple, https://us-python.pkg.dev/colab-wheels/public/simple/\n",
            "Requirement already satisfied: transformers in /usr/local/lib/python3.10/dist-packages (4.29.1)\n",
            "Requirement already satisfied: filelock in /usr/local/lib/python3.10/dist-packages (from transformers) (3.12.0)\n",
            "Requirement already satisfied: huggingface-hub<1.0,>=0.14.1 in /usr/local/lib/python3.10/dist-packages (from transformers) (0.14.1)\n",
            "Requirement already satisfied: numpy>=1.17 in /usr/local/lib/python3.10/dist-packages (from transformers) (1.22.4)\n",
            "Requirement already satisfied: packaging>=20.0 in /usr/local/lib/python3.10/dist-packages (from transformers) (23.1)\n",
            "Requirement already satisfied: pyyaml>=5.1 in /usr/local/lib/python3.10/dist-packages (from transformers) (6.0)\n",
            "Requirement already satisfied: regex!=2019.12.17 in /usr/local/lib/python3.10/dist-packages (from transformers) (2022.10.31)\n",
            "Requirement already satisfied: requests in /usr/local/lib/python3.10/dist-packages (from transformers) (2.27.1)\n",
            "Requirement already satisfied: tokenizers!=0.11.3,<0.14,>=0.11.1 in /usr/local/lib/python3.10/dist-packages (from transformers) (0.13.3)\n",
            "Requirement already satisfied: tqdm>=4.27 in /usr/local/lib/python3.10/dist-packages (from transformers) (4.65.0)\n",
            "Requirement already satisfied: fsspec in /usr/local/lib/python3.10/dist-packages (from huggingface-hub<1.0,>=0.14.1->transformers) (2023.4.0)\n",
            "Requirement already satisfied: typing-extensions>=3.7.4.3 in /usr/local/lib/python3.10/dist-packages (from huggingface-hub<1.0,>=0.14.1->transformers) (4.5.0)\n",
            "Requirement already satisfied: urllib3<1.27,>=1.21.1 in /usr/local/lib/python3.10/dist-packages (from requests->transformers) (1.26.15)\n",
            "Requirement already satisfied: certifi>=2017.4.17 in /usr/local/lib/python3.10/dist-packages (from requests->transformers) (2022.12.7)\n",
            "Requirement already satisfied: charset-normalizer~=2.0.0 in /usr/local/lib/python3.10/dist-packages (from requests->transformers) (2.0.12)\n",
            "Requirement already satisfied: idna<4,>=2.5 in /usr/local/lib/python3.10/dist-packages (from requests->transformers) (3.4)\n"
          ]
        }
      ],
      "execution_count": null,
      "metadata": {
        "jupyter": {
          "source_hidden": false,
          "outputs_hidden": false
        },
        "nteract": {
          "transient": {
            "deleting": false
          }
        },
        "gather": {
          "logged": 1683800041150
        },
        "colab": {
          "base_uri": "https://localhost:8080/"
        },
        "id": "LUGzITIekk2C",
        "outputId": "1013f0ed-8481-4e3b-8888-29f371eaea17"
      }
    },
    {
      "cell_type": "code",
      "source": [
        "pip install torch"
      ],
      "outputs": [
        {
          "output_type": "stream",
          "name": "stdout",
          "text": [
            "Looking in indexes: https://pypi.org/simple, https://us-python.pkg.dev/colab-wheels/public/simple/\n",
            "Requirement already satisfied: torch in /usr/local/lib/python3.10/dist-packages (2.0.0+cu118)\n",
            "Requirement already satisfied: filelock in /usr/local/lib/python3.10/dist-packages (from torch) (3.12.0)\n",
            "Requirement already satisfied: typing-extensions in /usr/local/lib/python3.10/dist-packages (from torch) (4.5.0)\n",
            "Requirement already satisfied: sympy in /usr/local/lib/python3.10/dist-packages (from torch) (1.11.1)\n",
            "Requirement already satisfied: networkx in /usr/local/lib/python3.10/dist-packages (from torch) (3.1)\n",
            "Requirement already satisfied: jinja2 in /usr/local/lib/python3.10/dist-packages (from torch) (3.1.2)\n",
            "Requirement already satisfied: triton==2.0.0 in /usr/local/lib/python3.10/dist-packages (from torch) (2.0.0)\n",
            "Requirement already satisfied: cmake in /usr/local/lib/python3.10/dist-packages (from triton==2.0.0->torch) (3.25.2)\n",
            "Requirement already satisfied: lit in /usr/local/lib/python3.10/dist-packages (from triton==2.0.0->torch) (16.0.3)\n",
            "Requirement already satisfied: MarkupSafe>=2.0 in /usr/local/lib/python3.10/dist-packages (from jinja2->torch) (2.1.2)\n",
            "Requirement already satisfied: mpmath>=0.19 in /usr/local/lib/python3.10/dist-packages (from sympy->torch) (1.3.0)\n"
          ]
        }
      ],
      "execution_count": null,
      "metadata": {
        "jupyter": {
          "source_hidden": false,
          "outputs_hidden": false
        },
        "nteract": {
          "transient": {
            "deleting": false
          }
        },
        "gather": {
          "logged": 1683800043985
        },
        "colab": {
          "base_uri": "https://localhost:8080/"
        },
        "id": "4c9-BVYfkk2C",
        "outputId": "9a72cbb9-81a8-4fda-a497-33beb43b0542"
      }
    },
    {
      "cell_type": "code",
      "source": [
        "pip install torch torchvision torchaudio --index-url https://download.pytorch.org/whl/cu117"
      ],
      "outputs": [
        {
          "output_type": "stream",
          "name": "stdout",
          "text": [
            "Looking in indexes: https://download.pytorch.org/whl/cu117, https://us-python.pkg.dev/colab-wheels/public/simple/\n",
            "Requirement already satisfied: torch in /usr/local/lib/python3.10/dist-packages (2.0.0+cu118)\n",
            "Requirement already satisfied: torchvision in /usr/local/lib/python3.10/dist-packages (0.15.1+cu118)\n",
            "Requirement already satisfied: torchaudio in /usr/local/lib/python3.10/dist-packages (2.0.1+cu118)\n",
            "Requirement already satisfied: filelock in /usr/local/lib/python3.10/dist-packages (from torch) (3.12.0)\n",
            "Requirement already satisfied: typing-extensions in /usr/local/lib/python3.10/dist-packages (from torch) (4.5.0)\n",
            "Requirement already satisfied: sympy in /usr/local/lib/python3.10/dist-packages (from torch) (1.11.1)\n",
            "Requirement already satisfied: networkx in /usr/local/lib/python3.10/dist-packages (from torch) (3.1)\n",
            "Requirement already satisfied: jinja2 in /usr/local/lib/python3.10/dist-packages (from torch) (3.1.2)\n",
            "Requirement already satisfied: triton==2.0.0 in /usr/local/lib/python3.10/dist-packages (from torch) (2.0.0)\n",
            "Requirement already satisfied: cmake in /usr/local/lib/python3.10/dist-packages (from triton==2.0.0->torch) (3.25.2)\n",
            "Requirement already satisfied: lit in /usr/local/lib/python3.10/dist-packages (from triton==2.0.0->torch) (16.0.3)\n",
            "Requirement already satisfied: numpy in /usr/local/lib/python3.10/dist-packages (from torchvision) (1.22.4)\n",
            "Requirement already satisfied: requests in /usr/local/lib/python3.10/dist-packages (from torchvision) (2.27.1)\n",
            "Requirement already satisfied: pillow!=8.3.*,>=5.3.0 in /usr/local/lib/python3.10/dist-packages (from torchvision) (8.4.0)\n",
            "Requirement already satisfied: MarkupSafe>=2.0 in /usr/local/lib/python3.10/dist-packages (from jinja2->torch) (2.1.2)\n",
            "Requirement already satisfied: urllib3<1.27,>=1.21.1 in /usr/local/lib/python3.10/dist-packages (from requests->torchvision) (1.26.15)\n",
            "Requirement already satisfied: certifi>=2017.4.17 in /usr/local/lib/python3.10/dist-packages (from requests->torchvision) (2022.12.7)\n",
            "Requirement already satisfied: charset-normalizer~=2.0.0 in /usr/local/lib/python3.10/dist-packages (from requests->torchvision) (2.0.12)\n",
            "Requirement already satisfied: idna<4,>=2.5 in /usr/local/lib/python3.10/dist-packages (from requests->torchvision) (3.4)\n",
            "Requirement already satisfied: mpmath>=0.19 in /usr/local/lib/python3.10/dist-packages (from sympy->torch) (1.3.0)\n"
          ]
        }
      ],
      "execution_count": null,
      "metadata": {
        "jupyter": {
          "source_hidden": false,
          "outputs_hidden": false
        },
        "nteract": {
          "transient": {
            "deleting": false
          }
        },
        "gather": {
          "logged": 1683800046669
        },
        "colab": {
          "base_uri": "https://localhost:8080/"
        },
        "id": "nu0ZO_n2kk2C",
        "outputId": "e73caa4c-5d85-47a4-876d-95a2c6c8dc77"
      }
    },
    {
      "cell_type": "code",
      "source": [
        "#load pretrained bert base model\n",
        "from transformers import AutoTokenizer, AutoModel\n",
        "import torch\n",
        "\n",
        "model_ckpt = \"bert-base-uncased\"\n",
        "tokenizer = AutoTokenizer.from_pretrained(model_ckpt)\n",
        "model = AutoModel.from_pretrained(model_ckpt)\n",
        "print(\"Done loading BERT model.\")"
      ],
      "outputs": [
        {
          "output_type": "stream",
          "name": "stdout",
          "text": [
            "Done loading BERT model.\n"
          ]
        }
      ],
      "execution_count": null,
      "metadata": {
        "colab": {
          "base_uri": "https://localhost:8080/"
        },
        "id": "cMUUnmSt0eTO",
        "outputId": "a5b80e2e-9ae5-402b-bf79-d3adde6e8964",
        "gather": {
          "logged": 1683800049611
        }
      }
    },
    {
      "cell_type": "code",
      "source": [
        "import torch\n",
        "\n",
        "device = torch.device(\"cuda\")\n",
        "model.to(device)"
      ],
      "outputs": [
        {
          "output_type": "execute_result",
          "data": {
            "text/plain": [
              "MPNetModel(\n",
              "  (embeddings): MPNetEmbeddings(\n",
              "    (word_embeddings): Embedding(30527, 768, padding_idx=1)\n",
              "    (position_embeddings): Embedding(514, 768, padding_idx=1)\n",
              "    (LayerNorm): LayerNorm((768,), eps=1e-05, elementwise_affine=True)\n",
              "    (dropout): Dropout(p=0.1, inplace=False)\n",
              "  )\n",
              "  (encoder): MPNetEncoder(\n",
              "    (layer): ModuleList(\n",
              "      (0-11): 12 x MPNetLayer(\n",
              "        (attention): MPNetAttention(\n",
              "          (attn): MPNetSelfAttention(\n",
              "            (q): Linear(in_features=768, out_features=768, bias=True)\n",
              "            (k): Linear(in_features=768, out_features=768, bias=True)\n",
              "            (v): Linear(in_features=768, out_features=768, bias=True)\n",
              "            (o): Linear(in_features=768, out_features=768, bias=True)\n",
              "            (dropout): Dropout(p=0.1, inplace=False)\n",
              "          )\n",
              "          (LayerNorm): LayerNorm((768,), eps=1e-05, elementwise_affine=True)\n",
              "          (dropout): Dropout(p=0.1, inplace=False)\n",
              "        )\n",
              "        (intermediate): MPNetIntermediate(\n",
              "          (dense): Linear(in_features=768, out_features=3072, bias=True)\n",
              "          (intermediate_act_fn): GELUActivation()\n",
              "        )\n",
              "        (output): MPNetOutput(\n",
              "          (dense): Linear(in_features=3072, out_features=768, bias=True)\n",
              "          (LayerNorm): LayerNorm((768,), eps=1e-05, elementwise_affine=True)\n",
              "          (dropout): Dropout(p=0.1, inplace=False)\n",
              "        )\n",
              "      )\n",
              "    )\n",
              "    (relative_attention_bias): Embedding(32, 12)\n",
              "  )\n",
              "  (pooler): MPNetPooler(\n",
              "    (dense): Linear(in_features=768, out_features=768, bias=True)\n",
              "    (activation): Tanh()\n",
              "  )\n",
              ")"
            ]
          },
          "metadata": {},
          "execution_count": 18
        }
      ],
      "execution_count": null,
      "metadata": {
        "colab": {
          "base_uri": "https://localhost:8080/"
        },
        "id": "lh8oYQMRmkm6",
        "outputId": "514938ae-8a32-4937-e4b4-2745d34c5a3d",
        "gather": {
          "logged": 1683800050863
        }
      }
    },
    {
      "cell_type": "code",
      "source": [
        "def cls_pooling(model_output):\n",
        "    return model_output.last_hidden_state[:, 0]"
      ],
      "outputs": [],
      "execution_count": null,
      "metadata": {
        "id": "0FnOso2Pmw5y",
        "gather": {
          "logged": 1683800051063
        }
      }
    },
    {
      "cell_type": "code",
      "source": [
        "def get_embeddings(text_list):\n",
        "    encoded_input = tokenizer(\n",
        "        text_list, padding=True, truncation=True, return_tensors=\"pt\"\n",
        "    )\n",
        "    encoded_input = {k: v.to(device) for k, v in encoded_input.items()}\n",
        "    model_output = model(**encoded_input)\n",
        "    return cls_pooling(model_output)"
      ],
      "outputs": [],
      "execution_count": null,
      "metadata": {
        "id": "W2HPSCIfm1Fu",
        "gather": {
          "logged": 1683800051253
        }
      }
    },
    {
      "cell_type": "code",
      "source": [
        "from datasets import Dataset\n",
        "\n",
        "evidence_dataset = Dataset.from_pandas(evidence_data)\n",
        "print(evidence_dataset)"
      ],
      "outputs": [
        {
          "output_type": "stream",
          "name": "stdout",
          "text": [
            "Dataset({\n",
            "    features: ['evidence_id', 'evidence_text'],\n",
            "    num_rows: 1208827\n",
            "})\n"
          ]
        }
      ],
      "execution_count": null,
      "metadata": {
        "colab": {
          "base_uri": "https://localhost:8080/"
        },
        "id": "U-qZnZlNBWUZ",
        "outputId": "12936a66-90b6-4cb8-9835-836356f05de4",
        "gather": {
          "logged": 1683800051463
        }
      }
    },
    {
      "cell_type": "code",
      "source": [
        "embeddings_dataset = evidence_dataset.map(\n",
        "    lambda x: {\"embeddings\": get_embeddings(x[\"evidence_text\"]).detach().cpu().numpy()[0]}\n",
        ")"
      ],
      "outputs": [],
      "execution_count": null,
      "metadata": {
        "id": "AO3M9THPvL2Q",
        "gather": {
          "logged": 1683800051673
        }
      }
    },
    {
      "cell_type": "code",
      "source": [
        "# import pickle\n",
        "\n",
        "# path = '/content/drive/MyDrive/Sem 2/NLP /Assignment 3/project-data/embeddings.pickle'\n",
        "# pickle_out = open(path,\"wb\")\n",
        "# pickle.dump(embeddings_dataset,pickle_out)\n",
        "# pickle_out.close()\n",
        "\n",
        "# with open('/content/drive/MyDrive/Sem 2/NLP /Assignment 3/project-data/embeddings.pickle', 'rb') as handle:\n",
        "#     embeddings_dataset = pickle.load(handle,encoding='bytes', fix_imports=True, errors='strict')"
      ],
      "outputs": [],
      "execution_count": null,
      "metadata": {
        "jupyter": {
          "source_hidden": false,
          "outputs_hidden": false
        },
        "nteract": {
          "transient": {
            "deleting": false
          }
        },
        "gather": {
          "logged": 1683800137142
        },
        "id": "JtxpLZvYkk2D"
      }
    },
    {
      "cell_type": "code",
      "source": [
        "embeddings_dataset.add_faiss_index(column=\"embeddings\")"
      ],
      "outputs": [
        {
          "output_type": "display_data",
          "data": {
            "text/plain": [
              "  0%|          | 0/1209 [00:00<?, ?it/s]"
            ],
            "application/vnd.jupyter.widget-view+json": {
              "version_major": 2,
              "version_minor": 0,
              "model_id": "407e8547cf3a4bea823b8418fdcfe9db"
            }
          },
          "metadata": {}
        },
        {
          "output_type": "execute_result",
          "data": {
            "text/plain": [
              "Dataset({\n",
              "    features: ['evidence_id', 'evidence_text', 'embeddings'],\n",
              "    num_rows: 1208827\n",
              "})"
            ]
          },
          "metadata": {},
          "execution_count": 24
        }
      ],
      "execution_count": null,
      "metadata": {
        "id": "X_3l1o83zADV",
        "gather": {
          "logged": 1683800147054
        },
        "colab": {
          "base_uri": "https://localhost:8080/",
          "height": 123,
          "referenced_widgets": [
            "407e8547cf3a4bea823b8418fdcfe9db",
            "d185c73661ff4616bdb421e89f591387",
            "749f4dbe9d34428d8e35a27e497296c9",
            "e453e50295d041289e0f15eca855740a",
            "dee6d4a01959497291cdfa3e4c58a4af",
            "7c21fd79d49946d2b211e81397ab0291",
            "344659160fcc4e5ba2cdcbab284f4348",
            "8d127de929784548b5c7b0175df05dab",
            "39298fc22603485d83296fd63fe2590c",
            "730bd6df57a5406a9e9fd628cfd04863",
            "2b331a77add24704a3053ca6817513d1"
          ]
        },
        "outputId": "16a1ab04-232b-4938-ac1c-bee31ff789b3"
      }
    },
    {
      "cell_type": "code",
      "source": [
        "import pandas as pd\n",
        "new_test_data = pd.DataFrame(columns=['claim_id','claim_text','evidences'])\n",
        "for index,row in test_claims_df.iterrows():\n",
        "  claim_id = row['claim_id']\n",
        "  claim = test_claims_df.loc[index, 'claim_text']\n",
        "  claim_embedding = get_embeddings([claim]).cpu().detach().numpy()\n",
        "  scores, samples = embeddings_dataset.get_nearest_examples(\n",
        "    \"embeddings\", claim_embedding, k=5\n",
        "  )\n",
        "  samples_df = pd.DataFrame.from_dict(samples)\n",
        "  samples_df[\"scores\"] = scores\n",
        "  samples_df.sort_values(\"scores\", ascending=False, inplace=True)\n",
        "  for _, row in samples_df.iterrows():\n",
        "    evidence_id = row.evidence_id\n",
        "    new_row = {'claim_id':claim_id,'claim_text': claim ,'evidences':evidence_id}\n",
        "    new_test_data.loc[len(new_test_data)] = new_row\n"
      ],
      "outputs": [],
      "execution_count": null,
      "metadata": {
        "id": "A1NzgALrzFdq",
        "gather": {
          "logged": 1683800301965
        }
      }
    },
    {
      "cell_type": "code",
      "source": [
        "print(new_test_data)"
      ],
      "outputs": [
        {
          "output_type": "stream",
          "name": "stdout",
          "text": [
            "       claim_id                                         claim_text  \\\n",
            "0    claim-1001  ‘This study goes beyond statistical correlatio...   \n",
            "1    claim-1001  ‘This study goes beyond statistical correlatio...   \n",
            "2    claim-1001  ‘This study goes beyond statistical correlatio...   \n",
            "3    claim-1001  ‘This study goes beyond statistical correlatio...   \n",
            "4    claim-1001  ‘This study goes beyond statistical correlatio...   \n",
            "..          ...                                                ...   \n",
            "913   claim-979  “Warm weather worsened the most recent five-ye...   \n",
            "914   claim-979  “Warm weather worsened the most recent five-ye...   \n",
            "915   claim-979  “Warm weather worsened the most recent five-ye...   \n",
            "916   claim-979  “Warm weather worsened the most recent five-ye...   \n",
            "917   claim-979  “Warm weather worsened the most recent five-ye...   \n",
            "\n",
            "            evidences  \n",
            "0     evidence-737882  \n",
            "1    evidence-1118726  \n",
            "2    evidence-1099915  \n",
            "3     evidence-352729  \n",
            "4     evidence-285349  \n",
            "..                ...  \n",
            "913   evidence-844967  \n",
            "914  evidence-1025757  \n",
            "915   evidence-971000  \n",
            "916   evidence-405462  \n",
            "917   evidence-111777  \n",
            "\n",
            "[918 rows x 3 columns]\n"
          ]
        }
      ],
      "execution_count": null,
      "metadata": {
        "id": "lYDySt6r2SmR",
        "gather": {
          "logged": 1683800302240
        },
        "colab": {
          "base_uri": "https://localhost:8080/"
        },
        "outputId": "c4a06f42-d6b9-4bbd-eaf6-80d091228d7b"
      }
    },
    {
      "cell_type": "code",
      "source": [
        "# PART 2: VERIFIFCATION -  DOCUMENT AND EVIDENCE CLASSIFICATION "
      ],
      "outputs": [],
      "execution_count": null,
      "metadata": {
        "id": "WOgn6538zWT2",
        "gather": {
          "logged": 1683800302427
        }
      }
    },
    {
      "cell_type": "code",
      "source": [
        "training_data = pd.read_json('/content/drive/MyDrive/Sem 2/NLP /Assignment 3/project-data/train-claims.json', orient='index')\n",
        "training_data = training_data.assign(evidences = training_data['evidences']).explode('evidences')\n",
        "training_data.reset_index(inplace=True)\n",
        "training_data.rename(columns={\"index\":\"claim_id\"},inplace=True)"
      ],
      "outputs": [],
      "execution_count": null,
      "metadata": {
        "id": "cZ0T0z8ByY6U",
        "gather": {
          "logged": 1683800930099
        }
      }
    },
    {
      "cell_type": "code",
      "source": [
        "dev_data = pd.read_json('/content/drive/MyDrive/Sem 2/NLP /Assignment 3/project-data/dev-claims.json', orient='index')\n",
        "dev_data = dev_data.assign(evidences = dev_data['evidences']).explode('evidences')\n",
        "dev_data.reset_index(inplace=True)\n",
        "dev_data.rename(columns={\"index\":\"claim_id\"},inplace=True)"
      ],
      "outputs": [],
      "execution_count": null,
      "metadata": {
        "id": "XlEc4_qr0zRm",
        "gather": {
          "logged": 1683800940506
        }
      }
    },
    {
      "cell_type": "code",
      "source": [
        "full_evidence_data = pd.read_json('/content/drive/MyDrive/Sem 2/NLP /Assignment 3/project-data/evidence.json', orient = 'index')\n",
        "full_evidence_data.columns = ['evidence_text']\n",
        "full_evidence_data.index.name = 'evidence_id'"
      ],
      "outputs": [],
      "execution_count": null,
      "metadata": {
        "id": "-dqawwZT_kAd",
        "gather": {
          "logged": 1683800954233
        }
      }
    },
    {
      "cell_type": "code",
      "source": [
        "#load pretrained bert base model\n",
        "from transformers import BertModel\n",
        "\n",
        "bert_model = BertModel.from_pretrained('bert-large-cased',return_dict=True)\n",
        "\n",
        "print(\"Done loading BERT model.\")"
      ],
      "outputs": [
        {
          "output_type": "stream",
          "name": "stderr",
          "text": [
            "Some weights of the model checkpoint at bert-large-cased were not used when initializing BertModel: ['cls.predictions.bias', 'cls.seq_relationship.bias', 'cls.seq_relationship.weight', 'cls.predictions.transform.LayerNorm.bias', 'cls.predictions.transform.LayerNorm.weight', 'cls.predictions.transform.dense.weight', 'cls.predictions.transform.dense.bias', 'cls.predictions.decoder.weight']\n",
            "- This IS expected if you are initializing BertModel from the checkpoint of a model trained on another task or with another architecture (e.g. initializing a BertForSequenceClassification model from a BertForPreTraining model).\n",
            "- This IS NOT expected if you are initializing BertModel from the checkpoint of a model that you expect to be exactly identical (initializing a BertForSequenceClassification model from a BertForSequenceClassification model).\n"
          ]
        },
        {
          "output_type": "stream",
          "name": "stdout",
          "text": [
            "Done loading BERT model.\n"
          ]
        }
      ],
      "execution_count": null,
      "metadata": {
        "colab": {
          "base_uri": "https://localhost:8080/"
        },
        "id": "Qw1lRardylUy",
        "outputId": "f21e5a19-ed14-4242-dbe6-9d532915699c",
        "gather": {
          "logged": 1683800991717
        }
      }
    },
    {
      "cell_type": "code",
      "source": [
        "import torch\n",
        "from torch.utils.data import Dataset\n",
        "from transformers import BertTokenizer\n",
        "import tensorflow as tf\n",
        "class ClaimDataset(Dataset):\n",
        "\n",
        "  def __init__(self, training_data, test_data, full_evidence_data, maxlen, mode='train'):\n",
        "\n",
        "    if mode != 'train' and mode != 'test':\n",
        "      raise ValueError(\"mode should either be train or test\")\n",
        "    self.df = training_data\n",
        "    self.evidence_data = full_evidence_data\n",
        "\n",
        "    if mode == 'train':\n",
        "      self.df = training_data\n",
        "      possible_labels = self.df.claim_label.unique()\n",
        "      label_dict = {'SUPPORTS': 0, 'NOT_ENOUGH_INFO': 1, 'REFUTES': 2, 'DISPUTED': 3}\n",
        "      self.df['label'] = self.df['claim_label'].map(label_dict)\n",
        "\n",
        "    elif mode == 'test':\n",
        "      \n",
        "      self.df = test_data\n",
        "      self.df['claim_label'] = 'NO_LABEL'\n",
        "      self.df['label'] = 1\n",
        "\n",
        "    # print(self.df.head())\n",
        "    #Initialize the BERT tokenizer\n",
        "    self.tokenizer = BertTokenizer.from_pretrained('bert-base-uncased')\n",
        "\n",
        "    self.maxlen = maxlen\n",
        "\n",
        "  def __len__(self):\n",
        "      return len(self.df)\n",
        "\n",
        "  def __getitem__(self, index):\n",
        "    #Selecting the claim text and claim label at the specified index in the data frame\n",
        "    claim = self.df.loc[index, 'claim_text']\n",
        "    evidence_id = self.df.loc[index, 'evidences']\n",
        "    evidence = self.evidence_data.loc[evidence_id, 'evidence_text']\n",
        "\n",
        "    \n",
        "    # label = self.df.label.values\n",
        "    label = self.df.loc[index, 'label']\n",
        "\n",
        "    # #Preprocessing the text to be suitable for BERT\n",
        "    tokens = ['[CLS]'] + self.tokenizer.tokenize(claim) + ['[SEP]']\n",
        "    segment_ids = [0] * len(tokens)\n",
        "    if evidence:\n",
        "      tokens += self.tokenizer.tokenize(evidence)  + ['[SEP]']\n",
        "      segment_ids += [1] * (len(self.tokenizer.tokenize(evidence)) + 1)\n",
        "\n",
        "    if len(tokens) < self.maxlen:\n",
        "      tokens = tokens + ['[PAD]' for _ in range(self.maxlen - len(tokens))] #Padding sentences\n",
        "      segment_ids = segment_ids + [0 for _ in range(self.maxlen - len(segment_ids))]\n",
        "    else:\n",
        "      tokens = tokens[:self.maxlen-1] + ['[SEP]'] #Prunning the list to be of specified max length\n",
        "      segment_ids = segment_ids[:self.maxlen-1] + [0]\n",
        "\n",
        "    tokens_ids = self.tokenizer.convert_tokens_to_ids(tokens) #Obtaining the indices of the tokens in the BERT Vocabulary\n",
        "    tokens_ids_tensor = torch.tensor(tokens_ids) #Converting the list to a pytorch tensor\n",
        "    segment_ids_tensor = torch.tensor(segment_ids)\n",
        "    labels_tensor = tf.keras.utils.to_categorical(label, num_classes=4)\n",
        "\n",
        "    # Obtaining the attention mask i.e a tensor containing 1s for no padded tokens and 0s for padded ones\n",
        "    attn_mask = (tokens_ids_tensor != 0).long()\n",
        "    return tokens_ids_tensor, segment_ids_tensor, attn_mask, labels_tensor"
      ],
      "outputs": [],
      "execution_count": null,
      "metadata": {
        "id": "l5NvScwWyouS",
        "gather": {
          "logged": 1683801451820
        }
      }
    },
    {
      "cell_type": "code",
      "source": [
        "from torch.utils.data import DataLoader\n",
        "\n",
        "#Creating instances of training and development set\n",
        "#maxlen sets the maximum length a se ntence can have\n",
        "#any sentence longer than this length is truncated to the maxlen size\n",
        "\n",
        "training_data_set = ClaimDataset(training_data, new_test_data, full_evidence_data, maxlen = 50, mode='train')\n",
        "dev_data_set = ClaimDataset(dev_data, new_test_data, full_evidence_data, maxlen = 50, mode='train')\n",
        "\n",
        "#Creating intsances of training and development dataloaders\n",
        "train_loader = DataLoader(training_data_set, batch_size = 32, num_workers = 2)\n",
        "dev_loader = DataLoader(dev_data_set, batch_size = 32, num_workers = 2)\n",
        "\n",
        "print(\"Done preprocessing training and development data.\")"
      ],
      "outputs": [
        {
          "output_type": "stream",
          "name": "stdout",
          "text": [
            "Done preprocessing training and development data.\n"
          ]
        }
      ],
      "execution_count": null,
      "metadata": {
        "colab": {
          "base_uri": "https://localhost:8080/"
        },
        "id": "o2_T12XGz5Ym",
        "outputId": "31018ac6-d31a-4553-b450-3ab5e0883452",
        "gather": {
          "logged": 1683801464147
        }
      }
    },
    {
      "cell_type": "code",
      "source": [
        "import torch.nn as nn\n",
        "from transformers import BertModel, BertForSequenceClassification, AdamW, BertConfig\n",
        "# Load BertForSequenceClassification, the pretrained BERT model with a single \n",
        "# linear classification layer on top. \n",
        "labels = training_data.claim_label.unique()\n",
        "id2label = {idx:label for idx, label in enumerate(labels)}\n",
        "label2id = {label:idx for idx, label in enumerate(labels)}\n",
        "model = BertForSequenceClassification.from_pretrained(\n",
        "    \"bert-base-uncased\", # Use the 12-layer BERT model, with an uncased vocab.\n",
        "    num_labels = 4,\n",
        "    problem_type=\"multi_label_classification\",\n",
        "    id2label=id2label,\n",
        "    label2id=label2id\n",
        ")\n",
        "# Tell pytorch to run this model on the GPU.\n",
        "model.cuda()"
      ],
      "outputs": [
        {
          "output_type": "stream",
          "name": "stderr",
          "text": [
            "Some weights of the model checkpoint at bert-base-uncased were not used when initializing BertForSequenceClassification: ['cls.predictions.bias', 'cls.seq_relationship.bias', 'cls.seq_relationship.weight', 'cls.predictions.transform.LayerNorm.bias', 'cls.predictions.transform.LayerNorm.weight', 'cls.predictions.transform.dense.weight', 'cls.predictions.transform.dense.bias', 'cls.predictions.decoder.weight']\n",
            "- This IS expected if you are initializing BertForSequenceClassification from the checkpoint of a model trained on another task or with another architecture (e.g. initializing a BertForSequenceClassification model from a BertForPreTraining model).\n",
            "- This IS NOT expected if you are initializing BertForSequenceClassification from the checkpoint of a model that you expect to be exactly identical (initializing a BertForSequenceClassification model from a BertForSequenceClassification model).\n",
            "Some weights of BertForSequenceClassification were not initialized from the model checkpoint at bert-base-uncased and are newly initialized: ['classifier.weight', 'classifier.bias']\n",
            "You should probably TRAIN this model on a down-stream task to be able to use it for predictions and inference.\n"
          ]
        },
        {
          "output_type": "execute_result",
          "data": {
            "text/plain": [
              "BertForSequenceClassification(\n",
              "  (bert): BertModel(\n",
              "    (embeddings): BertEmbeddings(\n",
              "      (word_embeddings): Embedding(30522, 768, padding_idx=0)\n",
              "      (position_embeddings): Embedding(512, 768)\n",
              "      (token_type_embeddings): Embedding(2, 768)\n",
              "      (LayerNorm): LayerNorm((768,), eps=1e-12, elementwise_affine=True)\n",
              "      (dropout): Dropout(p=0.1, inplace=False)\n",
              "    )\n",
              "    (encoder): BertEncoder(\n",
              "      (layer): ModuleList(\n",
              "        (0-11): 12 x BertLayer(\n",
              "          (attention): BertAttention(\n",
              "            (self): BertSelfAttention(\n",
              "              (query): Linear(in_features=768, out_features=768, bias=True)\n",
              "              (key): Linear(in_features=768, out_features=768, bias=True)\n",
              "              (value): Linear(in_features=768, out_features=768, bias=True)\n",
              "              (dropout): Dropout(p=0.1, inplace=False)\n",
              "            )\n",
              "            (output): BertSelfOutput(\n",
              "              (dense): Linear(in_features=768, out_features=768, bias=True)\n",
              "              (LayerNorm): LayerNorm((768,), eps=1e-12, elementwise_affine=True)\n",
              "              (dropout): Dropout(p=0.1, inplace=False)\n",
              "            )\n",
              "          )\n",
              "          (intermediate): BertIntermediate(\n",
              "            (dense): Linear(in_features=768, out_features=3072, bias=True)\n",
              "            (intermediate_act_fn): GELUActivation()\n",
              "          )\n",
              "          (output): BertOutput(\n",
              "            (dense): Linear(in_features=3072, out_features=768, bias=True)\n",
              "            (LayerNorm): LayerNorm((768,), eps=1e-12, elementwise_affine=True)\n",
              "            (dropout): Dropout(p=0.1, inplace=False)\n",
              "          )\n",
              "        )\n",
              "      )\n",
              "    )\n",
              "    (pooler): BertPooler(\n",
              "      (dense): Linear(in_features=768, out_features=768, bias=True)\n",
              "      (activation): Tanh()\n",
              "    )\n",
              "  )\n",
              "  (dropout): Dropout(p=0.1, inplace=False)\n",
              "  (classifier): Linear(in_features=768, out_features=4, bias=True)\n",
              ")"
            ]
          },
          "metadata": {},
          "execution_count": 34
        }
      ],
      "execution_count": null,
      "metadata": {
        "colab": {
          "base_uri": "https://localhost:8080/"
        },
        "id": "WoU9_s5a0mzq",
        "outputId": "8809c515-9291-4922-c4f0-f939a5f91ee7",
        "gather": {
          "logged": 1683801502666
        }
      }
    },
    {
      "cell_type": "code",
      "source": [
        "# AdamW is an optimizer which is a Adam Optimzier with weight-decay-fix\n",
        "optimizer = AdamW(model.parameters(),\n",
        "                  lr = 2e-5, # args.learning_rate - default is 5e-5, our notebook had 2e-5\n",
        "                  eps = 1e-8 # args.adam_epsilon  - default is 1e-8.\n",
        "                )\n"
      ],
      "outputs": [
        {
          "output_type": "stream",
          "name": "stderr",
          "text": [
            "/usr/local/lib/python3.10/dist-packages/transformers/optimization.py:407: FutureWarning: This implementation of AdamW is deprecated and will be removed in a future version. Use the PyTorch implementation torch.optim.AdamW instead, or set `no_deprecation_warning=True` to disable this warning\n",
            "  warnings.warn(\n"
          ]
        }
      ],
      "execution_count": null,
      "metadata": {
        "colab": {
          "base_uri": "https://localhost:8080/"
        },
        "id": "GiDV2PQzjS5l",
        "outputId": "d5a7e4c4-a918-4ccb-a06b-5d25ae1943f7",
        "gather": {
          "logged": 1683801517136
        }
      }
    },
    {
      "cell_type": "code",
      "source": [
        "gpu = 0 #gpu ID"
      ],
      "outputs": [],
      "execution_count": null,
      "metadata": {
        "id": "-J2Z14661eNL",
        "gather": {
          "logged": 1683800304072
        }
      }
    },
    {
      "cell_type": "code",
      "source": [
        "from transformers import get_linear_schedule_with_warmup\n",
        "\n",
        "# Number of training epochs. The BERT authors recommend between 2 and 4. \n",
        "epochs = 3\n",
        "\n",
        "# Total number of training steps is [number of batches] x [number of epochs]. \n",
        "# (Note that this is not the same as the number of training samples).\n",
        "total_steps = len(train_loader) * epochs\n",
        "\n",
        "# Create the learning rate scheduler.\n",
        "scheduler = get_linear_schedule_with_warmup(optimizer, \n",
        "                                            num_warmup_steps = 0, # Default value in run_glue.py\n",
        "                                            num_training_steps = total_steps)"
      ],
      "outputs": [],
      "execution_count": null,
      "metadata": {
        "id": "wWL50y4Ltko5",
        "gather": {
          "logged": 1683801521414
        }
      }
    },
    {
      "cell_type": "code",
      "source": [
        "# Function to calculate the accuracy of our predictions vs labels\n",
        "from scipy.special import softmax\n",
        "def flat_accuracy(preds, labels):\n",
        "    softmax_pred = softmax(preds)\n",
        "    new_preds = (softmax_pred == softmax_pred.max(axis=1, keepdims=1)).astype(float)\n",
        "    pred_flat = new_preds.flatten()\n",
        "    labels_flat = labels.flatten()\n",
        "    return np.sum(pred_flat == labels_flat) / len(labels_flat)"
      ],
      "outputs": [],
      "execution_count": null,
      "metadata": {
        "id": "VYT53dPmtvVy",
        "gather": {
          "logged": 1683801532892
        }
      }
    },
    {
      "cell_type": "code",
      "source": [
        "import time\n",
        "import datetime\n",
        "\n",
        "def format_time(elapsed):\n",
        "    '''\n",
        "    Takes a time in seconds and returns a string hh:mm:ss\n",
        "    '''\n",
        "    # Round to the nearest second.\n",
        "    elapsed_rounded = int(round((elapsed)))\n",
        "    \n",
        "    # Format as hh:mm:ss\n",
        "    return str(datetime.timedelta(seconds=elapsed_rounded))"
      ],
      "outputs": [],
      "execution_count": null,
      "metadata": {
        "id": "S20etm2xtzBv",
        "gather": {
          "logged": 1683801540245
        }
      }
    },
    {
      "cell_type": "code",
      "source": [
        "import random\n",
        "import numpy as np\n",
        "# Set the seed value all over the place to make this reproducible.\n",
        "seed_val = 42\n",
        "\n",
        "random.seed(seed_val)\n",
        "np.random.seed(seed_val)\n",
        "torch.manual_seed(seed_val)\n",
        "torch.cuda.manual_seed_all(seed_val)\n",
        "\n",
        "device = torch.device(\"cuda\")\n",
        "\n",
        "# We'll store a number of quantities such as training and validation loss, \n",
        "# validation accuracy, and timings.\n",
        "training_stats = []\n",
        "\n",
        "# Measure the total training time for the whole run.\n",
        "total_t0 = time.time()\n",
        "\n",
        "# For each epoch...\n",
        "for epoch_i in range(0, epochs):\n",
        "  print('======== Epoch {:} / {:} ========'.format(epoch_i + 1, epochs))\n",
        "  t0 = time.time()\n",
        "  total_train_loss = 0\n",
        "  model.train()\n",
        "  for step, batch in enumerate(train_loader):\n",
        "    b_input_ids = batch[0].to(device)\n",
        "    b_segment_ids = batch[1].to(device)\n",
        "    b_input_mask = batch[2].to(device)\n",
        "    b_labels = batch[3].to(device)\n",
        "\n",
        "    model.zero_grad()\n",
        "\n",
        "    output = model(b_input_ids, token_type_ids=b_segment_ids, attention_mask=b_input_mask, labels=b_labels)\n",
        "    loss = output.loss\n",
        "    logits = output.logits\n",
        "    # print(output)\n",
        "\n",
        "\n",
        "    total_train_loss += loss.item()\n",
        "    loss.backward()\n",
        "    # torch.nn.utils.clip_grad_norm_(model.parameters(), 1.0)\n",
        "    optimizer.step()\n",
        "    scheduler.step()\n",
        "\n",
        "    if step % 25 == 0 and step != 0:\n",
        "      logits = logits.detach().cpu().numpy()\n",
        "      label_ids = b_labels.to('cpu').numpy()\n",
        "\n",
        "      accuracy= flat_accuracy(logits, label_ids)\n",
        "      elapsed = format_time(time.time() - t0)\n",
        "      print('  Batch {:>5,}  of  {:>5,}: Accuracy: {:>5,}   Loss: {:>5,}   Time Elapsed: {:}.'.format(step, len(train_loader), accuracy, loss.item(), elapsed))\n",
        "  \n",
        "  avg_train_loss = total_train_loss / len(train_loader)\n",
        "  training_time = format_time(time.time() - t0)\n",
        "\n",
        "  print(\"\")\n",
        "  print(\"  Average training loss: {0:.2f}\".format(avg_train_loss))\n",
        "  print(\"  Training epcoh took: {:}\".format(training_time))\n",
        "\n",
        "\n",
        "  print(\"Running Validation...\")\n",
        "\n",
        "  t0 = time.time()\n",
        "  model.eval()\n",
        "\n",
        "  # Tracking variables \n",
        "  total_eval_accuracy = 0\n",
        "  total_eval_loss = 0\n",
        "  nb_eval_steps = 0\n",
        "\n",
        "  for batch in dev_loader:\n",
        "    b_input_ids = batch[0].to(device)\n",
        "    b_segment_ids = batch[1].to(device)\n",
        "    b_input_mask = batch[2].to(device)\n",
        "    b_labels = batch[3].to(device)\n",
        "\n",
        "    with torch.no_grad():\n",
        "      output = model(b_input_ids, token_type_ids=b_segment_ids, attention_mask=b_input_mask, labels=b_labels)\n",
        "      loss = output.loss\n",
        "      logits = output.logits\n",
        "    \n",
        "    total_eval_loss += loss.item()\n",
        "\n",
        "    # Move logits and labels to CPU\n",
        "    logits = logits.detach().cpu().numpy()\n",
        "    label_ids = b_labels.to('cpu').numpy()\n",
        "\n",
        "    total_eval_accuracy += flat_accuracy(logits, label_ids)\n",
        "  \n",
        "  avg_val_accuracy = total_eval_accuracy / len(dev_loader)\n",
        "  print(\"  Accuracy: {0:.2f}\".format(avg_val_accuracy))\n",
        "  avg_val_loss = total_eval_loss / len(dev_loader)\n",
        "\n",
        "  validation_time = format_time(time.time() - t0)\n",
        "\n",
        "  print(\"  Validation Loss: {0:.2f}\".format(avg_val_loss))\n",
        "  print(\"  Validation took: {:}\".format(validation_time))\n",
        "\n",
        "  # Record all statistics from this epoch.\n",
        "  training_stats.append(\n",
        "      {\n",
        "          'epoch': epoch_i + 1,\n",
        "          'Training Loss': avg_train_loss,\n",
        "          'Valid. Loss': avg_val_loss,\n",
        "          'Valid. Accur.': avg_val_accuracy,\n",
        "          'Training Time': training_time,\n",
        "          'Validation Time': validation_time\n",
        "      }\n",
        "  )\n",
        "\n",
        "print(\"\")\n",
        "print(\"Training complete!\")\n",
        "\n",
        "print(\"Total training took {:} (h:mm:ss)\".format(format_time(time.time()-total_t0)))\n",
        "  \n",
        "\n"
      ],
      "outputs": [
        {
          "output_type": "stream",
          "name": "stdout",
          "text": [
            "======== Epoch 1 / 3 ========\n"
          ]
        }
      ],
      "execution_count": null,
      "metadata": {
        "colab": {
          "base_uri": "https://localhost:8080/"
        },
        "id": "oiwqHTLwRajj",
        "outputId": "fc84cd8f-5bc0-4c37-a296-4ae81931b2df",
        "gather": {
          "logged": 1683801780283
        }
      }
    },
    {
      "cell_type": "code",
      "source": [
        "# TESTING PHASE\n",
        "test_data_set = ClaimDataset(training_data, new_test_data, full_evidence_data, maxlen = 50, mode='test')\n",
        "\n",
        "#Creating intsances of training and development dataloaders\n",
        "test_loader = DataLoader(test_data_set, batch_size = 32, num_workers = 2)"
      ],
      "outputs": [],
      "execution_count": null,
      "metadata": {
        "id": "rWGcp291VlKN",
        "gather": {
          "logged": 1683801925407
        }
      }
    },
    {
      "cell_type": "code",
      "source": [
        "model.eval()\n",
        "\n",
        "test_prediction = []\n",
        "label_dict = {0:'SUPPORTS', 1:'NOT_ENOUGH_INFO', 2:'REFUTES', 3:'DISPUTED'}\n",
        "\n",
        "for batch in test_loader:\n",
        "  b_input_ids = batch[0].to(device)\n",
        "  b_segment_ids = batch[1].to(device)\n",
        "  b_input_mask = batch[2].to(device)\n",
        "  #    Dummy label values as we don't have ground truth\n",
        "  b_labels = batch[3].to(device)\n",
        "\n",
        "  with torch.no_grad():\n",
        "    output = model(b_input_ids, token_type_ids=b_segment_ids, attention_mask=b_input_mask, labels=b_labels)\n",
        "    logits = output.logits\n",
        "\n",
        "    # Move logits and labels to CPU\n",
        "  logits = logits.detach().cpu().numpy()\n",
        "  softmax_pred = softmax(logits)\n",
        "  new_preds = (softmax_pred == softmax_pred.max(axis=1, keepdims=1)).astype(float)\n",
        "\n",
        "  for one_hot_array in new_preds:\n",
        "    label = label_dict.get(np.argmax(one_hot_array), 'NOT_ENOUGH_INFO')\n",
        "    test_prediction.append(label)\n",
        "\n",
        "  "
      ],
      "outputs": [],
      "execution_count": null,
      "metadata": {
        "id": "684yS4lwWh-h",
        "gather": {
          "logged": 1683801943530
        }
      }
    },
    {
      "cell_type": "code",
      "source": [
        "print(test_prediction)\n",
        "print(len(test_prediction))\n",
        "print(len(test_data_set))"
      ],
      "outputs": [],
      "execution_count": null,
      "metadata": {
        "id": "IgwAuFnCjYEs",
        "gather": {
          "logged": 1683801955080
        }
      }
    },
    {
      "cell_type": "code",
      "source": [
        "print(len(new_test_data))\n",
        "new_test_data['claim_label'] = test_prediction\n",
        "print(new_test_data.head())"
      ],
      "outputs": [],
      "execution_count": null,
      "metadata": {
        "id": "gUBlYioHlnjj",
        "gather": {
          "logged": 1683801975489
        }
      }
    },
    {
      "cell_type": "code",
      "source": [
        "claim_id_list = new_test_data['claim_id'].unique()\n",
        "json_data = pd.DataFrame(columns=['claim_id','claim_text','evidences','claim_label'])\n",
        "for id in claim_id_list:\n",
        "  claim = new_test_data.loc[new_test_data.claim_id== id, 'claim_text'].values[0]\n",
        "  evidences = new_test_data.loc[new_test_data.claim_id== id, 'evidences'].values\n",
        "  labels = new_test_data.loc[new_test_data.claim_id== id, 'claim_label'].values\n",
        "  if 'SUPPORTS' in labels:\n",
        "    label = 'SUPPORTS'\n",
        "  elif 'REFUTES' in labels:\n",
        "    label = 'REFUTES'\n",
        "  elif 'DISPUTED' in labels:\n",
        "    label = 'DISPUTED'\n",
        "  else:\n",
        "    label = 'NOT_ENOUGH_INFO'\n",
        "\n",
        "  new_row = {'claim_id':id,'claim_text': claim ,'evidences':evidences,'claim_label':label}\n",
        "  json_data.loc[len(json_data)] = new_row"
      ],
      "outputs": [],
      "execution_count": null,
      "metadata": {
        "id": "eUyuqmB0p6eK",
        "gather": {
          "logged": 1683801980733
        }
      }
    },
    {
      "cell_type": "code",
      "source": [
        "json_data = json_data.set_index('claim_id')\n",
        "print(json_data)"
      ],
      "outputs": [],
      "execution_count": null,
      "metadata": {
        "id": "H5JxHooBr4Ck",
        "gather": {
          "logged": 1683801986170
        }
      }
    },
    {
      "cell_type": "code",
      "source": [
        "# TO JSON \n",
        "json_result = json_data.to_json(orient='index')"
      ],
      "outputs": [],
      "execution_count": null,
      "metadata": {
        "id": "5ppIpbQwus_6",
        "gather": {
          "logged": 1683802000093
        }
      }
    },
    {
      "cell_type": "code",
      "source": [
        "from google.colab import files\n",
        "with open('test-claims-predictions.json', 'w') as f:\n",
        "  f.write(str(json_result))\n",
        "\n",
        "files.download('test-claims-predictions.json')"
      ],
      "outputs": [],
      "execution_count": null,
      "metadata": {
        "id": "tYMcs01Du5O2",
        "gather": {
          "logged": 1683803383512
        }
      }
    }
  ],
  "metadata": {
    "colab": {
      "provenance": [],
      "gpuType": "T4"
    },
    "accelerator": "GPU",
    "gpuClass": "standard",
    "microsoft": {
      "ms_spell_check": {
        "ms_spell_check_language": "en"
      }
    },
    "widgets": {
      "application/vnd.jupyter.widget-state+json": {
        "407e8547cf3a4bea823b8418fdcfe9db": {
          "model_module": "@jupyter-widgets/controls",
          "model_name": "HBoxModel",
          "model_module_version": "1.5.0",
          "state": {
            "_dom_classes": [],
            "_model_module": "@jupyter-widgets/controls",
            "_model_module_version": "1.5.0",
            "_model_name": "HBoxModel",
            "_view_count": null,
            "_view_module": "@jupyter-widgets/controls",
            "_view_module_version": "1.5.0",
            "_view_name": "HBoxView",
            "box_style": "",
            "children": [
              "IPY_MODEL_d185c73661ff4616bdb421e89f591387",
              "IPY_MODEL_749f4dbe9d34428d8e35a27e497296c9",
              "IPY_MODEL_e453e50295d041289e0f15eca855740a"
            ],
            "layout": "IPY_MODEL_dee6d4a01959497291cdfa3e4c58a4af"
          }
        },
        "d185c73661ff4616bdb421e89f591387": {
          "model_module": "@jupyter-widgets/controls",
          "model_name": "HTMLModel",
          "model_module_version": "1.5.0",
          "state": {
            "_dom_classes": [],
            "_model_module": "@jupyter-widgets/controls",
            "_model_module_version": "1.5.0",
            "_model_name": "HTMLModel",
            "_view_count": null,
            "_view_module": "@jupyter-widgets/controls",
            "_view_module_version": "1.5.0",
            "_view_name": "HTMLView",
            "description": "",
            "description_tooltip": null,
            "layout": "IPY_MODEL_7c21fd79d49946d2b211e81397ab0291",
            "placeholder": "​",
            "style": "IPY_MODEL_344659160fcc4e5ba2cdcbab284f4348",
            "value": "100%"
          }
        },
        "749f4dbe9d34428d8e35a27e497296c9": {
          "model_module": "@jupyter-widgets/controls",
          "model_name": "FloatProgressModel",
          "model_module_version": "1.5.0",
          "state": {
            "_dom_classes": [],
            "_model_module": "@jupyter-widgets/controls",
            "_model_module_version": "1.5.0",
            "_model_name": "FloatProgressModel",
            "_view_count": null,
            "_view_module": "@jupyter-widgets/controls",
            "_view_module_version": "1.5.0",
            "_view_name": "ProgressView",
            "bar_style": "success",
            "description": "",
            "description_tooltip": null,
            "layout": "IPY_MODEL_8d127de929784548b5c7b0175df05dab",
            "max": 1209,
            "min": 0,
            "orientation": "horizontal",
            "style": "IPY_MODEL_39298fc22603485d83296fd63fe2590c",
            "value": 1209
          }
        },
        "e453e50295d041289e0f15eca855740a": {
          "model_module": "@jupyter-widgets/controls",
          "model_name": "HTMLModel",
          "model_module_version": "1.5.0",
          "state": {
            "_dom_classes": [],
            "_model_module": "@jupyter-widgets/controls",
            "_model_module_version": "1.5.0",
            "_model_name": "HTMLModel",
            "_view_count": null,
            "_view_module": "@jupyter-widgets/controls",
            "_view_module_version": "1.5.0",
            "_view_name": "HTMLView",
            "description": "",
            "description_tooltip": null,
            "layout": "IPY_MODEL_730bd6df57a5406a9e9fd628cfd04863",
            "placeholder": "​",
            "style": "IPY_MODEL_2b331a77add24704a3053ca6817513d1",
            "value": " 1209/1209 [00:19&lt;00:00, 120.59it/s]"
          }
        },
        "dee6d4a01959497291cdfa3e4c58a4af": {
          "model_module": "@jupyter-widgets/base",
          "model_name": "LayoutModel",
          "model_module_version": "1.2.0",
          "state": {
            "_model_module": "@jupyter-widgets/base",
            "_model_module_version": "1.2.0",
            "_model_name": "LayoutModel",
            "_view_count": null,
            "_view_module": "@jupyter-widgets/base",
            "_view_module_version": "1.2.0",
            "_view_name": "LayoutView",
            "align_content": null,
            "align_items": null,
            "align_self": null,
            "border": null,
            "bottom": null,
            "display": null,
            "flex": null,
            "flex_flow": null,
            "grid_area": null,
            "grid_auto_columns": null,
            "grid_auto_flow": null,
            "grid_auto_rows": null,
            "grid_column": null,
            "grid_gap": null,
            "grid_row": null,
            "grid_template_areas": null,
            "grid_template_columns": null,
            "grid_template_rows": null,
            "height": null,
            "justify_content": null,
            "justify_items": null,
            "left": null,
            "margin": null,
            "max_height": null,
            "max_width": null,
            "min_height": null,
            "min_width": null,
            "object_fit": null,
            "object_position": null,
            "order": null,
            "overflow": null,
            "overflow_x": null,
            "overflow_y": null,
            "padding": null,
            "right": null,
            "top": null,
            "visibility": null,
            "width": null
          }
        },
        "7c21fd79d49946d2b211e81397ab0291": {
          "model_module": "@jupyter-widgets/base",
          "model_name": "LayoutModel",
          "model_module_version": "1.2.0",
          "state": {
            "_model_module": "@jupyter-widgets/base",
            "_model_module_version": "1.2.0",
            "_model_name": "LayoutModel",
            "_view_count": null,
            "_view_module": "@jupyter-widgets/base",
            "_view_module_version": "1.2.0",
            "_view_name": "LayoutView",
            "align_content": null,
            "align_items": null,
            "align_self": null,
            "border": null,
            "bottom": null,
            "display": null,
            "flex": null,
            "flex_flow": null,
            "grid_area": null,
            "grid_auto_columns": null,
            "grid_auto_flow": null,
            "grid_auto_rows": null,
            "grid_column": null,
            "grid_gap": null,
            "grid_row": null,
            "grid_template_areas": null,
            "grid_template_columns": null,
            "grid_template_rows": null,
            "height": null,
            "justify_content": null,
            "justify_items": null,
            "left": null,
            "margin": null,
            "max_height": null,
            "max_width": null,
            "min_height": null,
            "min_width": null,
            "object_fit": null,
            "object_position": null,
            "order": null,
            "overflow": null,
            "overflow_x": null,
            "overflow_y": null,
            "padding": null,
            "right": null,
            "top": null,
            "visibility": null,
            "width": null
          }
        },
        "344659160fcc4e5ba2cdcbab284f4348": {
          "model_module": "@jupyter-widgets/controls",
          "model_name": "DescriptionStyleModel",
          "model_module_version": "1.5.0",
          "state": {
            "_model_module": "@jupyter-widgets/controls",
            "_model_module_version": "1.5.0",
            "_model_name": "DescriptionStyleModel",
            "_view_count": null,
            "_view_module": "@jupyter-widgets/base",
            "_view_module_version": "1.2.0",
            "_view_name": "StyleView",
            "description_width": ""
          }
        },
        "8d127de929784548b5c7b0175df05dab": {
          "model_module": "@jupyter-widgets/base",
          "model_name": "LayoutModel",
          "model_module_version": "1.2.0",
          "state": {
            "_model_module": "@jupyter-widgets/base",
            "_model_module_version": "1.2.0",
            "_model_name": "LayoutModel",
            "_view_count": null,
            "_view_module": "@jupyter-widgets/base",
            "_view_module_version": "1.2.0",
            "_view_name": "LayoutView",
            "align_content": null,
            "align_items": null,
            "align_self": null,
            "border": null,
            "bottom": null,
            "display": null,
            "flex": null,
            "flex_flow": null,
            "grid_area": null,
            "grid_auto_columns": null,
            "grid_auto_flow": null,
            "grid_auto_rows": null,
            "grid_column": null,
            "grid_gap": null,
            "grid_row": null,
            "grid_template_areas": null,
            "grid_template_columns": null,
            "grid_template_rows": null,
            "height": null,
            "justify_content": null,
            "justify_items": null,
            "left": null,
            "margin": null,
            "max_height": null,
            "max_width": null,
            "min_height": null,
            "min_width": null,
            "object_fit": null,
            "object_position": null,
            "order": null,
            "overflow": null,
            "overflow_x": null,
            "overflow_y": null,
            "padding": null,
            "right": null,
            "top": null,
            "visibility": null,
            "width": null
          }
        },
        "39298fc22603485d83296fd63fe2590c": {
          "model_module": "@jupyter-widgets/controls",
          "model_name": "ProgressStyleModel",
          "model_module_version": "1.5.0",
          "state": {
            "_model_module": "@jupyter-widgets/controls",
            "_model_module_version": "1.5.0",
            "_model_name": "ProgressStyleModel",
            "_view_count": null,
            "_view_module": "@jupyter-widgets/base",
            "_view_module_version": "1.2.0",
            "_view_name": "StyleView",
            "bar_color": null,
            "description_width": ""
          }
        },
        "730bd6df57a5406a9e9fd628cfd04863": {
          "model_module": "@jupyter-widgets/base",
          "model_name": "LayoutModel",
          "model_module_version": "1.2.0",
          "state": {
            "_model_module": "@jupyter-widgets/base",
            "_model_module_version": "1.2.0",
            "_model_name": "LayoutModel",
            "_view_count": null,
            "_view_module": "@jupyter-widgets/base",
            "_view_module_version": "1.2.0",
            "_view_name": "LayoutView",
            "align_content": null,
            "align_items": null,
            "align_self": null,
            "border": null,
            "bottom": null,
            "display": null,
            "flex": null,
            "flex_flow": null,
            "grid_area": null,
            "grid_auto_columns": null,
            "grid_auto_flow": null,
            "grid_auto_rows": null,
            "grid_column": null,
            "grid_gap": null,
            "grid_row": null,
            "grid_template_areas": null,
            "grid_template_columns": null,
            "grid_template_rows": null,
            "height": null,
            "justify_content": null,
            "justify_items": null,
            "left": null,
            "margin": null,
            "max_height": null,
            "max_width": null,
            "min_height": null,
            "min_width": null,
            "object_fit": null,
            "object_position": null,
            "order": null,
            "overflow": null,
            "overflow_x": null,
            "overflow_y": null,
            "padding": null,
            "right": null,
            "top": null,
            "visibility": null,
            "width": null
          }
        },
        "2b331a77add24704a3053ca6817513d1": {
          "model_module": "@jupyter-widgets/controls",
          "model_name": "DescriptionStyleModel",
          "model_module_version": "1.5.0",
          "state": {
            "_model_module": "@jupyter-widgets/controls",
            "_model_module_version": "1.5.0",
            "_model_name": "DescriptionStyleModel",
            "_view_count": null,
            "_view_module": "@jupyter-widgets/base",
            "_view_module_version": "1.2.0",
            "_view_name": "StyleView",
            "description_width": ""
          }
        }
      }
    },
    "kernel_info": {
      "name": "python38-azureml-pt-tf"
    },
    "language_info": {
      "name": "python"
    },
    "kernelspec": {
      "name": "python3",
      "display_name": "Python 3"
    },
    "nteract": {
      "version": "nteract-front-end@1.0.0"
    }
  },
  "nbformat": 4,
  "nbformat_minor": 0
}